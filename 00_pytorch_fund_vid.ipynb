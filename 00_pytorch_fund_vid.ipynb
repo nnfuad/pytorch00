{
  "nbformat": 4,
  "nbformat_minor": 0,
  "metadata": {
    "colab": {
      "provenance": [],
      "gpuType": "T4",
      "authorship_tag": "ABX9TyMnR0Tnaks9ldxI3VQhBXfl",
      "include_colab_link": true
    },
    "kernelspec": {
      "name": "python3",
      "display_name": "Python 3"
    },
    "language_info": {
      "name": "python"
    },
    "accelerator": "GPU"
  },
  "cells": [
    {
      "cell_type": "markdown",
      "metadata": {
        "id": "view-in-github",
        "colab_type": "text"
      },
      "source": [
        "<a href=\"https://colab.research.google.com/github/nnfuad/pytorch00/blob/main/00_pytorch_fund_vid.ipynb\" target=\"_parent\"><img src=\"https://colab.research.google.com/assets/colab-badge.svg\" alt=\"Open In Colab\"/></a>"
      ]
    },
    {
      "cell_type": "markdown",
      "source": [
        "00. Pytorch fundamentals\n",
        "\n",
        "Resource notebook: https://www.learnpytorch.io/00_pytorch_fundamentals/\n",
        "\n",
        "If you have a question: https://github.com/mrdbourke/pytorch-deep-learning/discussions\n"
      ],
      "metadata": {
        "id": "0V3KasZGoe3I"
      }
    },
    {
      "cell_type": "markdown",
      "source": [],
      "metadata": {
        "id": "_hvKuZmMoclA"
      }
    },
    {
      "cell_type": "code",
      "execution_count": 35,
      "metadata": {
        "colab": {
          "base_uri": "https://localhost:8080/"
        },
        "id": "qDIxYhWnmoMz",
        "outputId": "d05f6efa-5382-4ba4-bdc9-f36acc5ee3d3"
      },
      "outputs": [
        {
          "output_type": "stream",
          "name": "stdout",
          "text": [
            "2.3.1+cu121\n"
          ]
        }
      ],
      "source": [
        "import torch\n",
        "import pandas as pd\n",
        "import numpy as np\n",
        "import matplotlib.pyplot as plt\n",
        "\n",
        "print(torch.__version__)"
      ]
    },
    {
      "cell_type": "code",
      "source": [
        "!nvidia-smi"
      ],
      "metadata": {
        "colab": {
          "base_uri": "https://localhost:8080/"
        },
        "id": "GZAVjhMqqVtW",
        "outputId": "58527be1-dc13-45b5-9631-cc10d500c79f"
      },
      "execution_count": 36,
      "outputs": [
        {
          "output_type": "stream",
          "name": "stdout",
          "text": [
            "Sun Aug 18 15:42:03 2024       \n",
            "+---------------------------------------------------------------------------------------+\n",
            "| NVIDIA-SMI 535.104.05             Driver Version: 535.104.05   CUDA Version: 12.2     |\n",
            "|-----------------------------------------+----------------------+----------------------+\n",
            "| GPU  Name                 Persistence-M | Bus-Id        Disp.A | Volatile Uncorr. ECC |\n",
            "| Fan  Temp   Perf          Pwr:Usage/Cap |         Memory-Usage | GPU-Util  Compute M. |\n",
            "|                                         |                      |               MIG M. |\n",
            "|=========================================+======================+======================|\n",
            "|   0  Tesla T4                       Off | 00000000:00:04.0 Off |                    0 |\n",
            "| N/A   39C    P8               9W /  70W |      0MiB / 15360MiB |      0%      Default |\n",
            "|                                         |                      |                  N/A |\n",
            "+-----------------------------------------+----------------------+----------------------+\n",
            "                                                                                         \n",
            "+---------------------------------------------------------------------------------------+\n",
            "| Processes:                                                                            |\n",
            "|  GPU   GI   CI        PID   Type   Process name                            GPU Memory |\n",
            "|        ID   ID                                                             Usage      |\n",
            "|=======================================================================================|\n",
            "|  No running processes found                                                           |\n",
            "+---------------------------------------------------------------------------------------+\n"
          ]
        }
      ]
    },
    {
      "cell_type": "markdown",
      "source": [
        "\n",
        "## Introduction to tensors\n",
        "### way represent data(mostly multidimensional)\n",
        "\n",
        "###Creating tensors\n",
        "\n",
        "PyTorch tensors are created using `torch.tensor()` more at-https://pytorch.org/docs/stable/tensors.html"
      ],
      "metadata": {
        "id": "Uur_8HZrqYeC"
      }
    },
    {
      "cell_type": "markdown",
      "source": [],
      "metadata": {
        "id": "jn1Aj25o6wUT"
      }
    },
    {
      "cell_type": "code",
      "source": [
        "# scalar\n",
        "scalar = torch.tensor(7)\n",
        "scalar"
      ],
      "metadata": {
        "colab": {
          "base_uri": "https://localhost:8080/"
        },
        "id": "7130HoFw7lby",
        "outputId": "edcc5511-bab7-4b90-8b89-4c6fdf86d26e"
      },
      "execution_count": 37,
      "outputs": [
        {
          "output_type": "execute_result",
          "data": {
            "text/plain": [
              "tensor(7)"
            ]
          },
          "metadata": {},
          "execution_count": 37
        }
      ]
    },
    {
      "cell_type": "code",
      "source": [
        "#scalar(0) doesnt work like matrices or vectors"
      ],
      "metadata": {
        "id": "ZUbgYUFwwEVp"
      },
      "execution_count": 38,
      "outputs": []
    },
    {
      "cell_type": "markdown",
      "source": [
        "##### many dimensions of scalar are there...to find out what dimension in scalar tensor: run `scalar.ndim`"
      ],
      "metadata": {
        "id": "xTidb6Qp71an"
      }
    },
    {
      "cell_type": "code",
      "source": [
        "scalar.ndim"
      ],
      "metadata": {
        "colab": {
          "base_uri": "https://localhost:8080/"
        },
        "id": "KEusbetK9dtu",
        "outputId": "fc70e2b9-21a2-476e-8ade-317b0e63e43b"
      },
      "execution_count": 39,
      "outputs": [
        {
          "output_type": "execute_result",
          "data": {
            "text/plain": [
              "0"
            ]
          },
          "metadata": {},
          "execution_count": 39
        }
      ]
    },
    {
      "cell_type": "markdown",
      "source": [
        "###### get tensor back as py int use `item()`"
      ],
      "metadata": {
        "id": "HrmrXid2-D6g"
      }
    },
    {
      "cell_type": "code",
      "source": [
        "scalar.item()"
      ],
      "metadata": {
        "colab": {
          "base_uri": "https://localhost:8080/"
        },
        "id": "mjspcrZf-QDY",
        "outputId": "783ce14b-f633-4863-e807-4c9edfa703d7"
      },
      "execution_count": 40,
      "outputs": [
        {
          "output_type": "execute_result",
          "data": {
            "text/plain": [
              "7"
            ]
          },
          "metadata": {},
          "execution_count": 40
        }
      ]
    },
    {
      "cell_type": "code",
      "source": [
        "scalar.shape"
      ],
      "metadata": {
        "colab": {
          "base_uri": "https://localhost:8080/"
        },
        "id": "ayFybTXywxsi",
        "outputId": "9bb93126-b2c5-4cd2-e78d-4171a57c763d"
      },
      "execution_count": 41,
      "outputs": [
        {
          "output_type": "execute_result",
          "data": {
            "text/plain": [
              "torch.Size([])"
            ]
          },
          "metadata": {},
          "execution_count": 41
        }
      ]
    },
    {
      "cell_type": "markdown",
      "source": [
        "##### vector has 2 values...Dimension and Shape"
      ],
      "metadata": {
        "id": "6QE1oZE2_f3m"
      }
    },
    {
      "cell_type": "code",
      "source": [
        "#vector\n",
        "vector = torch.tensor([7, 4])\n",
        "vector"
      ],
      "metadata": {
        "colab": {
          "base_uri": "https://localhost:8080/"
        },
        "id": "XahVN1hm-aze",
        "outputId": "6ea212b3-3efc-4220-a52e-b201db66798c"
      },
      "execution_count": 42,
      "outputs": [
        {
          "output_type": "execute_result",
          "data": {
            "text/plain": [
              "tensor([7, 4])"
            ]
          },
          "metadata": {},
          "execution_count": 42
        }
      ]
    },
    {
      "cell_type": "code",
      "source": [
        "vector[1]"
      ],
      "metadata": {
        "colab": {
          "base_uri": "https://localhost:8080/"
        },
        "id": "G5rUunhsvwxQ",
        "outputId": "149fba54-b2ce-4be0-f7c2-ace1edebebb5"
      },
      "execution_count": 43,
      "outputs": [
        {
          "output_type": "execute_result",
          "data": {
            "text/plain": [
              "tensor(4)"
            ]
          },
          "metadata": {},
          "execution_count": 43
        }
      ]
    },
    {
      "cell_type": "markdown",
      "source": [
        "##### many dimensions of scalar are there...to find out what dimension in vector tensor: run `vector.ndim`"
      ],
      "metadata": {
        "id": "LWgwcC40-_bb"
      }
    },
    {
      "cell_type": "code",
      "source": [
        "vector.ndim"
      ],
      "metadata": {
        "colab": {
          "base_uri": "https://localhost:8080/"
        },
        "id": "UdGHFrBf_ROH",
        "outputId": "6b7040c9-a4d7-48b6-f224-9939279df206"
      },
      "execution_count": 44,
      "outputs": [
        {
          "output_type": "execute_result",
          "data": {
            "text/plain": [
              "1"
            ]
          },
          "metadata": {},
          "execution_count": 44
        }
      ]
    },
    {
      "cell_type": "code",
      "source": [
        "vector.shape"
      ],
      "metadata": {
        "colab": {
          "base_uri": "https://localhost:8080/"
        },
        "id": "NTtYbLw7_tJX",
        "outputId": "a5db1ec5-4bc7-4f88-d7db-127ebb783329"
      },
      "execution_count": 45,
      "outputs": [
        {
          "output_type": "execute_result",
          "data": {
            "text/plain": [
              "torch.Size([2])"
            ]
          },
          "metadata": {},
          "execution_count": 45
        }
      ]
    },
    {
      "cell_type": "code",
      "source": [
        "#Matrix\n",
        "MATRIX = torch.tensor([[7,8],\n",
        "                      [9,10]])\n",
        "MATRIX"
      ],
      "metadata": {
        "colab": {
          "base_uri": "https://localhost:8080/"
        },
        "id": "8Sq5V3r_t9jY",
        "outputId": "d4b6735b-f390-481f-a660-2da28d081dd6"
      },
      "execution_count": 46,
      "outputs": [
        {
          "output_type": "execute_result",
          "data": {
            "text/plain": [
              "tensor([[ 7,  8],\n",
              "        [ 9, 10]])"
            ]
          },
          "metadata": {},
          "execution_count": 46
        }
      ]
    },
    {
      "cell_type": "code",
      "source": [
        "MATRIX[0]"
      ],
      "metadata": {
        "colab": {
          "base_uri": "https://localhost:8080/"
        },
        "id": "Bh9rVu-jv9db",
        "outputId": "ea550e17-32e9-4ed6-8a9e-f4b494a21f3e"
      },
      "execution_count": 47,
      "outputs": [
        {
          "output_type": "execute_result",
          "data": {
            "text/plain": [
              "tensor([7, 8])"
            ]
          },
          "metadata": {},
          "execution_count": 47
        }
      ]
    },
    {
      "cell_type": "code",
      "source": [
        "MATRIX.ndim"
      ],
      "metadata": {
        "colab": {
          "base_uri": "https://localhost:8080/"
        },
        "id": "k8eQiw12vXj-",
        "outputId": "d4d94a30-127e-4ea2-c63d-598f9d2b5b9f"
      },
      "execution_count": 48,
      "outputs": [
        {
          "output_type": "execute_result",
          "data": {
            "text/plain": [
              "2"
            ]
          },
          "metadata": {},
          "execution_count": 48
        }
      ]
    },
    {
      "cell_type": "code",
      "source": [
        "MATRIX.shape"
      ],
      "metadata": {
        "colab": {
          "base_uri": "https://localhost:8080/"
        },
        "id": "vWF3KIOqvnDt",
        "outputId": "4396b5b5-ed7e-4607-ea4d-c251932abc9f"
      },
      "execution_count": 49,
      "outputs": [
        {
          "output_type": "execute_result",
          "data": {
            "text/plain": [
              "torch.Size([2, 2])"
            ]
          },
          "metadata": {},
          "execution_count": 49
        }
      ]
    },
    {
      "cell_type": "code",
      "source": [
        "#TENSOR\n",
        "TENSOR = torch.tensor([[[1,2,3],\n",
        "                       [3,6,9],\n",
        "                       [2,4,5]]])\n",
        "TENSOR"
      ],
      "metadata": {
        "colab": {
          "base_uri": "https://localhost:8080/"
        },
        "id": "kC_V7pewwQrM",
        "outputId": "40f2abfe-15a5-40cd-b715-58e57fffab86"
      },
      "execution_count": 50,
      "outputs": [
        {
          "output_type": "execute_result",
          "data": {
            "text/plain": [
              "tensor([[[1, 2, 3],\n",
              "         [3, 6, 9],\n",
              "         [2, 4, 5]]])"
            ]
          },
          "metadata": {},
          "execution_count": 50
        }
      ]
    },
    {
      "cell_type": "code",
      "source": [
        "TENSOR.ndim"
      ],
      "metadata": {
        "colab": {
          "base_uri": "https://localhost:8080/"
        },
        "id": "uAEGxlc_0Lik",
        "outputId": "4f3264ef-c2dc-496d-ca92-e5764acc702e"
      },
      "execution_count": 51,
      "outputs": [
        {
          "output_type": "execute_result",
          "data": {
            "text/plain": [
              "3"
            ]
          },
          "metadata": {},
          "execution_count": 51
        }
      ]
    },
    {
      "cell_type": "code",
      "source": [
        "TENSOR.shape"
      ],
      "metadata": {
        "colab": {
          "base_uri": "https://localhost:8080/"
        },
        "id": "7lE3s16O0kcr",
        "outputId": "4b8a73cb-0edb-4188-c503-86e0acb3c822"
      },
      "execution_count": 52,
      "outputs": [
        {
          "output_type": "execute_result",
          "data": {
            "text/plain": [
              "torch.Size([1, 3, 3])"
            ]
          },
          "metadata": {},
          "execution_count": 52
        }
      ]
    },
    {
      "cell_type": "code",
      "source": [
        "TENSOR[0]"
      ],
      "metadata": {
        "colab": {
          "base_uri": "https://localhost:8080/"
        },
        "id": "k5Q9F5e-0sP_",
        "outputId": "97debf6c-5759-42dd-fe2f-81984ab77a60"
      },
      "execution_count": 53,
      "outputs": [
        {
          "output_type": "execute_result",
          "data": {
            "text/plain": [
              "tensor([[1, 2, 3],\n",
              "        [3, 6, 9],\n",
              "        [2, 4, 5]])"
            ]
          },
          "metadata": {},
          "execution_count": 53
        }
      ]
    },
    {
      "cell_type": "code",
      "source": [
        "#PRACTICE TENSORS 1\n",
        "tensor1 = torch.tensor([1])\n",
        "print(tensor1.ndim)\n",
        "print(tensor1.shape)\n",
        "print(tensor1[0])\n",
        "tensor1\n"
      ],
      "metadata": {
        "colab": {
          "base_uri": "https://localhost:8080/"
        },
        "id": "3ceN5YO--33m",
        "outputId": "88a5c47f-eb0b-42e8-bbf3-dcbb53bf8910"
      },
      "execution_count": 54,
      "outputs": [
        {
          "output_type": "stream",
          "name": "stdout",
          "text": [
            "1\n",
            "torch.Size([1])\n",
            "tensor(1)\n"
          ]
        },
        {
          "output_type": "execute_result",
          "data": {
            "text/plain": [
              "tensor([1])"
            ]
          },
          "metadata": {},
          "execution_count": 54
        }
      ]
    },
    {
      "cell_type": "code",
      "source": [
        "#PRACTICE TENSORS 2\n",
        "#tensor2 = torch.tensor([1],[2],[3])\n",
        "#TypeError: tensor() takes 1 positional argument but 3 were given\n",
        "#WE HAVE TO MAKE IT LIKE A 2D TENSOR OR WE CAN ADD INSIDE THE SINGLES WHICH WILL REMAIN A 1D TENSOR\n",
        "tensor2 = torch.tensor([1,2,3,4,55,52,54,5,353])\n",
        "print(tensor2.ndim)\n",
        "print(tensor2.shape)\n",
        "print(tensor2[4])\n",
        "tensor2\n"
      ],
      "metadata": {
        "colab": {
          "base_uri": "https://localhost:8080/"
        },
        "id": "rPS45TyP_onW",
        "outputId": "91dfa7d3-18aa-4f37-89a1-c07fd700474f"
      },
      "execution_count": 55,
      "outputs": [
        {
          "output_type": "stream",
          "name": "stdout",
          "text": [
            "1\n",
            "torch.Size([9])\n",
            "tensor(55)\n"
          ]
        },
        {
          "output_type": "execute_result",
          "data": {
            "text/plain": [
              "tensor([  1,   2,   3,   4,  55,  52,  54,   5, 353])"
            ]
          },
          "metadata": {},
          "execution_count": 55
        }
      ]
    },
    {
      "cell_type": "code",
      "source": [
        "#PRACTICE TENSORS 3\n",
        "#The below code doesnt work cuz:\n",
        "#ValueError: expected sequence of length 2 at dim 1 (got 3)\n",
        "#tensor3 = torch.tensor([[1,2],\n",
        "#                        [1,2,3],\n",
        "#                        [4]])\n",
        "tensor3 = torch.tensor([[1,2,3],\n",
        "                        [11,12,13],\n",
        "                        [4,5,6]])\n",
        "print(tensor3.ndim)\n",
        "print(tensor3.shape)\n",
        "print(tensor3[2])\n",
        "print(tensor3[1,2])\n",
        "tensor3\n"
      ],
      "metadata": {
        "colab": {
          "base_uri": "https://localhost:8080/"
        },
        "id": "AsKQnUzLBxXr",
        "outputId": "b3155d22-ec70-46c3-e3a3-ef1dd67d124e"
      },
      "execution_count": 56,
      "outputs": [
        {
          "output_type": "stream",
          "name": "stdout",
          "text": [
            "2\n",
            "torch.Size([3, 3])\n",
            "tensor([4, 5, 6])\n",
            "tensor(13)\n"
          ]
        },
        {
          "output_type": "execute_result",
          "data": {
            "text/plain": [
              "tensor([[ 1,  2,  3],\n",
              "        [11, 12, 13],\n",
              "        [ 4,  5,  6]])"
            ]
          },
          "metadata": {},
          "execution_count": 56
        }
      ]
    },
    {
      "cell_type": "code",
      "source": [
        "#PRACTICE TENSORS 4\n",
        "\n",
        "tensor4 = torch.tensor([[1,2,3,4,65],\n",
        "                        [11,12,13,89,56],\n",
        "                        [44,5,6,10,5],\n",
        "                        [1,2,3,46,6]])\n",
        "print(tensor4.ndim)\n",
        "print(tensor4.shape)\n",
        "print(tensor4[2])\n",
        "print(tensor4[1,2])\n",
        "tensor4\n"
      ],
      "metadata": {
        "id": "KH4eAV2QF2l_",
        "colab": {
          "base_uri": "https://localhost:8080/"
        },
        "outputId": "c527cd00-51a5-43a0-8994-d84a1005e073"
      },
      "execution_count": 57,
      "outputs": [
        {
          "output_type": "stream",
          "name": "stdout",
          "text": [
            "2\n",
            "torch.Size([4, 5])\n",
            "tensor([44,  5,  6, 10,  5])\n",
            "tensor(13)\n"
          ]
        },
        {
          "output_type": "execute_result",
          "data": {
            "text/plain": [
              "tensor([[ 1,  2,  3,  4, 65],\n",
              "        [11, 12, 13, 89, 56],\n",
              "        [44,  5,  6, 10,  5],\n",
              "        [ 1,  2,  3, 46,  6]])"
            ]
          },
          "metadata": {},
          "execution_count": 57
        }
      ]
    },
    {
      "cell_type": "code",
      "source": [
        "#PRACTICE TENSORS 5\n",
        "\n",
        "tensor5 = torch.tensor([[[1,2,3,4,65],\n",
        "                        [11,12,13,89,56],\n",
        "                        [44,5,6,10,5],\n",
        "                        [1,2,3,46,6]]])\n",
        "print(tensor5.ndim)\n",
        "print(tensor5.shape)\n",
        "\n",
        "#print(tensor5[2]) not possible cuz:\n",
        "#IndexError: index 2 is out of bounds for dimension 0 with size SOOO....:\n",
        "print(tensor5[0,1])\n",
        "\n",
        "#print(tensor5[1,2]) not possible cuz:\n",
        "#index 1 is out of bounds for dimension 0 with size 1 SOOOO....:\n",
        "print(tensor5[0,2,3])\n",
        "\n",
        "tensor5\n"
      ],
      "metadata": {
        "colab": {
          "base_uri": "https://localhost:8080/"
        },
        "id": "ycVqI-XPIm11",
        "outputId": "227a87f9-ac14-44b0-e4f1-d134977e97e8"
      },
      "execution_count": 58,
      "outputs": [
        {
          "output_type": "stream",
          "name": "stdout",
          "text": [
            "3\n",
            "torch.Size([1, 4, 5])\n",
            "tensor([11, 12, 13, 89, 56])\n",
            "tensor(10)\n"
          ]
        },
        {
          "output_type": "execute_result",
          "data": {
            "text/plain": [
              "tensor([[[ 1,  2,  3,  4, 65],\n",
              "         [11, 12, 13, 89, 56],\n",
              "         [44,  5,  6, 10,  5],\n",
              "         [ 1,  2,  3, 46,  6]]])"
            ]
          },
          "metadata": {},
          "execution_count": 58
        }
      ]
    },
    {
      "cell_type": "code",
      "source": [],
      "metadata": {
        "id": "ckI9bspVJEDK"
      },
      "execution_count": 58,
      "outputs": []
    }
  ]
}
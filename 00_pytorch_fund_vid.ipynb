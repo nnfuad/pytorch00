{
  "nbformat": 4,
  "nbformat_minor": 0,
  "metadata": {
    "colab": {
      "provenance": [],
      "gpuType": "T4",
      "authorship_tag": "ABX9TyNbKmVR3sRcFZGy6ftDp39a",
      "include_colab_link": true
    },
    "kernelspec": {
      "name": "python3",
      "display_name": "Python 3"
    },
    "language_info": {
      "name": "python"
    },
    "accelerator": "GPU"
  },
  "cells": [
    {
      "cell_type": "markdown",
      "metadata": {
        "id": "view-in-github",
        "colab_type": "text"
      },
      "source": [
        "<a href=\"https://colab.research.google.com/github/nnfuad/pytorch00/blob/main/00_pytorch_fund_vid.ipynb\" target=\"_parent\"><img src=\"https://colab.research.google.com/assets/colab-badge.svg\" alt=\"Open In Colab\"/></a>"
      ]
    },
    {
      "cell_type": "markdown",
      "source": [
        "00. Pytorch fundamentals\n",
        "\n",
        "Resource notebook: https://www.learnpytorch.io/00_pytorch_fundamentals/\n",
        "\n",
        "If you have a question: https://github.com/mrdbourke/pytorch-deep-learning/discussions\n"
      ],
      "metadata": {
        "id": "0V3KasZGoe3I"
      }
    },
    {
      "cell_type": "markdown",
      "source": [],
      "metadata": {
        "id": "_hvKuZmMoclA"
      }
    },
    {
      "cell_type": "code",
      "execution_count": 35,
      "metadata": {
        "colab": {
          "base_uri": "https://localhost:8080/"
        },
        "id": "qDIxYhWnmoMz",
        "outputId": "d05f6efa-5382-4ba4-bdc9-f36acc5ee3d3"
      },
      "outputs": [
        {
          "output_type": "stream",
          "name": "stdout",
          "text": [
            "2.3.1+cu121\n"
          ]
        }
      ],
      "source": [
        "import torch\n",
        "import pandas as pd\n",
        "import numpy as np\n",
        "import matplotlib.pyplot as plt\n",
        "\n",
        "print(torch.__version__)"
      ]
    },
    {
      "cell_type": "code",
      "source": [
        "!nvidia-smi"
      ],
      "metadata": {
        "colab": {
          "base_uri": "https://localhost:8080/"
        },
        "id": "GZAVjhMqqVtW",
        "outputId": "58527be1-dc13-45b5-9631-cc10d500c79f"
      },
      "execution_count": 36,
      "outputs": [
        {
          "output_type": "stream",
          "name": "stdout",
          "text": [
            "Sun Aug 18 15:42:03 2024       \n",
            "+---------------------------------------------------------------------------------------+\n",
            "| NVIDIA-SMI 535.104.05             Driver Version: 535.104.05   CUDA Version: 12.2     |\n",
            "|-----------------------------------------+----------------------+----------------------+\n",
            "| GPU  Name                 Persistence-M | Bus-Id        Disp.A | Volatile Uncorr. ECC |\n",
            "| Fan  Temp   Perf          Pwr:Usage/Cap |         Memory-Usage | GPU-Util  Compute M. |\n",
            "|                                         |                      |               MIG M. |\n",
            "|=========================================+======================+======================|\n",
            "|   0  Tesla T4                       Off | 00000000:00:04.0 Off |                    0 |\n",
            "| N/A   39C    P8               9W /  70W |      0MiB / 15360MiB |      0%      Default |\n",
            "|                                         |                      |                  N/A |\n",
            "+-----------------------------------------+----------------------+----------------------+\n",
            "                                                                                         \n",
            "+---------------------------------------------------------------------------------------+\n",
            "| Processes:                                                                            |\n",
            "|  GPU   GI   CI        PID   Type   Process name                            GPU Memory |\n",
            "|        ID   ID                                                             Usage      |\n",
            "|=======================================================================================|\n",
            "|  No running processes found                                                           |\n",
            "+---------------------------------------------------------------------------------------+\n"
          ]
        }
      ]
    },
    {
      "cell_type": "markdown",
      "source": [
        "\n",
        "## Introduction to tensors\n",
        "### way represent data(mostly multidimensional)\n",
        "\n",
        "###Creating tensors\n",
        "\n",
        "PyTorch tensors are created using `torch.tensor()` more at-https://pytorch.org/docs/stable/tensors.html"
      ],
      "metadata": {
        "id": "Uur_8HZrqYeC"
      }
    },
    {
      "cell_type": "markdown",
      "source": [],
      "metadata": {
        "id": "jn1Aj25o6wUT"
      }
    },
    {
      "cell_type": "code",
      "source": [
        "# scalar\n",
        "scalar = torch.tensor(7)\n",
        "scalar"
      ],
      "metadata": {
        "colab": {
          "base_uri": "https://localhost:8080/"
        },
        "id": "7130HoFw7lby",
        "outputId": "edcc5511-bab7-4b90-8b89-4c6fdf86d26e"
      },
      "execution_count": 37,
      "outputs": [
        {
          "output_type": "execute_result",
          "data": {
            "text/plain": [
              "tensor(7)"
            ]
          },
          "metadata": {},
          "execution_count": 37
        }
      ]
    },
    {
      "cell_type": "code",
      "source": [
        "#scalar(0) doesnt work like matrices or vectors"
      ],
      "metadata": {
        "id": "ZUbgYUFwwEVp"
      },
      "execution_count": 38,
      "outputs": []
    },
    {
      "cell_type": "markdown",
      "source": [
        "##### many dimensions of scalar are there...to find out what dimension in scalar tensor: run `scalar.ndim`"
      ],
      "metadata": {
        "id": "xTidb6Qp71an"
      }
    },
    {
      "cell_type": "code",
      "source": [
        "scalar.ndim"
      ],
      "metadata": {
        "colab": {
          "base_uri": "https://localhost:8080/"
        },
        "id": "KEusbetK9dtu",
        "outputId": "fc70e2b9-21a2-476e-8ade-317b0e63e43b"
      },
      "execution_count": 39,
      "outputs": [
        {
          "output_type": "execute_result",
          "data": {
            "text/plain": [
              "0"
            ]
          },
          "metadata": {},
          "execution_count": 39
        }
      ]
    },
    {
      "cell_type": "markdown",
      "source": [
        "###### get tensor back as py int use `item()`"
      ],
      "metadata": {
        "id": "HrmrXid2-D6g"
      }
    },
    {
      "cell_type": "code",
      "source": [
        "scalar.item()"
      ],
      "metadata": {
        "colab": {
          "base_uri": "https://localhost:8080/"
        },
        "id": "mjspcrZf-QDY",
        "outputId": "783ce14b-f633-4863-e807-4c9edfa703d7"
      },
      "execution_count": 40,
      "outputs": [
        {
          "output_type": "execute_result",
          "data": {
            "text/plain": [
              "7"
            ]
          },
          "metadata": {},
          "execution_count": 40
        }
      ]
    },
    {
      "cell_type": "code",
      "source": [
        "scalar.shape"
      ],
      "metadata": {
        "colab": {
          "base_uri": "https://localhost:8080/"
        },
        "id": "ayFybTXywxsi",
        "outputId": "9bb93126-b2c5-4cd2-e78d-4171a57c763d"
      },
      "execution_count": 41,
      "outputs": [
        {
          "output_type": "execute_result",
          "data": {
            "text/plain": [
              "torch.Size([])"
            ]
          },
          "metadata": {},
          "execution_count": 41
        }
      ]
    },
    {
      "cell_type": "markdown",
      "source": [
        "##### vector has 2 values...Dimension and Shape"
      ],
      "metadata": {
        "id": "6QE1oZE2_f3m"
      }
    },
    {
      "cell_type": "code",
      "source": [
        "#vector\n",
        "vector = torch.tensor([7, 4])\n",
        "vector"
      ],
      "metadata": {
        "colab": {
          "base_uri": "https://localhost:8080/"
        },
        "id": "XahVN1hm-aze",
        "outputId": "6ea212b3-3efc-4220-a52e-b201db66798c"
      },
      "execution_count": 42,
      "outputs": [
        {
          "output_type": "execute_result",
          "data": {
            "text/plain": [
              "tensor([7, 4])"
            ]
          },
          "metadata": {},
          "execution_count": 42
        }
      ]
    },
    {
      "cell_type": "code",
      "source": [
        "vector[1]"
      ],
      "metadata": {
        "colab": {
          "base_uri": "https://localhost:8080/"
        },
        "id": "G5rUunhsvwxQ",
        "outputId": "149fba54-b2ce-4be0-f7c2-ace1edebebb5"
      },
      "execution_count": 43,
      "outputs": [
        {
          "output_type": "execute_result",
          "data": {
            "text/plain": [
              "tensor(4)"
            ]
          },
          "metadata": {},
          "execution_count": 43
        }
      ]
    },
    {
      "cell_type": "markdown",
      "source": [
        "##### many dimensions of scalar are there...to find out what dimension in vector tensor: run `vector.ndim`"
      ],
      "metadata": {
        "id": "LWgwcC40-_bb"
      }
    },
    {
      "cell_type": "code",
      "source": [
        "vector.ndim"
      ],
      "metadata": {
        "colab": {
          "base_uri": "https://localhost:8080/"
        },
        "id": "UdGHFrBf_ROH",
        "outputId": "6b7040c9-a4d7-48b6-f224-9939279df206"
      },
      "execution_count": 44,
      "outputs": [
        {
          "output_type": "execute_result",
          "data": {
            "text/plain": [
              "1"
            ]
          },
          "metadata": {},
          "execution_count": 44
        }
      ]
    },
    {
      "cell_type": "code",
      "source": [
        "vector.shape"
      ],
      "metadata": {
        "colab": {
          "base_uri": "https://localhost:8080/"
        },
        "id": "NTtYbLw7_tJX",
        "outputId": "a5db1ec5-4bc7-4f88-d7db-127ebb783329"
      },
      "execution_count": 45,
      "outputs": [
        {
          "output_type": "execute_result",
          "data": {
            "text/plain": [
              "torch.Size([2])"
            ]
          },
          "metadata": {},
          "execution_count": 45
        }
      ]
    },
    {
      "cell_type": "code",
      "source": [
        "#Matrix\n",
        "MATRIX = torch.tensor([[7,8],\n",
        "                      [9,10]])\n",
        "MATRIX"
      ],
      "metadata": {
        "colab": {
          "base_uri": "https://localhost:8080/"
        },
        "id": "8Sq5V3r_t9jY",
        "outputId": "d4b6735b-f390-481f-a660-2da28d081dd6"
      },
      "execution_count": 46,
      "outputs": [
        {
          "output_type": "execute_result",
          "data": {
            "text/plain": [
              "tensor([[ 7,  8],\n",
              "        [ 9, 10]])"
            ]
          },
          "metadata": {},
          "execution_count": 46
        }
      ]
    },
    {
      "cell_type": "code",
      "source": [
        "MATRIX[0]"
      ],
      "metadata": {
        "colab": {
          "base_uri": "https://localhost:8080/"
        },
        "id": "Bh9rVu-jv9db",
        "outputId": "ea550e17-32e9-4ed6-8a9e-f4b494a21f3e"
      },
      "execution_count": 47,
      "outputs": [
        {
          "output_type": "execute_result",
          "data": {
            "text/plain": [
              "tensor([7, 8])"
            ]
          },
          "metadata": {},
          "execution_count": 47
        }
      ]
    },
    {
      "cell_type": "code",
      "source": [
        "MATRIX.ndim"
      ],
      "metadata": {
        "colab": {
          "base_uri": "https://localhost:8080/"
        },
        "id": "k8eQiw12vXj-",
        "outputId": "d4d94a30-127e-4ea2-c63d-598f9d2b5b9f"
      },
      "execution_count": 48,
      "outputs": [
        {
          "output_type": "execute_result",
          "data": {
            "text/plain": [
              "2"
            ]
          },
          "metadata": {},
          "execution_count": 48
        }
      ]
    },
    {
      "cell_type": "code",
      "source": [
        "MATRIX.shape"
      ],
      "metadata": {
        "colab": {
          "base_uri": "https://localhost:8080/"
        },
        "id": "vWF3KIOqvnDt",
        "outputId": "4396b5b5-ed7e-4607-ea4d-c251932abc9f"
      },
      "execution_count": 49,
      "outputs": [
        {
          "output_type": "execute_result",
          "data": {
            "text/plain": [
              "torch.Size([2, 2])"
            ]
          },
          "metadata": {},
          "execution_count": 49
        }
      ]
    },
    {
      "cell_type": "code",
      "source": [
        "#TENSOR\n",
        "TENSOR = torch.tensor([[[1,2,3],\n",
        "                       [3,6,9],\n",
        "                       [2,4,5]]])\n",
        "TENSOR"
      ],
      "metadata": {
        "colab": {
          "base_uri": "https://localhost:8080/"
        },
        "id": "kC_V7pewwQrM",
        "outputId": "40f2abfe-15a5-40cd-b715-58e57fffab86"
      },
      "execution_count": 50,
      "outputs": [
        {
          "output_type": "execute_result",
          "data": {
            "text/plain": [
              "tensor([[[1, 2, 3],\n",
              "         [3, 6, 9],\n",
              "         [2, 4, 5]]])"
            ]
          },
          "metadata": {},
          "execution_count": 50
        }
      ]
    },
    {
      "cell_type": "code",
      "source": [
        "TENSOR.ndim"
      ],
      "metadata": {
        "colab": {
          "base_uri": "https://localhost:8080/"
        },
        "id": "uAEGxlc_0Lik",
        "outputId": "4f3264ef-c2dc-496d-ca92-e5764acc702e"
      },
      "execution_count": 51,
      "outputs": [
        {
          "output_type": "execute_result",
          "data": {
            "text/plain": [
              "3"
            ]
          },
          "metadata": {},
          "execution_count": 51
        }
      ]
    },
    {
      "cell_type": "code",
      "source": [
        "TENSOR.shape"
      ],
      "metadata": {
        "colab": {
          "base_uri": "https://localhost:8080/"
        },
        "id": "7lE3s16O0kcr",
        "outputId": "4b8a73cb-0edb-4188-c503-86e0acb3c822"
      },
      "execution_count": 52,
      "outputs": [
        {
          "output_type": "execute_result",
          "data": {
            "text/plain": [
              "torch.Size([1, 3, 3])"
            ]
          },
          "metadata": {},
          "execution_count": 52
        }
      ]
    },
    {
      "cell_type": "code",
      "source": [
        "TENSOR[0]"
      ],
      "metadata": {
        "colab": {
          "base_uri": "https://localhost:8080/"
        },
        "id": "k5Q9F5e-0sP_",
        "outputId": "97debf6c-5759-42dd-fe2f-81984ab77a60"
      },
      "execution_count": 53,
      "outputs": [
        {
          "output_type": "execute_result",
          "data": {
            "text/plain": [
              "tensor([[1, 2, 3],\n",
              "        [3, 6, 9],\n",
              "        [2, 4, 5]])"
            ]
          },
          "metadata": {},
          "execution_count": 53
        }
      ]
    },
    {
      "cell_type": "code",
      "source": [
        "#PRACTICE TENSORS 1\n",
        "tensor1 = torch.tensor([1])\n",
        "print(tensor1.ndim)\n",
        "print(tensor1.shape)\n",
        "print(tensor1[0])\n",
        "tensor1\n"
      ],
      "metadata": {
        "colab": {
          "base_uri": "https://localhost:8080/"
        },
        "id": "3ceN5YO--33m",
        "outputId": "88a5c47f-eb0b-42e8-bbf3-dcbb53bf8910"
      },
      "execution_count": 54,
      "outputs": [
        {
          "output_type": "stream",
          "name": "stdout",
          "text": [
            "1\n",
            "torch.Size([1])\n",
            "tensor(1)\n"
          ]
        },
        {
          "output_type": "execute_result",
          "data": {
            "text/plain": [
              "tensor([1])"
            ]
          },
          "metadata": {},
          "execution_count": 54
        }
      ]
    },
    {
      "cell_type": "code",
      "source": [
        "#PRACTICE TENSORS 2\n",
        "#tensor2 = torch.tensor([1],[2],[3])\n",
        "#TypeError: tensor() takes 1 positional argument but 3 were given\n",
        "#WE HAVE TO MAKE IT LIKE A 2D TENSOR OR WE CAN ADD INSIDE THE SINGLES WHICH WILL REMAIN A 1D TENSOR\n",
        "tensor2 = torch.tensor([1,2,3,4,55,52,54,5,353])\n",
        "print(tensor2.ndim)\n",
        "print(tensor2.shape)\n",
        "print(tensor2[4])\n",
        "tensor2\n"
      ],
      "metadata": {
        "colab": {
          "base_uri": "https://localhost:8080/"
        },
        "id": "rPS45TyP_onW",
        "outputId": "91dfa7d3-18aa-4f37-89a1-c07fd700474f"
      },
      "execution_count": 55,
      "outputs": [
        {
          "output_type": "stream",
          "name": "stdout",
          "text": [
            "1\n",
            "torch.Size([9])\n",
            "tensor(55)\n"
          ]
        },
        {
          "output_type": "execute_result",
          "data": {
            "text/plain": [
              "tensor([  1,   2,   3,   4,  55,  52,  54,   5, 353])"
            ]
          },
          "metadata": {},
          "execution_count": 55
        }
      ]
    },
    {
      "cell_type": "code",
      "source": [
        "#PRACTICE TENSORS 3\n",
        "#The below code doesnt work cuz:\n",
        "#ValueError: expected sequence of length 2 at dim 1 (got 3)\n",
        "#tensor3 = torch.tensor([[1,2],\n",
        "#                        [1,2,3],\n",
        "#                        [4]])\n",
        "tensor3 = torch.tensor([[1,2,3],\n",
        "                        [11,12,13],\n",
        "                        [4,5,6]])\n",
        "print(tensor3.ndim)\n",
        "print(tensor3.shape)\n",
        "print(tensor3[2])\n",
        "print(tensor3[1,2])\n",
        "tensor3\n"
      ],
      "metadata": {
        "colab": {
          "base_uri": "https://localhost:8080/"
        },
        "id": "AsKQnUzLBxXr",
        "outputId": "b3155d22-ec70-46c3-e3a3-ef1dd67d124e"
      },
      "execution_count": 56,
      "outputs": [
        {
          "output_type": "stream",
          "name": "stdout",
          "text": [
            "2\n",
            "torch.Size([3, 3])\n",
            "tensor([4, 5, 6])\n",
            "tensor(13)\n"
          ]
        },
        {
          "output_type": "execute_result",
          "data": {
            "text/plain": [
              "tensor([[ 1,  2,  3],\n",
              "        [11, 12, 13],\n",
              "        [ 4,  5,  6]])"
            ]
          },
          "metadata": {},
          "execution_count": 56
        }
      ]
    },
    {
      "cell_type": "code",
      "source": [
        "#PRACTICE TENSORS 4\n",
        "\n",
        "tensor4 = torch.tensor([[1,2,3,4,65],\n",
        "                        [11,12,13,89,56],\n",
        "                        [44,5,6,10,5],\n",
        "                        [1,2,3,46,6]])\n",
        "print(tensor4.ndim)\n",
        "print(tensor4.shape)\n",
        "print(tensor4[2])\n",
        "print(tensor4[1,2])\n",
        "tensor4\n"
      ],
      "metadata": {
        "id": "KH4eAV2QF2l_",
        "colab": {
          "base_uri": "https://localhost:8080/"
        },
        "outputId": "c527cd00-51a5-43a0-8994-d84a1005e073"
      },
      "execution_count": 57,
      "outputs": [
        {
          "output_type": "stream",
          "name": "stdout",
          "text": [
            "2\n",
            "torch.Size([4, 5])\n",
            "tensor([44,  5,  6, 10,  5])\n",
            "tensor(13)\n"
          ]
        },
        {
          "output_type": "execute_result",
          "data": {
            "text/plain": [
              "tensor([[ 1,  2,  3,  4, 65],\n",
              "        [11, 12, 13, 89, 56],\n",
              "        [44,  5,  6, 10,  5],\n",
              "        [ 1,  2,  3, 46,  6]])"
            ]
          },
          "metadata": {},
          "execution_count": 57
        }
      ]
    },
    {
      "cell_type": "code",
      "source": [
        "#PRACTICE TENSORS 5\n",
        "\n",
        "tensor5 = torch.tensor([[[1,2,3,4,65],\n",
        "                        [11,12,13,89,56],\n",
        "                        [44,5,6,10,5],\n",
        "                        [1,2,3,46,6]]])\n",
        "print(tensor5.ndim)\n",
        "print(tensor5.shape)\n",
        "\n",
        "#print(tensor5[2]) not possible cuz:\n",
        "#IndexError: index 2 is out of bounds for dimension 0 with size SOOO....:\n",
        "print(tensor5[0,1])\n",
        "\n",
        "#print(tensor5[1,2]) not possible cuz:\n",
        "#index 1 is out of bounds for dimension 0 with size 1 SOOOO....:\n",
        "print(tensor5[0,2,3])\n",
        "\n",
        "tensor5\n"
      ],
      "metadata": {
        "colab": {
          "base_uri": "https://localhost:8080/"
        },
        "id": "ycVqI-XPIm11",
        "outputId": "227a87f9-ac14-44b0-e4f1-d134977e97e8"
      },
      "execution_count": 58,
      "outputs": [
        {
          "output_type": "stream",
          "name": "stdout",
          "text": [
            "3\n",
            "torch.Size([1, 4, 5])\n",
            "tensor([11, 12, 13, 89, 56])\n",
            "tensor(10)\n"
          ]
        },
        {
          "output_type": "execute_result",
          "data": {
            "text/plain": [
              "tensor([[[ 1,  2,  3,  4, 65],\n",
              "         [11, 12, 13, 89, 56],\n",
              "         [44,  5,  6, 10,  5],\n",
              "         [ 1,  2,  3, 46,  6]]])"
            ]
          },
          "metadata": {},
          "execution_count": 58
        }
      ]
    },
    {
      "cell_type": "code",
      "source": [
        "#PRACTICE TENSORS 6\n",
        "\n",
        "#tensor6 = torch.tensor([[[1,2,3,4,65],[32,43,54,65]\n",
        "#                        [11,12,13,89,56],[12,22,32,42]\n",
        "#                        [44,5,6,10,5],[22,33,44,55,66]\n",
        "#                        [1,2,3,46,6],[23,33,43,53]]])\n",
        "#CUZ:   TypeError must be lists, not tuples, were missing commas and first are 5 while seconds were 4 ,have to be equal....SOOO..:\n",
        "\n",
        "#tensor6 = torch.tensor([[[1,2,3,4,65],[32,43,54,65,11],\n",
        "#                        [11,12,13,89,56],[12,22,32,42,22],\n",
        "#                        [44,5,6,10,5],[22,33,44,55,200],\n",
        "#                        [1,2,3,46,6],[23,33,43,53,100]]])\n",
        "#works....but same as before with size[1,8,5]....\n",
        "\n",
        "tensor6 = torch.tensor([\n",
        "                        [[1,2,3,4,65],\n",
        "                        [11,12,13,89,56],\n",
        "                        [44,5,6,10,5],\n",
        "                        [1,2,3,46,6]],\n",
        "\n",
        "                          [[32,43,54,65,11],\n",
        "                          [12,22,32,42,22],\n",
        "                          [22,33,44,55,200],\n",
        "                          [23,33,43,53,100]]\n",
        "                        ])\n",
        "\n",
        "print(tensor6.ndim)\n",
        "print(tensor6.shape)\n",
        "\n",
        "print(tensor6[0,1])\n",
        "\n",
        "print(tensor6[1,2,3])\n",
        "\n",
        "tensor6\n"
      ],
      "metadata": {
        "colab": {
          "base_uri": "https://localhost:8080/"
        },
        "id": "ckI9bspVJEDK",
        "outputId": "7d078b5b-5cfe-4218-bedc-3ed4ac0d75ab"
      },
      "execution_count": 72,
      "outputs": [
        {
          "output_type": "stream",
          "name": "stdout",
          "text": [
            "3\n",
            "torch.Size([2, 4, 5])\n",
            "tensor([11, 12, 13, 89, 56])\n",
            "tensor(55)\n"
          ]
        },
        {
          "output_type": "execute_result",
          "data": {
            "text/plain": [
              "tensor([[[  1,   2,   3,   4,  65],\n",
              "         [ 11,  12,  13,  89,  56],\n",
              "         [ 44,   5,   6,  10,   5],\n",
              "         [  1,   2,   3,  46,   6]],\n",
              "\n",
              "        [[ 32,  43,  54,  65,  11],\n",
              "         [ 12,  22,  32,  42,  22],\n",
              "         [ 22,  33,  44,  55, 200],\n",
              "         [ 23,  33,  43,  53, 100]]])"
            ]
          },
          "metadata": {},
          "execution_count": 72
        }
      ]
    },
    {
      "cell_type": "markdown",
      "source": [
        "**END OF PRACTICE**"
      ],
      "metadata": {
        "id": "awfD9cYaSYmF"
      }
    },
    {
      "cell_type": "markdown",
      "source": [
        "##**RANDOM tensors**\n",
        "Why random tensors?\n",
        "\n",
        "it starts with tensors full of random numbers and then adjust those random numbers to better represent the data.\n",
        "\n",
        "`Start with RND nums -> look at data ->update RND nums -> look at data -> update RND nums\n",
        "\n",
        "More at: https://pytorch.org/docs/stable/generated/torch.rand.html"
      ],
      "metadata": {
        "id": "46u-UUXfS1MU"
      }
    },
    {
      "cell_type": "code",
      "source": [
        "#Create a random tensor of size (3,4)\n",
        "rand_tensor = torch.rand(11,4)\n",
        "rand_tensor"
      ],
      "metadata": {
        "colab": {
          "base_uri": "https://localhost:8080/"
        },
        "id": "jaFOWlnXK1rn",
        "outputId": "a98001c2-b963-4571-8770-6b6511f17ac4"
      },
      "execution_count": 75,
      "outputs": [
        {
          "output_type": "execute_result",
          "data": {
            "text/plain": [
              "tensor([[0.5767, 0.3525, 0.4336, 0.2396],\n",
              "        [0.2905, 0.1090, 0.1268, 0.4660],\n",
              "        [0.1992, 0.9980, 0.2645, 0.0635],\n",
              "        [0.6243, 0.6633, 0.6405, 0.4431],\n",
              "        [0.1966, 0.5169, 0.9895, 0.6731],\n",
              "        [0.0196, 0.9694, 0.8384, 0.6073],\n",
              "        [0.7504, 0.1307, 0.0881, 0.9924],\n",
              "        [0.0991, 0.8545, 0.5908, 0.5204],\n",
              "        [0.8758, 0.1943, 0.5474, 0.2410],\n",
              "        [0.8514, 0.3558, 0.0771, 0.8637],\n",
              "        [0.7606, 0.5919, 0.1962, 0.2136]])"
            ]
          },
          "metadata": {},
          "execution_count": 75
        }
      ]
    },
    {
      "cell_type": "code",
      "source": [
        "rand_tensor.ndim"
      ],
      "metadata": {
        "colab": {
          "base_uri": "https://localhost:8080/"
        },
        "id": "uuliaE0DUW6q",
        "outputId": "afa3dd03-7c0d-49be-9bfb-f7bb546fae67"
      },
      "execution_count": 74,
      "outputs": [
        {
          "output_type": "execute_result",
          "data": {
            "text/plain": [
              "2"
            ]
          },
          "metadata": {},
          "execution_count": 74
        }
      ]
    },
    {
      "cell_type": "code",
      "source": [
        "#Create a random tensor of size (2,4,5)\n",
        "rand_tensor2 = torch.rand(2,4,5)\n",
        "rand_tensor2"
      ],
      "metadata": {
        "colab": {
          "base_uri": "https://localhost:8080/"
        },
        "id": "fkCeJXEqUran",
        "outputId": "07ce48c1-1338-4908-a552-f1405aa03e30"
      },
      "execution_count": 76,
      "outputs": [
        {
          "output_type": "execute_result",
          "data": {
            "text/plain": [
              "tensor([[[0.1774, 0.4767, 0.5775, 0.7591, 0.7657],\n",
              "         [0.5147, 0.2779, 0.7129, 0.5372, 0.6302],\n",
              "         [0.4485, 0.8602, 0.4746, 0.6425, 0.9925],\n",
              "         [0.5866, 0.3416, 0.7972, 0.5173, 0.6187]],\n",
              "\n",
              "        [[0.9634, 0.6156, 0.4531, 0.4496, 0.7716],\n",
              "         [0.0688, 0.8176, 0.8358, 0.2943, 0.0722],\n",
              "         [0.5467, 0.5979, 0.4823, 0.9749, 0.8160],\n",
              "         [0.4987, 0.0334, 0.3028, 0.0650, 0.8917]]])"
            ]
          },
          "metadata": {},
          "execution_count": 76
        }
      ]
    },
    {
      "cell_type": "code",
      "source": [
        "rand_tensor2.ndim"
      ],
      "metadata": {
        "colab": {
          "base_uri": "https://localhost:8080/"
        },
        "id": "KANkigTgU13z",
        "outputId": "a1200942-3f7f-43b9-ccb8-b63459a65144"
      },
      "execution_count": 77,
      "outputs": [
        {
          "output_type": "execute_result",
          "data": {
            "text/plain": [
              "3"
            ]
          },
          "metadata": {},
          "execution_count": 77
        }
      ]
    },
    {
      "cell_type": "code",
      "source": [
        "rand_tensor2 = torch.rand(2,3,4,5)\n",
        "print(rand_tensor2.shape)\n",
        "print(rand_tensor2.ndim)\n",
        "rand_tensor2"
      ],
      "metadata": {
        "colab": {
          "base_uri": "https://localhost:8080/"
        },
        "id": "poanp2X3U5DB",
        "outputId": "d7647766-8a85-49a9-9f57-a7a956343cc8"
      },
      "execution_count": 81,
      "outputs": [
        {
          "output_type": "stream",
          "name": "stdout",
          "text": [
            "torch.Size([2, 3, 4, 5])\n",
            "4\n"
          ]
        },
        {
          "output_type": "execute_result",
          "data": {
            "text/plain": [
              "tensor([[[[1.5312e-01, 8.4079e-01, 6.2286e-01, 8.1217e-01, 5.7584e-01],\n",
              "          [2.2268e-01, 2.1215e-01, 4.0216e-01, 6.2646e-02, 7.9653e-01],\n",
              "          [4.1413e-02, 3.4056e-01, 5.4492e-01, 3.5093e-01, 5.8390e-01],\n",
              "          [7.5705e-02, 7.9759e-01, 8.1557e-01, 5.4106e-01, 1.4442e-01]],\n",
              "\n",
              "         [[7.9129e-01, 2.8443e-01, 8.8768e-01, 1.0811e-02, 9.2326e-01],\n",
              "          [1.4924e-01, 5.6913e-01, 9.3865e-02, 6.9634e-01, 1.5366e-01],\n",
              "          [6.4506e-01, 7.5945e-01, 5.2425e-01, 7.2192e-01, 1.6097e-01],\n",
              "          [4.2115e-01, 3.4137e-01, 3.9443e-01, 2.1791e-03, 4.5231e-01]],\n",
              "\n",
              "         [[3.9381e-01, 3.1783e-01, 8.8487e-01, 3.7828e-01, 6.2473e-02],\n",
              "          [9.5549e-01, 8.8310e-01, 1.2623e-01, 5.3063e-01, 2.0245e-01],\n",
              "          [9.3569e-01, 9.8836e-01, 3.6025e-01, 8.1434e-01, 9.8817e-01],\n",
              "          [3.5041e-01, 5.0347e-01, 9.5414e-01, 7.4952e-01, 9.6538e-01]]],\n",
              "\n",
              "\n",
              "        [[[7.5572e-01, 2.8349e-01, 4.4227e-02, 3.1007e-01, 4.4563e-01],\n",
              "          [7.5211e-01, 7.9565e-01, 2.2903e-01, 8.7672e-01, 4.0879e-02],\n",
              "          [4.0569e-01, 1.5474e-01, 9.7943e-01, 9.3599e-01, 9.0718e-01],\n",
              "          [4.5975e-01, 5.4221e-01, 6.9605e-01, 3.7903e-01, 7.0408e-01]],\n",
              "\n",
              "         [[3.7237e-01, 9.5290e-01, 2.8044e-01, 6.3646e-01, 1.2333e-01],\n",
              "          [3.2294e-04, 1.6661e-01, 4.0037e-01, 7.4524e-01, 4.1697e-01],\n",
              "          [3.4728e-01, 5.7254e-01, 7.9800e-01, 3.1176e-01, 7.3296e-02],\n",
              "          [7.7549e-01, 2.0605e-01, 3.4628e-01, 6.9703e-01, 2.3628e-01]],\n",
              "\n",
              "         [[9.5415e-01, 8.6672e-01, 3.2075e-01, 1.7555e-01, 8.2014e-01],\n",
              "          [8.4775e-01, 2.3193e-01, 3.2761e-01, 7.7483e-01, 9.3851e-01],\n",
              "          [3.9609e-01, 7.9819e-01, 7.9968e-01, 9.3649e-01, 4.8954e-01],\n",
              "          [5.2602e-01, 4.8028e-01, 7.7630e-01, 7.1528e-01, 6.8697e-02]]]])"
            ]
          },
          "metadata": {},
          "execution_count": 81
        }
      ]
    },
    {
      "cell_type": "code",
      "source": [
        "#Create a random tensor with similar shape to an image tensor\n",
        "random_img_size_tensor = torch.rand(size=(3,224,224)) #height,width,color channels(rgb)\n",
        "random_img_size_tensor.shape,random_img_size_tensor.ndim"
      ],
      "metadata": {
        "colab": {
          "base_uri": "https://localhost:8080/"
        },
        "id": "uKFWWDHoVuh_",
        "outputId": "f3ee6bdb-8087-4e86-ab4b-f28d0e8a16b3"
      },
      "execution_count": 83,
      "outputs": [
        {
          "output_type": "execute_result",
          "data": {
            "text/plain": [
              "(torch.Size([3, 224, 224]), 3)"
            ]
          },
          "metadata": {},
          "execution_count": 83
        }
      ]
    },
    {
      "cell_type": "code",
      "source": [
        "#PRACTiCE:\n",
        "rand_tensorrr = torch.rand(1,1,1,1,1,1,1)\n",
        "print(rand_tensorrr.shape)\n",
        "print(rand_tensorrr.ndim)\n",
        "print(rand_tensorrr)\n",
        "\n",
        "rand_tensorr = torch.rand(1,2,3,4)\n",
        "print(rand_tensorr.shape)\n",
        "print(rand_tensorr.ndim)\n",
        "print(rand_tensorr)\n",
        "\n",
        "rand_tensor3 = torch.rand(2,3,4,5)\n",
        "print(rand_tensor3.shape)\n",
        "print(rand_tensor3.ndim)\n",
        "print(rand_tensor3)\n",
        "\n",
        "rand_tensor5 = torch.rand(3,2,3,2,6)\n",
        "print(rand_tensor5.shape)\n",
        "print(rand_tensor5.ndim)\n",
        "rand_tensor5"
      ],
      "metadata": {
        "colab": {
          "base_uri": "https://localhost:8080/"
        },
        "id": "ryU-rGEnWqg6",
        "outputId": "06d7ccb7-e7a5-4894-b7fd-ccaba6c7d0b6"
      },
      "execution_count": 91,
      "outputs": [
        {
          "output_type": "stream",
          "name": "stdout",
          "text": [
            "torch.Size([1, 1, 1, 1, 1, 1, 1])\n",
            "7\n",
            "tensor([[[[[[[0.9816]]]]]]])\n",
            "torch.Size([1, 2, 3, 4])\n",
            "4\n",
            "tensor([[[[0.6004, 0.0218, 0.5347, 0.3939],\n",
            "          [0.9536, 0.5717, 0.4542, 0.8649],\n",
            "          [0.3657, 0.7784, 0.4063, 0.4725]],\n",
            "\n",
            "         [[0.4199, 0.6707, 0.5319, 0.0347],\n",
            "          [0.7559, 0.2989, 0.5678, 0.7638],\n",
            "          [0.3647, 0.6304, 0.2739, 0.9572]]]])\n",
            "torch.Size([2, 3, 4, 5])\n",
            "4\n",
            "tensor([[[[0.5439, 0.7638, 0.8546, 0.5316, 0.5021],\n",
            "          [0.1552, 0.0146, 0.3300, 0.8460, 0.9542],\n",
            "          [0.4637, 0.4956, 0.9746, 0.3745, 0.0821],\n",
            "          [0.1816, 0.4136, 0.2655, 0.3973, 0.3015]],\n",
            "\n",
            "         [[0.6906, 0.9791, 0.4465, 0.3721, 0.1583],\n",
            "          [0.8873, 0.5120, 0.6617, 0.2208, 0.1498],\n",
            "          [0.2205, 0.4362, 0.2714, 0.7831, 0.5569],\n",
            "          [0.1567, 0.2455, 0.2458, 0.4441, 0.1397]],\n",
            "\n",
            "         [[0.4209, 0.0788, 0.4533, 0.6347, 0.8441],\n",
            "          [0.5225, 0.7861, 0.6203, 0.0039, 0.9046],\n",
            "          [0.7826, 0.9228, 0.1062, 0.0728, 0.7233],\n",
            "          [0.9249, 0.9896, 0.5847, 0.8601, 0.3897]]],\n",
            "\n",
            "\n",
            "        [[[0.1821, 0.6605, 0.0157, 0.7509, 0.4984],\n",
            "          [0.2214, 0.5682, 0.2947, 0.5213, 0.5330],\n",
            "          [0.5135, 0.8879, 0.6709, 0.8526, 0.0354],\n",
            "          [0.6041, 0.9609, 0.2451, 0.0086, 0.0373]],\n",
            "\n",
            "         [[0.7306, 0.1389, 0.6014, 0.0220, 0.2230],\n",
            "          [0.2223, 0.0250, 0.6673, 0.8426, 0.9255],\n",
            "          [0.8888, 0.1313, 0.6569, 0.6861, 0.5307],\n",
            "          [0.8070, 0.3280, 0.2700, 0.3085, 0.8015]],\n",
            "\n",
            "         [[0.7701, 0.3355, 0.5143, 0.8921, 0.3334],\n",
            "          [0.0573, 0.4920, 0.0123, 0.4073, 0.2369],\n",
            "          [0.7260, 0.4342, 0.6908, 0.2051, 0.0785],\n",
            "          [0.3617, 0.6954, 0.5604, 0.7542, 0.0763]]]])\n",
            "torch.Size([3, 2, 3, 2, 6])\n",
            "5\n"
          ]
        },
        {
          "output_type": "execute_result",
          "data": {
            "text/plain": [
              "tensor([[[[[0.4795, 0.1810, 0.8424, 0.3874, 0.8215, 0.1195],\n",
              "           [0.4586, 0.3936, 0.4300, 0.9607, 0.5108, 0.6853]],\n",
              "\n",
              "          [[0.4481, 0.6488, 0.6205, 0.5399, 0.9802, 0.2610],\n",
              "           [0.5901, 0.0884, 0.5789, 0.1589, 0.4299, 0.5596]],\n",
              "\n",
              "          [[0.3653, 0.0817, 0.9937, 0.7669, 0.5476, 0.9375],\n",
              "           [0.4518, 0.4586, 0.1137, 0.7535, 0.0629, 0.0291]]],\n",
              "\n",
              "\n",
              "         [[[0.3742, 0.8002, 0.2561, 0.8388, 0.5480, 0.1476],\n",
              "           [0.3498, 0.5405, 0.3327, 0.8456, 0.3844, 0.0759]],\n",
              "\n",
              "          [[0.0709, 0.4148, 0.2828, 0.2511, 0.4349, 0.3065],\n",
              "           [0.1487, 0.5341, 0.5856, 0.8943, 0.0026, 0.7529]],\n",
              "\n",
              "          [[0.3219, 0.7866, 0.1672, 0.2986, 0.4142, 0.5514],\n",
              "           [0.1709, 0.2087, 0.2167, 0.7693, 0.1144, 0.8171]]]],\n",
              "\n",
              "\n",
              "\n",
              "        [[[[0.7035, 0.2683, 0.3250, 0.6993, 0.7278, 0.8315],\n",
              "           [0.9666, 0.1046, 0.3593, 0.4057, 0.3936, 0.4134]],\n",
              "\n",
              "          [[0.0884, 0.7117, 0.1122, 0.5842, 0.2526, 0.6207],\n",
              "           [0.0718, 0.5946, 0.4052, 0.6832, 0.9084, 0.9441]],\n",
              "\n",
              "          [[0.0319, 0.9566, 0.8001, 0.6417, 0.7212, 0.3433],\n",
              "           [0.4029, 0.6076, 0.4260, 0.1749, 0.9306, 0.4518]]],\n",
              "\n",
              "\n",
              "         [[[0.3911, 0.7734, 0.2082, 0.2811, 0.1804, 0.1942],\n",
              "           [0.8872, 0.1837, 0.2333, 0.3008, 0.3611, 0.2681]],\n",
              "\n",
              "          [[0.9685, 0.8843, 0.1319, 0.0216, 0.1837, 0.9947],\n",
              "           [0.4781, 0.1603, 0.7382, 0.6161, 0.0208, 0.1237]],\n",
              "\n",
              "          [[0.7820, 0.1939, 0.7269, 0.7534, 0.0321, 0.1785],\n",
              "           [0.6646, 0.7747, 0.0107, 0.2297, 0.9456, 0.2416]]]],\n",
              "\n",
              "\n",
              "\n",
              "        [[[[0.6249, 0.8741, 0.8482, 0.6163, 0.6163, 0.1697],\n",
              "           [0.4162, 0.0411, 0.6515, 0.9384, 0.4782, 0.7943]],\n",
              "\n",
              "          [[0.8478, 0.2891, 0.9619, 0.8128, 0.7500, 0.1302],\n",
              "           [0.9177, 0.8242, 0.0812, 0.9309, 0.1757, 0.8433]],\n",
              "\n",
              "          [[0.8900, 0.0857, 0.4228, 0.0921, 0.2905, 0.4461],\n",
              "           [0.4664, 0.2708, 0.5046, 0.7366, 0.7373, 0.7317]]],\n",
              "\n",
              "\n",
              "         [[[0.7878, 0.0976, 0.8039, 0.0687, 0.6436, 0.3974],\n",
              "           [0.5681, 0.8217, 0.2296, 0.6992, 0.0961, 0.3042]],\n",
              "\n",
              "          [[0.0825, 0.5840, 0.9256, 0.4444, 0.2113, 0.0588],\n",
              "           [0.2599, 0.4608, 0.9355, 0.6908, 0.3176, 0.9328]],\n",
              "\n",
              "          [[0.2035, 0.7172, 0.8787, 0.0324, 0.9577, 0.6012],\n",
              "           [0.4501, 0.4577, 0.6175, 0.4485, 0.1187, 0.6259]]]]])"
            ]
          },
          "metadata": {},
          "execution_count": 91
        }
      ]
    },
    {
      "cell_type": "code",
      "source": [],
      "metadata": {
        "id": "fl8RY-9kWu6-"
      },
      "execution_count": null,
      "outputs": []
    }
  ]
}
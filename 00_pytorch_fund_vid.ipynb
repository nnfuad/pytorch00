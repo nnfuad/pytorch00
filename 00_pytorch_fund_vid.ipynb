{
  "nbformat": 4,
  "nbformat_minor": 0,
  "metadata": {
    "colab": {
      "provenance": [],
      "gpuType": "T4",
      "authorship_tag": "ABX9TyM+3nyNS+m2cWx/WWJEVofV",
      "include_colab_link": true
    },
    "kernelspec": {
      "name": "python3",
      "display_name": "Python 3"
    },
    "language_info": {
      "name": "python"
    },
    "accelerator": "GPU"
  },
  "cells": [
    {
      "cell_type": "markdown",
      "metadata": {
        "id": "view-in-github",
        "colab_type": "text"
      },
      "source": [
        "<a href=\"https://colab.research.google.com/github/nnfuad/pytorch00/blob/main/00_pytorch_fund_vid.ipynb\" target=\"_parent\"><img src=\"https://colab.research.google.com/assets/colab-badge.svg\" alt=\"Open In Colab\"/></a>"
      ]
    },
    {
      "cell_type": "markdown",
      "source": [
        "00. Pytorch fundamentals\n",
        "\n",
        "Resource notebook: https://www.learnpytorch.io/00_pytorch_fundamentals/\n",
        "\n",
        "If you have a question: https://github.com/mrdbourke/pytorch-deep-learning/discussions\n"
      ],
      "metadata": {
        "id": "0V3KasZGoe3I"
      }
    },
    {
      "cell_type": "markdown",
      "source": [],
      "metadata": {
        "id": "_hvKuZmMoclA"
      }
    },
    {
      "cell_type": "code",
      "execution_count": 2,
      "metadata": {
        "colab": {
          "base_uri": "https://localhost:8080/"
        },
        "id": "qDIxYhWnmoMz",
        "outputId": "5a671923-230a-49de-d7e4-e2235aeb4815"
      },
      "outputs": [
        {
          "output_type": "stream",
          "name": "stdout",
          "text": [
            "2.3.1+cu121\n"
          ]
        }
      ],
      "source": [
        "import torch\n",
        "import pandas as pd\n",
        "import numpy as np\n",
        "import matplotlib.pyplot as plt\n",
        "\n",
        "print(torch.__version__)"
      ]
    },
    {
      "cell_type": "code",
      "source": [
        "!nvidia-smi"
      ],
      "metadata": {
        "colab": {
          "base_uri": "https://localhost:8080/"
        },
        "id": "GZAVjhMqqVtW",
        "outputId": "11ebdb2d-9517-4499-a129-6d3994dbab84"
      },
      "execution_count": 3,
      "outputs": [
        {
          "output_type": "stream",
          "name": "stdout",
          "text": [
            "/bin/bash: line 1: nvidia-smi: command not found\n"
          ]
        }
      ]
    },
    {
      "cell_type": "markdown",
      "source": [
        "\n",
        "## Introduction to tensors\n",
        "### way represent data(mostly multidimensional)\n",
        "\n",
        "###Creating tensors\n",
        "\n",
        "PyTorch tensors are created using `torch.tensor()` more at-https://pytorch.org/docs/stable/tensors.html"
      ],
      "metadata": {
        "id": "Uur_8HZrqYeC"
      }
    },
    {
      "cell_type": "markdown",
      "source": [],
      "metadata": {
        "id": "jn1Aj25o6wUT"
      }
    },
    {
      "cell_type": "code",
      "source": [
        "# scalar\n",
        "scalar = torch.tensor(7)\n",
        "scalar"
      ],
      "metadata": {
        "colab": {
          "base_uri": "https://localhost:8080/"
        },
        "id": "7130HoFw7lby",
        "outputId": "938c58e2-46cc-4aaa-80f6-44921f526975"
      },
      "execution_count": 4,
      "outputs": [
        {
          "output_type": "execute_result",
          "data": {
            "text/plain": [
              "tensor(7)"
            ]
          },
          "metadata": {},
          "execution_count": 4
        }
      ]
    },
    {
      "cell_type": "code",
      "source": [
        "#scalar(0) doesnt work like matrices or vectors"
      ],
      "metadata": {
        "id": "ZUbgYUFwwEVp"
      },
      "execution_count": 5,
      "outputs": []
    },
    {
      "cell_type": "markdown",
      "source": [
        "##### many dimensions of scalar are there...to find out what dimension in scalar tensor: run `scalar.ndim`"
      ],
      "metadata": {
        "id": "xTidb6Qp71an"
      }
    },
    {
      "cell_type": "code",
      "source": [
        "scalar.ndim"
      ],
      "metadata": {
        "colab": {
          "base_uri": "https://localhost:8080/"
        },
        "id": "KEusbetK9dtu",
        "outputId": "81b6bbf9-89c5-4a5f-a184-05df52d3fea0"
      },
      "execution_count": 6,
      "outputs": [
        {
          "output_type": "execute_result",
          "data": {
            "text/plain": [
              "0"
            ]
          },
          "metadata": {},
          "execution_count": 6
        }
      ]
    },
    {
      "cell_type": "markdown",
      "source": [
        "###### get tensor back as py int use `item()`"
      ],
      "metadata": {
        "id": "HrmrXid2-D6g"
      }
    },
    {
      "cell_type": "code",
      "source": [
        "scalar.item()"
      ],
      "metadata": {
        "colab": {
          "base_uri": "https://localhost:8080/"
        },
        "id": "mjspcrZf-QDY",
        "outputId": "b71f7ebc-b912-489d-82a5-b84d681d3d93"
      },
      "execution_count": 7,
      "outputs": [
        {
          "output_type": "execute_result",
          "data": {
            "text/plain": [
              "7"
            ]
          },
          "metadata": {},
          "execution_count": 7
        }
      ]
    },
    {
      "cell_type": "code",
      "source": [
        "scalar.shape"
      ],
      "metadata": {
        "colab": {
          "base_uri": "https://localhost:8080/"
        },
        "id": "ayFybTXywxsi",
        "outputId": "33db9982-0472-4936-d34f-ebc3e0bc4296"
      },
      "execution_count": 8,
      "outputs": [
        {
          "output_type": "execute_result",
          "data": {
            "text/plain": [
              "torch.Size([])"
            ]
          },
          "metadata": {},
          "execution_count": 8
        }
      ]
    },
    {
      "cell_type": "markdown",
      "source": [
        "##### vector has 2 values...Dimension and Shape"
      ],
      "metadata": {
        "id": "6QE1oZE2_f3m"
      }
    },
    {
      "cell_type": "code",
      "source": [
        "#vector\n",
        "vector = torch.tensor([7, 4])\n",
        "vector"
      ],
      "metadata": {
        "colab": {
          "base_uri": "https://localhost:8080/"
        },
        "id": "XahVN1hm-aze",
        "outputId": "6d9dce64-6d2e-4c44-8caf-72fe4155fac9"
      },
      "execution_count": 9,
      "outputs": [
        {
          "output_type": "execute_result",
          "data": {
            "text/plain": [
              "tensor([7, 4])"
            ]
          },
          "metadata": {},
          "execution_count": 9
        }
      ]
    },
    {
      "cell_type": "code",
      "source": [
        "vector[1]"
      ],
      "metadata": {
        "colab": {
          "base_uri": "https://localhost:8080/"
        },
        "id": "G5rUunhsvwxQ",
        "outputId": "93d231cb-135e-4654-a97c-c40d7fd55d1b"
      },
      "execution_count": 10,
      "outputs": [
        {
          "output_type": "execute_result",
          "data": {
            "text/plain": [
              "tensor(4)"
            ]
          },
          "metadata": {},
          "execution_count": 10
        }
      ]
    },
    {
      "cell_type": "markdown",
      "source": [
        "##### many dimensions of scalar are there...to find out what dimension in vector tensor: run `vector.ndim`"
      ],
      "metadata": {
        "id": "LWgwcC40-_bb"
      }
    },
    {
      "cell_type": "code",
      "source": [
        "vector.ndim"
      ],
      "metadata": {
        "colab": {
          "base_uri": "https://localhost:8080/"
        },
        "id": "UdGHFrBf_ROH",
        "outputId": "83ceb184-73d4-47b3-b53b-954e432796ef"
      },
      "execution_count": 11,
      "outputs": [
        {
          "output_type": "execute_result",
          "data": {
            "text/plain": [
              "1"
            ]
          },
          "metadata": {},
          "execution_count": 11
        }
      ]
    },
    {
      "cell_type": "code",
      "source": [
        "vector.shape"
      ],
      "metadata": {
        "colab": {
          "base_uri": "https://localhost:8080/"
        },
        "id": "NTtYbLw7_tJX",
        "outputId": "31bad477-5f9c-4344-cef6-b6e54b59f83c"
      },
      "execution_count": 12,
      "outputs": [
        {
          "output_type": "execute_result",
          "data": {
            "text/plain": [
              "torch.Size([2])"
            ]
          },
          "metadata": {},
          "execution_count": 12
        }
      ]
    },
    {
      "cell_type": "code",
      "source": [
        "#Matrix\n",
        "MATRIX = torch.tensor([[7,8],\n",
        "                      [9,10]])\n",
        "MATRIX"
      ],
      "metadata": {
        "colab": {
          "base_uri": "https://localhost:8080/"
        },
        "id": "8Sq5V3r_t9jY",
        "outputId": "43d9022e-9749-4d10-d72c-aeab76800214"
      },
      "execution_count": 13,
      "outputs": [
        {
          "output_type": "execute_result",
          "data": {
            "text/plain": [
              "tensor([[ 7,  8],\n",
              "        [ 9, 10]])"
            ]
          },
          "metadata": {},
          "execution_count": 13
        }
      ]
    },
    {
      "cell_type": "code",
      "source": [
        "MATRIX[0]"
      ],
      "metadata": {
        "colab": {
          "base_uri": "https://localhost:8080/"
        },
        "id": "Bh9rVu-jv9db",
        "outputId": "90ae4c3f-42ce-4557-aac7-d67e0c8d76d4"
      },
      "execution_count": 14,
      "outputs": [
        {
          "output_type": "execute_result",
          "data": {
            "text/plain": [
              "tensor([7, 8])"
            ]
          },
          "metadata": {},
          "execution_count": 14
        }
      ]
    },
    {
      "cell_type": "code",
      "source": [
        "MATRIX.ndim"
      ],
      "metadata": {
        "colab": {
          "base_uri": "https://localhost:8080/"
        },
        "id": "k8eQiw12vXj-",
        "outputId": "0ae73f7f-d67d-463c-cb39-c726bcdbbe58"
      },
      "execution_count": 15,
      "outputs": [
        {
          "output_type": "execute_result",
          "data": {
            "text/plain": [
              "2"
            ]
          },
          "metadata": {},
          "execution_count": 15
        }
      ]
    },
    {
      "cell_type": "code",
      "source": [
        "MATRIX.shape"
      ],
      "metadata": {
        "colab": {
          "base_uri": "https://localhost:8080/"
        },
        "id": "vWF3KIOqvnDt",
        "outputId": "1bad853f-7ae8-480f-db41-9ddfb42a8089"
      },
      "execution_count": 16,
      "outputs": [
        {
          "output_type": "execute_result",
          "data": {
            "text/plain": [
              "torch.Size([2, 2])"
            ]
          },
          "metadata": {},
          "execution_count": 16
        }
      ]
    },
    {
      "cell_type": "code",
      "source": [
        "#TENSOR\n",
        "TENSOR = torch.tensor([[[1,2,3],\n",
        "                       [3,6,9],\n",
        "                       [2,4,5]]])\n",
        "TENSOR"
      ],
      "metadata": {
        "colab": {
          "base_uri": "https://localhost:8080/"
        },
        "id": "kC_V7pewwQrM",
        "outputId": "bca8ec91-9553-44eb-bf69-bf5eb2556e75"
      },
      "execution_count": 17,
      "outputs": [
        {
          "output_type": "execute_result",
          "data": {
            "text/plain": [
              "tensor([[[1, 2, 3],\n",
              "         [3, 6, 9],\n",
              "         [2, 4, 5]]])"
            ]
          },
          "metadata": {},
          "execution_count": 17
        }
      ]
    },
    {
      "cell_type": "code",
      "source": [
        "TENSOR.ndim"
      ],
      "metadata": {
        "colab": {
          "base_uri": "https://localhost:8080/"
        },
        "id": "uAEGxlc_0Lik",
        "outputId": "391025fe-d60d-4e61-f740-332e24b70202"
      },
      "execution_count": 18,
      "outputs": [
        {
          "output_type": "execute_result",
          "data": {
            "text/plain": [
              "3"
            ]
          },
          "metadata": {},
          "execution_count": 18
        }
      ]
    },
    {
      "cell_type": "code",
      "source": [
        "TENSOR.shape"
      ],
      "metadata": {
        "colab": {
          "base_uri": "https://localhost:8080/"
        },
        "id": "7lE3s16O0kcr",
        "outputId": "09bb5cf6-808b-4e51-c023-cee9d2349a50"
      },
      "execution_count": 19,
      "outputs": [
        {
          "output_type": "execute_result",
          "data": {
            "text/plain": [
              "torch.Size([1, 3, 3])"
            ]
          },
          "metadata": {},
          "execution_count": 19
        }
      ]
    },
    {
      "cell_type": "code",
      "source": [
        "TENSOR[0]"
      ],
      "metadata": {
        "colab": {
          "base_uri": "https://localhost:8080/"
        },
        "id": "k5Q9F5e-0sP_",
        "outputId": "efe84a61-c11c-4ee8-d27b-016a55c40c0f"
      },
      "execution_count": 20,
      "outputs": [
        {
          "output_type": "execute_result",
          "data": {
            "text/plain": [
              "tensor([[1, 2, 3],\n",
              "        [3, 6, 9],\n",
              "        [2, 4, 5]])"
            ]
          },
          "metadata": {},
          "execution_count": 20
        }
      ]
    },
    {
      "cell_type": "code",
      "source": [
        "#PRACTICE TENSORS 1\n",
        "tensor1 = torch.tensor([1])\n",
        "print(tensor1.ndim)\n",
        "print(tensor1.shape)\n",
        "print(tensor1[0])\n",
        "tensor1\n"
      ],
      "metadata": {
        "colab": {
          "base_uri": "https://localhost:8080/"
        },
        "id": "3ceN5YO--33m",
        "outputId": "c79d964d-fc91-4cee-cc3c-0232ff2b6edb"
      },
      "execution_count": 21,
      "outputs": [
        {
          "output_type": "stream",
          "name": "stdout",
          "text": [
            "1\n",
            "torch.Size([1])\n",
            "tensor(1)\n"
          ]
        },
        {
          "output_type": "execute_result",
          "data": {
            "text/plain": [
              "tensor([1])"
            ]
          },
          "metadata": {},
          "execution_count": 21
        }
      ]
    },
    {
      "cell_type": "code",
      "source": [
        "#PRACTICE TENSORS 2\n",
        "#tensor2 = torch.tensor([1],[2],[3])\n",
        "#TypeError: tensor() takes 1 positional argument but 3 were given\n",
        "#WE HAVE TO MAKE IT LIKE A 2D TENSOR OR WE CAN ADD INSIDE THE SINGLES WHICH WILL REMAIN A 1D TENSOR\n",
        "tensor2 = torch.tensor([1,2,3,4,55,52,54,5,353])\n",
        "print(tensor2.ndim)\n",
        "print(tensor2.shape)\n",
        "print(tensor2[4])\n",
        "tensor2\n"
      ],
      "metadata": {
        "colab": {
          "base_uri": "https://localhost:8080/"
        },
        "id": "rPS45TyP_onW",
        "outputId": "13e70f78-7244-44a3-d454-47b1b1342b61"
      },
      "execution_count": 22,
      "outputs": [
        {
          "output_type": "stream",
          "name": "stdout",
          "text": [
            "1\n",
            "torch.Size([9])\n",
            "tensor(55)\n"
          ]
        },
        {
          "output_type": "execute_result",
          "data": {
            "text/plain": [
              "tensor([  1,   2,   3,   4,  55,  52,  54,   5, 353])"
            ]
          },
          "metadata": {},
          "execution_count": 22
        }
      ]
    },
    {
      "cell_type": "code",
      "source": [
        "#PRACTICE TENSORS 3\n",
        "#The below code doesnt work cuz:\n",
        "#ValueError: expected sequence of length 2 at dim 1 (got 3)\n",
        "#tensor3 = torch.tensor([[1,2],\n",
        "#                        [1,2,3],\n",
        "#                        [4]])\n",
        "tensor3 = torch.tensor([[1,2,3],\n",
        "                        [11,12,13],\n",
        "                        [4,5,6]])\n",
        "print(tensor3.ndim)\n",
        "print(tensor3.shape)\n",
        "print(tensor3[2])\n",
        "print(tensor3[1,2])\n",
        "tensor3\n"
      ],
      "metadata": {
        "colab": {
          "base_uri": "https://localhost:8080/"
        },
        "id": "AsKQnUzLBxXr",
        "outputId": "16c112b8-78cd-49ac-8038-7467e76ee6d8"
      },
      "execution_count": 23,
      "outputs": [
        {
          "output_type": "stream",
          "name": "stdout",
          "text": [
            "2\n",
            "torch.Size([3, 3])\n",
            "tensor([4, 5, 6])\n",
            "tensor(13)\n"
          ]
        },
        {
          "output_type": "execute_result",
          "data": {
            "text/plain": [
              "tensor([[ 1,  2,  3],\n",
              "        [11, 12, 13],\n",
              "        [ 4,  5,  6]])"
            ]
          },
          "metadata": {},
          "execution_count": 23
        }
      ]
    },
    {
      "cell_type": "code",
      "source": [
        "#PRACTICE TENSORS 4\n",
        "\n",
        "tensor4 = torch.tensor([[1,2,3,4,65],\n",
        "                        [11,12,13,89,56],\n",
        "                        [44,5,6,10,5],\n",
        "                        [1,2,3,46,6]])\n",
        "print(tensor4.ndim)\n",
        "print(tensor4.shape)\n",
        "print(tensor4[2])\n",
        "print(tensor4[1,2])\n",
        "tensor4\n"
      ],
      "metadata": {
        "id": "KH4eAV2QF2l_",
        "colab": {
          "base_uri": "https://localhost:8080/"
        },
        "outputId": "e5af00cf-e559-43b4-c39f-1a442a3b4f72"
      },
      "execution_count": 24,
      "outputs": [
        {
          "output_type": "stream",
          "name": "stdout",
          "text": [
            "2\n",
            "torch.Size([4, 5])\n",
            "tensor([44,  5,  6, 10,  5])\n",
            "tensor(13)\n"
          ]
        },
        {
          "output_type": "execute_result",
          "data": {
            "text/plain": [
              "tensor([[ 1,  2,  3,  4, 65],\n",
              "        [11, 12, 13, 89, 56],\n",
              "        [44,  5,  6, 10,  5],\n",
              "        [ 1,  2,  3, 46,  6]])"
            ]
          },
          "metadata": {},
          "execution_count": 24
        }
      ]
    },
    {
      "cell_type": "code",
      "source": [
        "#PRACTICE TENSORS 5\n",
        "\n",
        "tensor5 = torch.tensor([[[1,2,3,4,65],\n",
        "                        [11,12,13,89,56],\n",
        "                        [44,5,6,10,5],\n",
        "                        [1,2,3,46,6]]])\n",
        "print(tensor5.ndim)\n",
        "print(tensor5.shape)\n",
        "\n",
        "#print(tensor5[2]) not possible cuz:\n",
        "#IndexError: index 2 is out of bounds for dimension 0 with size SOOO....:\n",
        "print(tensor5[0,1])\n",
        "\n",
        "#print(tensor5[1,2]) not possible cuz:\n",
        "#index 1 is out of bounds for dimension 0 with size 1 SOOOO....:\n",
        "print(tensor5[0,2,3])\n",
        "\n",
        "tensor5\n"
      ],
      "metadata": {
        "colab": {
          "base_uri": "https://localhost:8080/"
        },
        "id": "ycVqI-XPIm11",
        "outputId": "c0cee24d-17a7-4209-a1cd-460fca2927fb"
      },
      "execution_count": 25,
      "outputs": [
        {
          "output_type": "stream",
          "name": "stdout",
          "text": [
            "3\n",
            "torch.Size([1, 4, 5])\n",
            "tensor([11, 12, 13, 89, 56])\n",
            "tensor(10)\n"
          ]
        },
        {
          "output_type": "execute_result",
          "data": {
            "text/plain": [
              "tensor([[[ 1,  2,  3,  4, 65],\n",
              "         [11, 12, 13, 89, 56],\n",
              "         [44,  5,  6, 10,  5],\n",
              "         [ 1,  2,  3, 46,  6]]])"
            ]
          },
          "metadata": {},
          "execution_count": 25
        }
      ]
    },
    {
      "cell_type": "code",
      "source": [
        "#PRACTICE TENSORS 6\n",
        "\n",
        "#tensor6 = torch.tensor([[[1,2,3,4,65],[32,43,54,65]\n",
        "#                        [11,12,13,89,56],[12,22,32,42]\n",
        "#                        [44,5,6,10,5],[22,33,44,55,66]\n",
        "#                        [1,2,3,46,6],[23,33,43,53]]])\n",
        "#CUZ:   TypeError must be lists, not tuples, were missing commas and first are 5 while seconds were 4 ,have to be equal....SOOO..:\n",
        "\n",
        "#tensor6 = torch.tensor([[[1,2,3,4,65],[32,43,54,65,11],\n",
        "#                        [11,12,13,89,56],[12,22,32,42,22],\n",
        "#                        [44,5,6,10,5],[22,33,44,55,200],\n",
        "#                        [1,2,3,46,6],[23,33,43,53,100]]])\n",
        "#works....but same as before with size[1,8,5]....\n",
        "\n",
        "tensor6 = torch.tensor([\n",
        "                        [[1,2,3,4,65],\n",
        "                        [11,12,13,89,56],\n",
        "                        [44,5,6,10,5],\n",
        "                        [1,2,3,46,6]],\n",
        "\n",
        "                          [[32,43,54,65,11],\n",
        "                          [12,22,32,42,22],\n",
        "                          [22,33,44,55,200],\n",
        "                          [23,33,43,53,100]]\n",
        "                        ])\n",
        "\n",
        "print(tensor6.ndim)\n",
        "print(tensor6.shape)\n",
        "\n",
        "print(tensor6[0,1])\n",
        "\n",
        "print(tensor6[1,2,3])\n",
        "\n",
        "tensor6\n"
      ],
      "metadata": {
        "colab": {
          "base_uri": "https://localhost:8080/"
        },
        "id": "ckI9bspVJEDK",
        "outputId": "dc6d22f3-8228-4008-fce7-1e3a5ac6c8bc"
      },
      "execution_count": 26,
      "outputs": [
        {
          "output_type": "stream",
          "name": "stdout",
          "text": [
            "3\n",
            "torch.Size([2, 4, 5])\n",
            "tensor([11, 12, 13, 89, 56])\n",
            "tensor(55)\n"
          ]
        },
        {
          "output_type": "execute_result",
          "data": {
            "text/plain": [
              "tensor([[[  1,   2,   3,   4,  65],\n",
              "         [ 11,  12,  13,  89,  56],\n",
              "         [ 44,   5,   6,  10,   5],\n",
              "         [  1,   2,   3,  46,   6]],\n",
              "\n",
              "        [[ 32,  43,  54,  65,  11],\n",
              "         [ 12,  22,  32,  42,  22],\n",
              "         [ 22,  33,  44,  55, 200],\n",
              "         [ 23,  33,  43,  53, 100]]])"
            ]
          },
          "metadata": {},
          "execution_count": 26
        }
      ]
    },
    {
      "cell_type": "markdown",
      "source": [
        "**END OF PRACTICE**"
      ],
      "metadata": {
        "id": "awfD9cYaSYmF"
      }
    },
    {
      "cell_type": "markdown",
      "source": [
        "##**RANDOM tensors**\n",
        "Why random tensors?\n",
        "\n",
        "it starts with tensors full of random numbers and then adjust those random numbers to better represent the data.\n",
        "\n",
        "`Start with RND nums -> look at data ->update RND nums -> look at data -> update RND nums\n",
        "\n",
        "More at: https://pytorch.org/docs/stable/generated/torch.rand.html"
      ],
      "metadata": {
        "id": "46u-UUXfS1MU"
      }
    },
    {
      "cell_type": "code",
      "source": [
        "#Create a random tensor of size (3,4)\n",
        "rand_tensor = torch.rand(3,4)\n",
        "rand_tensor"
      ],
      "metadata": {
        "colab": {
          "base_uri": "https://localhost:8080/"
        },
        "id": "jaFOWlnXK1rn",
        "outputId": "de10ba62-3eed-4bb3-acfb-0dad28ae4325"
      },
      "execution_count": 27,
      "outputs": [
        {
          "output_type": "execute_result",
          "data": {
            "text/plain": [
              "tensor([[0.5743, 0.2038, 0.5936, 0.6850],\n",
              "        [0.1867, 0.2730, 0.6483, 0.9214],\n",
              "        [0.0033, 0.8798, 0.6692, 0.8258]])"
            ]
          },
          "metadata": {},
          "execution_count": 27
        }
      ]
    },
    {
      "cell_type": "code",
      "source": [
        "rand_tensor.ndim"
      ],
      "metadata": {
        "colab": {
          "base_uri": "https://localhost:8080/"
        },
        "id": "uuliaE0DUW6q",
        "outputId": "f7fc6e62-58d7-4358-fb6c-1b6cbda779de"
      },
      "execution_count": 28,
      "outputs": [
        {
          "output_type": "execute_result",
          "data": {
            "text/plain": [
              "2"
            ]
          },
          "metadata": {},
          "execution_count": 28
        }
      ]
    },
    {
      "cell_type": "code",
      "source": [
        "#Create a random tensor of size (2,4,5)\n",
        "rand_tensor2 = torch.rand(2,4,5)\n",
        "rand_tensor2"
      ],
      "metadata": {
        "colab": {
          "base_uri": "https://localhost:8080/"
        },
        "id": "fkCeJXEqUran",
        "outputId": "ef33f9b6-14f2-4ae2-e4af-a4fb051ac838"
      },
      "execution_count": 29,
      "outputs": [
        {
          "output_type": "execute_result",
          "data": {
            "text/plain": [
              "tensor([[[0.3972, 0.7871, 0.6572, 0.8269, 0.0462],\n",
              "         [0.2704, 0.3912, 0.1302, 0.9131, 0.8889],\n",
              "         [0.1820, 0.5466, 0.8955, 0.3769, 0.7540],\n",
              "         [0.7599, 0.9184, 0.0881, 0.7864, 0.6407]],\n",
              "\n",
              "        [[0.3313, 0.8804, 0.3904, 0.0147, 0.2780],\n",
              "         [0.2241, 0.5201, 0.3655, 0.3826, 0.1124],\n",
              "         [0.9438, 0.8412, 0.6633, 0.2440, 0.6219],\n",
              "         [0.3048, 0.7770, 0.5694, 0.2392, 0.0438]]])"
            ]
          },
          "metadata": {},
          "execution_count": 29
        }
      ]
    },
    {
      "cell_type": "code",
      "source": [
        "rand_tensor2.ndim"
      ],
      "metadata": {
        "colab": {
          "base_uri": "https://localhost:8080/"
        },
        "id": "KANkigTgU13z",
        "outputId": "4b8693a9-4efa-4537-b3ee-1e55a2bf86d9"
      },
      "execution_count": 30,
      "outputs": [
        {
          "output_type": "execute_result",
          "data": {
            "text/plain": [
              "3"
            ]
          },
          "metadata": {},
          "execution_count": 30
        }
      ]
    },
    {
      "cell_type": "code",
      "source": [
        "rand_tensor2 = torch.rand(2,3,4,5)\n",
        "print(rand_tensor2.shape)\n",
        "print(rand_tensor2.ndim)\n",
        "rand_tensor2"
      ],
      "metadata": {
        "colab": {
          "base_uri": "https://localhost:8080/"
        },
        "id": "poanp2X3U5DB",
        "outputId": "83788215-c3b4-4458-faa4-82949cd01c64"
      },
      "execution_count": 31,
      "outputs": [
        {
          "output_type": "stream",
          "name": "stdout",
          "text": [
            "torch.Size([2, 3, 4, 5])\n",
            "4\n"
          ]
        },
        {
          "output_type": "execute_result",
          "data": {
            "text/plain": [
              "tensor([[[[0.1445, 0.0295, 0.8653, 0.2200, 0.7191],\n",
              "          [0.6411, 0.1002, 0.9959, 0.4902, 0.9447],\n",
              "          [0.4715, 0.7862, 0.0801, 0.2962, 0.2584],\n",
              "          [0.6515, 0.1942, 0.4742, 0.1525, 0.9790]],\n",
              "\n",
              "         [[0.8450, 0.4462, 0.8852, 0.9914, 0.7053],\n",
              "          [0.0946, 0.1040, 0.5482, 0.5046, 0.5557],\n",
              "          [0.9389, 0.1895, 0.0326, 0.6327, 0.0725],\n",
              "          [0.5775, 0.2523, 0.0339, 0.0425, 0.6576]],\n",
              "\n",
              "         [[0.1747, 0.0594, 0.2309, 0.6180, 0.8672],\n",
              "          [0.5780, 0.8836, 0.4923, 0.7466, 0.4899],\n",
              "          [0.6112, 0.3607, 0.8670, 0.8087, 0.1184],\n",
              "          [0.3596, 0.7087, 0.0332, 0.7226, 0.3114]]],\n",
              "\n",
              "\n",
              "        [[[0.5881, 0.9366, 0.2102, 0.4081, 0.8221],\n",
              "          [0.8440, 0.7628, 0.5578, 0.2776, 0.4905],\n",
              "          [0.4576, 0.3010, 0.7096, 0.5978, 0.8612],\n",
              "          [0.4065, 0.6901, 0.5577, 0.3935, 0.7779]],\n",
              "\n",
              "         [[0.9726, 0.4182, 0.6115, 0.8491, 0.3894],\n",
              "          [0.3721, 0.5134, 0.9738, 0.8466, 0.0216],\n",
              "          [0.8556, 0.0560, 0.2665, 0.4297, 0.5930],\n",
              "          [0.8809, 0.4329, 0.7213, 0.3116, 0.3709]],\n",
              "\n",
              "         [[0.5763, 0.8617, 0.2361, 0.6188, 0.0465],\n",
              "          [0.9337, 0.3867, 0.0351, 0.8123, 0.1393],\n",
              "          [0.0809, 0.3773, 0.0535, 0.6096, 0.4143],\n",
              "          [0.3178, 0.2613, 0.0486, 0.3516, 0.0325]]]])"
            ]
          },
          "metadata": {},
          "execution_count": 31
        }
      ]
    },
    {
      "cell_type": "code",
      "source": [
        "#Create a random tensor with similar shape to an image tensor\n",
        "random_img_size_tensor = torch.rand(size=(3,224,224)) #height,width,color channels(rgb)\n",
        "random_img_size_tensor.shape,random_img_size_tensor.ndim"
      ],
      "metadata": {
        "colab": {
          "base_uri": "https://localhost:8080/"
        },
        "id": "uKFWWDHoVuh_",
        "outputId": "2f759e24-09e9-4690-cf1d-dd9d8a25d25d"
      },
      "execution_count": 32,
      "outputs": [
        {
          "output_type": "execute_result",
          "data": {
            "text/plain": [
              "(torch.Size([3, 224, 224]), 3)"
            ]
          },
          "metadata": {},
          "execution_count": 32
        }
      ]
    },
    {
      "cell_type": "code",
      "source": [
        "#PRACTiCE:\n",
        "rand_tensorrr = torch.rand(1,1,1,1,1,1,1)\n",
        "print(rand_tensorrr.shape)\n",
        "print(rand_tensorrr.ndim)\n",
        "print(rand_tensorrr)\n",
        "\n",
        "rand_tensorr = torch.rand(1,2,3,4)\n",
        "print(rand_tensorr.shape)\n",
        "print(rand_tensorr.ndim)\n",
        "print(rand_tensorr)\n",
        "\n",
        "rand_tensor3 = torch.rand(2,3,4,5)\n",
        "print(rand_tensor3.shape)\n",
        "print(rand_tensor3.ndim)\n",
        "print(rand_tensor3)\n",
        "\n",
        "rand_tensor5 = torch.rand(3,2,3,2,6)\n",
        "print(rand_tensor5.shape)\n",
        "print(rand_tensor5.ndim)\n",
        "rand_tensor5"
      ],
      "metadata": {
        "colab": {
          "base_uri": "https://localhost:8080/"
        },
        "id": "ryU-rGEnWqg6",
        "outputId": "c3ddda01-f764-4c02-fe89-45c4b2f0d9d2"
      },
      "execution_count": 33,
      "outputs": [
        {
          "output_type": "stream",
          "name": "stdout",
          "text": [
            "torch.Size([1, 1, 1, 1, 1, 1, 1])\n",
            "7\n",
            "tensor([[[[[[[0.5188]]]]]]])\n",
            "torch.Size([1, 2, 3, 4])\n",
            "4\n",
            "tensor([[[[0.6269, 0.4484, 0.5826, 0.6117],\n",
            "          [0.3178, 0.4472, 0.2039, 0.6875],\n",
            "          [0.8446, 0.9531, 0.8224, 0.9059]],\n",
            "\n",
            "         [[0.6106, 0.8667, 0.9757, 0.6875],\n",
            "          [0.8064, 0.8377, 0.4819, 0.4825],\n",
            "          [0.9082, 0.6708, 0.6201, 0.8530]]]])\n",
            "torch.Size([2, 3, 4, 5])\n",
            "4\n",
            "tensor([[[[0.5575, 0.9529, 0.2234, 0.3563, 0.5954],\n",
            "          [0.2115, 0.4942, 0.6589, 0.8078, 0.3033],\n",
            "          [0.5708, 0.7504, 0.2520, 0.4633, 0.1893],\n",
            "          [0.9417, 0.2205, 0.7652, 0.2782, 0.8032]],\n",
            "\n",
            "         [[0.2377, 0.7451, 0.1328, 0.0227, 0.0171],\n",
            "          [0.1566, 0.3205, 0.2146, 0.3037, 0.9497],\n",
            "          [0.1152, 0.7602, 0.8752, 0.4706, 0.1899],\n",
            "          [0.3528, 0.6536, 0.9308, 0.3664, 0.9518]],\n",
            "\n",
            "         [[0.0359, 0.6344, 0.2266, 0.0349, 0.5322],\n",
            "          [0.0184, 0.7857, 0.3348, 0.6502, 0.4808],\n",
            "          [0.3187, 0.9807, 0.4216, 0.2716, 0.7419],\n",
            "          [0.1554, 0.6811, 0.5140, 0.2775, 0.8008]]],\n",
            "\n",
            "\n",
            "        [[[0.2440, 0.7304, 0.4811, 0.0171, 0.8872],\n",
            "          [0.8995, 0.0896, 0.5173, 0.9647, 0.6440],\n",
            "          [0.6243, 0.3399, 0.8114, 0.7065, 0.1599],\n",
            "          [0.8570, 0.7780, 0.2655, 0.5081, 0.7346]],\n",
            "\n",
            "         [[0.2323, 0.6158, 0.5842, 0.3141, 0.7757],\n",
            "          [0.3595, 0.8715, 0.5021, 0.8435, 0.7324],\n",
            "          [0.2663, 0.2737, 0.3733, 0.1158, 0.2068],\n",
            "          [0.2456, 0.5609, 0.2249, 0.8212, 0.7661]],\n",
            "\n",
            "         [[0.1129, 0.8363, 0.1601, 0.8318, 0.1640],\n",
            "          [0.5978, 0.8479, 0.9528, 0.1316, 0.3738],\n",
            "          [0.2189, 0.4446, 0.8822, 0.7589, 0.0438],\n",
            "          [0.0750, 0.5780, 0.3091, 0.9257, 0.3275]]]])\n",
            "torch.Size([3, 2, 3, 2, 6])\n",
            "5\n"
          ]
        },
        {
          "output_type": "execute_result",
          "data": {
            "text/plain": [
              "tensor([[[[[0.8745, 0.8770, 0.6045, 0.1444, 0.7156, 0.6268],\n",
              "           [0.7788, 0.5175, 0.0255, 0.7516, 0.7500, 0.1805]],\n",
              "\n",
              "          [[0.9145, 0.6233, 0.1070, 0.9765, 0.2378, 0.7423],\n",
              "           [0.5037, 0.2758, 0.5507, 0.9608, 0.8330, 0.6542]],\n",
              "\n",
              "          [[0.9556, 0.6372, 0.2008, 0.1551, 0.5717, 0.9866],\n",
              "           [0.8931, 0.0518, 0.7530, 0.0441, 0.5760, 0.2373]]],\n",
              "\n",
              "\n",
              "         [[[0.3412, 0.6924, 0.9518, 0.2483, 0.3633, 0.0855],\n",
              "           [0.3507, 0.8309, 0.0543, 0.5314, 0.8043, 0.5549]],\n",
              "\n",
              "          [[0.1118, 0.9586, 0.4839, 0.7888, 0.7979, 0.6231],\n",
              "           [0.2755, 0.5227, 0.8710, 0.1745, 0.5681, 0.3509]],\n",
              "\n",
              "          [[0.5490, 0.0035, 0.4256, 0.7587, 0.4767, 0.8235],\n",
              "           [0.0691, 0.7126, 0.7691, 0.5920, 0.3645, 0.7616]]]],\n",
              "\n",
              "\n",
              "\n",
              "        [[[[0.8110, 0.8827, 0.9821, 0.4095, 0.0223, 0.1675],\n",
              "           [0.6778, 0.9842, 0.6207, 0.2594, 0.2563, 0.0460]],\n",
              "\n",
              "          [[0.6724, 0.1171, 0.5635, 0.4953, 0.1805, 0.3305],\n",
              "           [0.2227, 0.8815, 0.3029, 0.8449, 0.9551, 0.0593]],\n",
              "\n",
              "          [[0.8885, 0.8545, 0.7615, 0.4954, 0.7726, 0.0137],\n",
              "           [0.2485, 0.2367, 0.0998, 0.7236, 0.0103, 0.2836]]],\n",
              "\n",
              "\n",
              "         [[[0.3949, 0.3029, 0.3062, 0.5078, 0.9441, 0.4959],\n",
              "           [0.8649, 0.9729, 0.3909, 0.2982, 0.1240, 0.3501]],\n",
              "\n",
              "          [[0.8151, 0.0580, 0.2157, 0.0730, 0.3140, 0.2575],\n",
              "           [0.8557, 0.9930, 0.6597, 0.4767, 0.4395, 0.4705]],\n",
              "\n",
              "          [[0.7714, 0.1207, 0.3427, 0.0695, 0.2454, 0.5814],\n",
              "           [0.7860, 0.3096, 0.0519, 0.6552, 0.3598, 0.4233]]]],\n",
              "\n",
              "\n",
              "\n",
              "        [[[[0.3803, 0.5826, 0.4669, 0.1418, 0.4870, 0.2807],\n",
              "           [0.3120, 0.0181, 0.9721, 0.6629, 0.0573, 0.4708]],\n",
              "\n",
              "          [[0.6950, 0.8379, 0.0539, 0.8283, 0.2158, 0.5015],\n",
              "           [0.3141, 0.5309, 0.4563, 0.0315, 0.1829, 0.5993]],\n",
              "\n",
              "          [[0.3929, 0.6730, 0.8160, 0.1146, 0.3212, 0.9654],\n",
              "           [0.9746, 0.7499, 0.0429, 0.5895, 0.8737, 0.9615]]],\n",
              "\n",
              "\n",
              "         [[[0.0155, 0.2747, 0.7052, 0.6811, 0.7487, 0.2766],\n",
              "           [0.0788, 0.5693, 0.3777, 0.8786, 0.3346, 0.2033]],\n",
              "\n",
              "          [[0.6054, 0.0596, 0.0824, 0.8856, 0.5491, 0.3557],\n",
              "           [0.0886, 0.1489, 0.7091, 0.0597, 0.2328, 0.8007]],\n",
              "\n",
              "          [[0.9179, 0.6343, 0.7946, 0.8058, 0.1798, 0.1497],\n",
              "           [0.2364, 0.2400, 0.9687, 0.4696, 0.8941, 0.7326]]]]])"
            ]
          },
          "metadata": {},
          "execution_count": 33
        }
      ]
    },
    {
      "cell_type": "markdown",
      "source": [
        "###Zeros and ones"
      ],
      "metadata": {
        "id": "fl8RY-9kWu6-"
      }
    },
    {
      "cell_type": "code",
      "source": [
        "# Create a tensor of all zeros\n",
        "zeros = torch.zeros(size=(3,4))\n",
        "zeros"
      ],
      "metadata": {
        "colab": {
          "base_uri": "https://localhost:8080/"
        },
        "id": "6NwiqEGfjnB4",
        "outputId": "9bb61270-af94-46c1-b26c-7785e5d63702"
      },
      "execution_count": 34,
      "outputs": [
        {
          "output_type": "execute_result",
          "data": {
            "text/plain": [
              "tensor([[0., 0., 0., 0.],\n",
              "        [0., 0., 0., 0.],\n",
              "        [0., 0., 0., 0.]])"
            ]
          },
          "metadata": {},
          "execution_count": 34
        }
      ]
    },
    {
      "cell_type": "code",
      "source": [
        "zeros*rand_tensor"
      ],
      "metadata": {
        "colab": {
          "base_uri": "https://localhost:8080/"
        },
        "id": "kUUU4cKdkDcq",
        "outputId": "d1c54678-4f53-4da0-da6a-cede1944a422"
      },
      "execution_count": 35,
      "outputs": [
        {
          "output_type": "execute_result",
          "data": {
            "text/plain": [
              "tensor([[0., 0., 0., 0.],\n",
              "        [0., 0., 0., 0.],\n",
              "        [0., 0., 0., 0.]])"
            ]
          },
          "metadata": {},
          "execution_count": 35
        }
      ]
    },
    {
      "cell_type": "code",
      "source": [
        "#Create a tensor of all ones\n",
        "ones = torch.ones(size=(3,4))\n",
        "ones"
      ],
      "metadata": {
        "colab": {
          "base_uri": "https://localhost:8080/"
        },
        "id": "ZJ3-qJ7EkHJv",
        "outputId": "2e5d434e-9a94-420f-d7d9-05c4ac1c143f"
      },
      "execution_count": 36,
      "outputs": [
        {
          "output_type": "execute_result",
          "data": {
            "text/plain": [
              "tensor([[1., 1., 1., 1.],\n",
              "        [1., 1., 1., 1.],\n",
              "        [1., 1., 1., 1.]])"
            ]
          },
          "metadata": {},
          "execution_count": 36
        }
      ]
    },
    {
      "cell_type": "code",
      "source": [
        "ones.dtype"
      ],
      "metadata": {
        "colab": {
          "base_uri": "https://localhost:8080/"
        },
        "id": "NSM4TrKrkhBS",
        "outputId": "beeea9b8-e792-470c-b414-1896b63ecad3"
      },
      "execution_count": 37,
      "outputs": [
        {
          "output_type": "execute_result",
          "data": {
            "text/plain": [
              "torch.float32"
            ]
          },
          "metadata": {},
          "execution_count": 37
        }
      ]
    },
    {
      "cell_type": "code",
      "source": [
        "ones*zeros"
      ],
      "metadata": {
        "colab": {
          "base_uri": "https://localhost:8080/"
        },
        "id": "0AoqM5Zukqtq",
        "outputId": "fc96e270-3284-4c12-92f6-437d55b75d58"
      },
      "execution_count": 38,
      "outputs": [
        {
          "output_type": "execute_result",
          "data": {
            "text/plain": [
              "tensor([[0., 0., 0., 0.],\n",
              "        [0., 0., 0., 0.],\n",
              "        [0., 0., 0., 0.]])"
            ]
          },
          "metadata": {},
          "execution_count": 38
        }
      ]
    },
    {
      "cell_type": "markdown",
      "source": [
        "### Creating a range of tensors and tensors-like"
      ],
      "metadata": {
        "id": "Z6lvDgSwk49w"
      }
    },
    {
      "cell_type": "code",
      "source": [
        "# Use torch.range()\n",
        "one_to_ten = torch.arange(0,1000,78)\n",
        "one_to_ten"
      ],
      "metadata": {
        "colab": {
          "base_uri": "https://localhost:8080/"
        },
        "id": "7xR8uAlVlGWh",
        "outputId": "31aa6ebe-6841-45c9-80e6-66959351471c"
      },
      "execution_count": 39,
      "outputs": [
        {
          "output_type": "execute_result",
          "data": {
            "text/plain": [
              "tensor([  0,  78, 156, 234, 312, 390, 468, 546, 624, 702, 780, 858, 936])"
            ]
          },
          "metadata": {},
          "execution_count": 39
        }
      ]
    },
    {
      "cell_type": "code",
      "source": [
        "# Tensor like\n",
        "one_to_ten_like = torch.zeros_like(input=one_to_ten)\n",
        "one_to_ten_like"
      ],
      "metadata": {
        "colab": {
          "base_uri": "https://localhost:8080/"
        },
        "id": "duU9NesdlgIW",
        "outputId": "becca891-29b8-43bd-d773-de605edec1ed"
      },
      "execution_count": 40,
      "outputs": [
        {
          "output_type": "execute_result",
          "data": {
            "text/plain": [
              "tensor([0, 0, 0, 0, 0, 0, 0, 0, 0, 0, 0, 0, 0])"
            ]
          },
          "metadata": {},
          "execution_count": 40
        }
      ]
    },
    {
      "cell_type": "code",
      "source": [
        "two_to_ten_like = torch.ones_like(input=one_to_ten)\n",
        "two_to_ten_like"
      ],
      "metadata": {
        "colab": {
          "base_uri": "https://localhost:8080/"
        },
        "id": "lrEJhSQhl00f",
        "outputId": "a1c773cf-f5c7-4ada-fd23-3d114730ce76"
      },
      "execution_count": 41,
      "outputs": [
        {
          "output_type": "execute_result",
          "data": {
            "text/plain": [
              "tensor([1, 1, 1, 1, 1, 1, 1, 1, 1, 1, 1, 1, 1])"
            ]
          },
          "metadata": {},
          "execution_count": 41
        }
      ]
    },
    {
      "cell_type": "markdown",
      "source": [
        "### Tensor Data Type\n",
        "\n",
        "**Note:** Tensor data types is one of the 3 big errors you may run into with PyTorch & deep learning:\n",
        "  1. Tensors not right datatype\n",
        "  2. Tensors not right shape\n",
        "  3. Tensors not on the right device\n",
        "\n",
        "  Learn more about precision incomputing here:\n",
        "  https://en.wikipedia.org/wiki/Precision_(computer_science)"
      ],
      "metadata": {
        "id": "dGpn8QXCmcLx"
      }
    },
    {
      "cell_type": "code",
      "source": [
        "# Float 32 Tensor\n",
        "float_32_tensor = torch.tensor([3.0,6.0,9.0],\n",
        "                               dtype=None, #what datatype is the tensor(e.g. float32 or float16)\n",
        "                               device=None, #what device is your tensor on\n",
        "                               requires_grad=False) #whether or not to track gradients with this tensors operations\n",
        "\n",
        "float_32_tensor"
      ],
      "metadata": {
        "colab": {
          "base_uri": "https://localhost:8080/"
        },
        "id": "CEkXZZAn95H6",
        "outputId": "611d2dff-c0d7-4a7f-aef6-f4bd00a98e06"
      },
      "execution_count": 42,
      "outputs": [
        {
          "output_type": "execute_result",
          "data": {
            "text/plain": [
              "tensor([3., 6., 9.])"
            ]
          },
          "metadata": {},
          "execution_count": 42
        }
      ]
    },
    {
      "cell_type": "code",
      "source": [
        "float_32_tensor.dtype"
      ],
      "metadata": {
        "colab": {
          "base_uri": "https://localhost:8080/"
        },
        "id": "1zajTg52-Hqr",
        "outputId": "b0642872-243f-4aea-f6e0-98504f630823"
      },
      "execution_count": 43,
      "outputs": [
        {
          "output_type": "execute_result",
          "data": {
            "text/plain": [
              "torch.float32"
            ]
          },
          "metadata": {},
          "execution_count": 43
        }
      ]
    },
    {
      "cell_type": "code",
      "source": [
        "float_16_tensor = float_32_tensor.type(torch.float16)\n",
        "float_16_tensor"
      ],
      "metadata": {
        "id": "GrDV65PsBqk3",
        "colab": {
          "base_uri": "https://localhost:8080/"
        },
        "outputId": "a1833e63-3835-487f-abee-1f079c6f4743"
      },
      "execution_count": 44,
      "outputs": [
        {
          "output_type": "execute_result",
          "data": {
            "text/plain": [
              "tensor([3., 6., 9.], dtype=torch.float16)"
            ]
          },
          "metadata": {},
          "execution_count": 44
        }
      ]
    },
    {
      "cell_type": "code",
      "source": [
        "float_16_tensor * float_32_tensor"
      ],
      "metadata": {
        "colab": {
          "base_uri": "https://localhost:8080/"
        },
        "id": "FoagK8kc9AmB",
        "outputId": "91d3028f-c75e-4bb6-ffc2-b7bf36a380c0"
      },
      "execution_count": 45,
      "outputs": [
        {
          "output_type": "execute_result",
          "data": {
            "text/plain": [
              "tensor([ 9., 36., 81.])"
            ]
          },
          "metadata": {},
          "execution_count": 45
        }
      ]
    },
    {
      "cell_type": "code",
      "source": [
        "int_32_tensor = torch.tensor([3,6,9], dtype= torch.int32)\n",
        "int_32_tensor"
      ],
      "metadata": {
        "colab": {
          "base_uri": "https://localhost:8080/"
        },
        "id": "WBfxLRwo9pdK",
        "outputId": "9bd969ed-0588-4703-92aa-6057320f61a6"
      },
      "execution_count": 46,
      "outputs": [
        {
          "output_type": "execute_result",
          "data": {
            "text/plain": [
              "tensor([3, 6, 9], dtype=torch.int32)"
            ]
          },
          "metadata": {},
          "execution_count": 46
        }
      ]
    },
    {
      "cell_type": "code",
      "source": [
        "float_32_tensor * int_32_tensor"
      ],
      "metadata": {
        "colab": {
          "base_uri": "https://localhost:8080/"
        },
        "id": "Otzm3BoO-J_I",
        "outputId": "d09b192e-b7be-400d-d2e1-544bf72e9610"
      },
      "execution_count": 47,
      "outputs": [
        {
          "output_type": "execute_result",
          "data": {
            "text/plain": [
              "tensor([ 9., 36., 81.])"
            ]
          },
          "metadata": {},
          "execution_count": 47
        }
      ]
    },
    {
      "cell_type": "code",
      "source": [
        "int_long_tensor = torch.tensor([3,6,9], dtype= torch.long)\n",
        "int_long_tensor"
      ],
      "metadata": {
        "colab": {
          "base_uri": "https://localhost:8080/"
        },
        "id": "mao6cGWs-PFa",
        "outputId": "9cb68559-a867-4020-be29-914e988af38c"
      },
      "execution_count": 48,
      "outputs": [
        {
          "output_type": "execute_result",
          "data": {
            "text/plain": [
              "tensor([3, 6, 9])"
            ]
          },
          "metadata": {},
          "execution_count": 48
        }
      ]
    },
    {
      "cell_type": "code",
      "source": [
        "float_32_tensor * int_long_tensor"
      ],
      "metadata": {
        "colab": {
          "base_uri": "https://localhost:8080/"
        },
        "id": "sF0JBWfo-nhO",
        "outputId": "3d281449-0916-4313-8c19-b2575e69cdab"
      },
      "execution_count": 49,
      "outputs": [
        {
          "output_type": "execute_result",
          "data": {
            "text/plain": [
              "tensor([ 9., 36., 81.])"
            ]
          },
          "metadata": {},
          "execution_count": 49
        }
      ]
    },
    {
      "cell_type": "markdown",
      "source": [
        "### Getting information from tensors\n",
        "\n",
        "  1. Tensors not right datatype - to do get datatype from a tensor,can use `tensor.type`\n",
        "  2. Tensors not right shape - to get shape from a tensor use `tensor.shape`\n",
        "  3. Tensors not on the right device - to get device from tensor use `tensor.device`"
      ],
      "metadata": {
        "id": "HzHOMoy7-tKF"
      }
    },
    {
      "cell_type": "code",
      "source": [
        "# Create a tensor\n",
        "some_tensor = torch.rand(3,4)\n",
        "some_tensor"
      ],
      "metadata": {
        "colab": {
          "base_uri": "https://localhost:8080/"
        },
        "id": "0-Da0VZC_23H",
        "outputId": "5215f48f-6588-4662-d8c7-e95dba7898b5"
      },
      "execution_count": 50,
      "outputs": [
        {
          "output_type": "execute_result",
          "data": {
            "text/plain": [
              "tensor([[0.5788, 0.2916, 0.3724, 0.0633],\n",
              "        [0.8237, 0.5423, 0.1658, 0.1246],\n",
              "        [0.2401, 0.7248, 0.4545, 0.6013]])"
            ]
          },
          "metadata": {},
          "execution_count": 50
        }
      ]
    },
    {
      "cell_type": "code",
      "source": [
        "# Find details of Tensor\n",
        "\n",
        "print(some_tensor)\n",
        "print(\"Datatype of tensor: \"+str(some_tensor.dtype))\n",
        "print(f\"Shape of tensor {some_tensor.shape}\")\n",
        "print(f\"Device tensor is {some_tensor.device}\")"
      ],
      "metadata": {
        "colab": {
          "base_uri": "https://localhost:8080/"
        },
        "id": "7ov1wmSB__JK",
        "outputId": "a348f723-423a-4c1f-9e3b-b386bd1cf89a"
      },
      "execution_count": 57,
      "outputs": [
        {
          "output_type": "stream",
          "name": "stdout",
          "text": [
            "tensor([[0.5788, 0.2916, 0.3724, 0.0633],\n",
            "        [0.8237, 0.5423, 0.1658, 0.1246],\n",
            "        [0.2401, 0.7248, 0.4545, 0.6013]])\n",
            "Datatype of tensor: torch.float32\n",
            "Shape of tensor torch.Size([3, 4])\n",
            "Device tensor is cpu\n"
          ]
        }
      ]
    },
    {
      "cell_type": "code",
      "source": [
        "# Practice\n",
        "some_tensor2 = torch.rand(3,4)\n",
        "print(some_tensor2)\n",
        "print(\"Datatype of tensor: \"+str(some_tensor2.dtype))\n",
        "print(f\"Shape of tensor {some_tensor2.shape}\")\n",
        "print(f\"Device tensor is {some_tensor2.device}\")\n",
        "\n",
        "some_tensor3 = torch.rand(3,4)\n",
        "print(some_tensor3)\n",
        "print(\"Datatype of tensor: \"+str(some_tensor3.dtype))\n",
        "print(f\"Shape of tensor {some_tensor3.shape}\")\n",
        "print(f\"Device tensor is {some_tensor3.device}\")"
      ],
      "metadata": {
        "colab": {
          "base_uri": "https://localhost:8080/"
        },
        "id": "EquHJMblA_zA",
        "outputId": "c8ac2ef3-e0e7-4fe0-de16-47b29e668295"
      },
      "execution_count": 60,
      "outputs": [
        {
          "output_type": "stream",
          "name": "stdout",
          "text": [
            "tensor([[0.2530, 0.2544, 0.4412, 0.2370],\n",
            "        [0.3701, 0.1592, 0.9790, 0.2702],\n",
            "        [0.1590, 0.6578, 0.8616, 0.2661]])\n",
            "Datatype of tensor: torch.float32\n",
            "Shape of tensor torch.Size([3, 4])\n",
            "Device tensor is cpu\n",
            "tensor([[1.1154e-01, 4.0451e-01, 6.9840e-01, 4.2934e-01],\n",
            "        [1.0073e-04, 6.1621e-01, 1.2777e-01, 2.4715e-02],\n",
            "        [6.7857e-01, 5.9901e-01, 6.9193e-01, 3.3782e-01]])\n",
            "Datatype of tensor: torch.float32\n",
            "Shape of tensor torch.Size([3, 4])\n",
            "Device tensor is cpu\n"
          ]
        }
      ]
    },
    {
      "cell_type": "markdown",
      "source": [
        "### Manipulating tensors (tensor operations)\n",
        "\n",
        "Tensor operations include\n",
        "* Addition\n",
        "* Substraction\n",
        "* Multiplications (elementwise)\n",
        "* Division\n",
        "* Matrix multiplication"
      ],
      "metadata": {
        "id": "17tK3JsTB-7G"
      }
    },
    {
      "cell_type": "code",
      "source": [
        "# Create a tensor\n",
        "tensor = torch.tensor([1,2,3])\n",
        "\n",
        "#addition\n",
        "tensor+10"
      ],
      "metadata": {
        "colab": {
          "base_uri": "https://localhost:8080/"
        },
        "id": "_8tblhvGDNKJ",
        "outputId": "e539e4ec-375a-4233-a7a9-322fc17fbe26"
      },
      "execution_count": 61,
      "outputs": [
        {
          "output_type": "execute_result",
          "data": {
            "text/plain": [
              "tensor([11, 12, 13])"
            ]
          },
          "metadata": {},
          "execution_count": 61
        }
      ]
    },
    {
      "cell_type": "code",
      "source": [
        "#multiply (elementwise)\n",
        "tensor*10"
      ],
      "metadata": {
        "colab": {
          "base_uri": "https://localhost:8080/"
        },
        "id": "yperptXeDbRb",
        "outputId": "e64eb39b-9d05-48e2-eef6-2ec7a110ec2d"
      },
      "execution_count": 62,
      "outputs": [
        {
          "output_type": "execute_result",
          "data": {
            "text/plain": [
              "tensor([10, 20, 30])"
            ]
          },
          "metadata": {},
          "execution_count": 62
        }
      ]
    },
    {
      "cell_type": "code",
      "source": [
        "#Try out PyTorch in-built funstions\n",
        "torch.mul(tensor,10)"
      ],
      "metadata": {
        "colab": {
          "base_uri": "https://localhost:8080/"
        },
        "id": "WaO58QFXDhLO",
        "outputId": "3b1addaa-4923-4877-986c-7b2d177e8c97"
      },
      "execution_count": 63,
      "outputs": [
        {
          "output_type": "execute_result",
          "data": {
            "text/plain": [
              "tensor([10, 20, 30])"
            ]
          },
          "metadata": {},
          "execution_count": 63
        }
      ]
    },
    {
      "cell_type": "code",
      "source": [
        "tensor/10"
      ],
      "metadata": {
        "colab": {
          "base_uri": "https://localhost:8080/"
        },
        "id": "XPdD3o_WDtaU",
        "outputId": "c149b2e1-b374-4d43-9049-c9c81660e397"
      },
      "execution_count": 64,
      "outputs": [
        {
          "output_type": "execute_result",
          "data": {
            "text/plain": [
              "tensor([0.1000, 0.2000, 0.3000])"
            ]
          },
          "metadata": {},
          "execution_count": 64
        }
      ]
    },
    {
      "cell_type": "code",
      "source": [
        "tensor%3"
      ],
      "metadata": {
        "colab": {
          "base_uri": "https://localhost:8080/"
        },
        "id": "Hd6-_6FdD5v6",
        "outputId": "054c6576-bc1f-4a7e-d68f-75d3e7f5a4a5"
      },
      "execution_count": 65,
      "outputs": [
        {
          "output_type": "execute_result",
          "data": {
            "text/plain": [
              "tensor([1, 2, 0])"
            ]
          },
          "metadata": {},
          "execution_count": 65
        }
      ]
    },
    {
      "cell_type": "markdown",
      "source": [
        "## Matrix Multiplication\n",
        "\n",
        "Two main ways of performing multiplication in DL:\n",
        "\n",
        "1. Elementwise\n",
        "2. Matrix Multiplication (dot product)\n",
        "In PyTorch we use `torch.matmul(tensor_1,tensor_2)`\n",
        "\n",
        "Here can be found more: https://www.mathisfun.com/algebra/matrix-multiplying.html"
      ],
      "metadata": {
        "id": "AcDQ65lrEAYd"
      }
    },
    {
      "cell_type": "code",
      "source": [
        "# Element wise Multiplication\n",
        "print(tensor,\"*\",tensor)\n",
        "print(\"Equals\",tensor*tensor)"
      ],
      "metadata": {
        "colab": {
          "base_uri": "https://localhost:8080/"
        },
        "id": "7EJ3uxB_EQWi",
        "outputId": "1bc62937-17f8-4bb0-a79b-339a02cbd150"
      },
      "execution_count": 68,
      "outputs": [
        {
          "output_type": "stream",
          "name": "stdout",
          "text": [
            "tensor([1, 2, 3]) * tensor([1, 2, 3])\n",
            "Equals tensor([1, 4, 9])\n"
          ]
        }
      ]
    },
    {
      "cell_type": "code",
      "source": [
        "# Matrix Multiplication\n",
        "\n",
        "print(tensor,\".\",tensor)\n",
        "print(\"Equals \",torch.matmul(tensor,tensor))"
      ],
      "metadata": {
        "colab": {
          "base_uri": "https://localhost:8080/"
        },
        "id": "kkg1dY_EFKXT",
        "outputId": "57ff924a-1907-468d-acf4-3689b148fd75"
      },
      "execution_count": 71,
      "outputs": [
        {
          "output_type": "stream",
          "name": "stdout",
          "text": [
            "tensor([1, 2, 3]) . tensor([1, 2, 3])\n",
            "Equals  tensor(14)\n"
          ]
        }
      ]
    },
    {
      "cell_type": "code",
      "source": [
        "# Matrix Multiplication by hand\n",
        "\n",
        "1*1 + 2*2 + 3*3"
      ],
      "metadata": {
        "colab": {
          "base_uri": "https://localhost:8080/"
        },
        "id": "ehp7UGtCFxYT",
        "outputId": "b44dc2ea-ee92-4b38-de85-4345c44df8b2"
      },
      "execution_count": 74,
      "outputs": [
        {
          "output_type": "execute_result",
          "data": {
            "text/plain": [
              "14"
            ]
          },
          "metadata": {},
          "execution_count": 74
        }
      ]
    },
    {
      "cell_type": "code",
      "source": [
        "%%time\n",
        "value = 0\n",
        "for i in range (len(tensor)):\n",
        "  value += tensor[i]*tensor[i]\n",
        "print(value)"
      ],
      "metadata": {
        "colab": {
          "base_uri": "https://localhost:8080/"
        },
        "id": "NampFOOBGgRG",
        "outputId": "a2b015f0-e589-463b-c401-da33d9202a31"
      },
      "execution_count": 75,
      "outputs": [
        {
          "output_type": "stream",
          "name": "stdout",
          "text": [
            "tensor(14)\n",
            "CPU times: user 2.21 ms, sys: 933 µs, total: 3.15 ms\n",
            "Wall time: 3.12 ms\n"
          ]
        }
      ]
    },
    {
      "cell_type": "code",
      "source": [
        "%%time\n",
        "torch.matmul(tensor,tensor)"
      ],
      "metadata": {
        "colab": {
          "base_uri": "https://localhost:8080/"
        },
        "id": "-PG4s8CfHDYS",
        "outputId": "7a02f6f0-db60-4d80-8532-5d69b5a9284e"
      },
      "execution_count": 78,
      "outputs": [
        {
          "output_type": "stream",
          "name": "stdout",
          "text": [
            "CPU times: user 91 µs, sys: 5 µs, total: 96 µs\n",
            "Wall time: 101 µs\n"
          ]
        },
        {
          "output_type": "execute_result",
          "data": {
            "text/plain": [
              "tensor(14)"
            ]
          },
          "metadata": {},
          "execution_count": 78
        }
      ]
    },
    {
      "cell_type": "code",
      "source": [],
      "metadata": {
        "id": "87Wo14n-HNuY"
      },
      "execution_count": null,
      "outputs": []
    }
  ]
}
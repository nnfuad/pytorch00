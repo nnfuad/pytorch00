{
  "nbformat": 4,
  "nbformat_minor": 0,
  "metadata": {
    "colab": {
      "provenance": [],
      "gpuType": "T4",
      "authorship_tag": "ABX9TyNM5qpuIa2/VWdlC4muCnDB",
      "include_colab_link": true
    },
    "kernelspec": {
      "name": "python3",
      "display_name": "Python 3"
    },
    "language_info": {
      "name": "python"
    }
  },
  "cells": [
    {
      "cell_type": "markdown",
      "metadata": {
        "id": "view-in-github",
        "colab_type": "text"
      },
      "source": [
        "<a href=\"https://colab.research.google.com/github/nnfuad/pytorch00/blob/main/00_pytorch_fund_vid.ipynb\" target=\"_parent\"><img src=\"https://colab.research.google.com/assets/colab-badge.svg\" alt=\"Open In Colab\"/></a>"
      ]
    },
    {
      "cell_type": "markdown",
      "source": [
        "00. Pytorch fundamentals\n",
        "\n",
        "Resource notebook: https://www.learnpytorch.io/00_pytorch_fundamentals/\n",
        "\n",
        "If you have a question: https://github.com/mrdbourke/pytorch-deep-learning/discussions\n"
      ],
      "metadata": {
        "id": "0V3KasZGoe3I"
      }
    },
    {
      "cell_type": "markdown",
      "source": [],
      "metadata": {
        "id": "_hvKuZmMoclA"
      }
    },
    {
      "cell_type": "code",
      "execution_count": 1,
      "metadata": {
        "colab": {
          "base_uri": "https://localhost:8080/"
        },
        "id": "qDIxYhWnmoMz",
        "outputId": "fc378b8a-200d-4195-a748-18d441424cc3"
      },
      "outputs": [
        {
          "output_type": "stream",
          "name": "stdout",
          "text": [
            "2.3.1+cu121\n"
          ]
        }
      ],
      "source": [
        "import torch\n",
        "import pandas as pd\n",
        "import numpy as np\n",
        "import matplotlib.pyplot as plt\n",
        "\n",
        "print(torch.__version__)"
      ]
    },
    {
      "cell_type": "code",
      "source": [
        "!nvidia-smi"
      ],
      "metadata": {
        "colab": {
          "base_uri": "https://localhost:8080/"
        },
        "id": "GZAVjhMqqVtW",
        "outputId": "a62031bd-9955-42ba-a3bf-d86df186e12e"
      },
      "execution_count": 2,
      "outputs": [
        {
          "output_type": "stream",
          "name": "stdout",
          "text": [
            "/bin/bash: line 1: nvidia-smi: command not found\n"
          ]
        }
      ]
    },
    {
      "cell_type": "markdown",
      "source": [
        "\n",
        "## Introduction to tensors\n",
        "### way represent data(mostly multidimensional)\n",
        "\n",
        "###Creating tensors\n",
        "\n",
        "PyTorch tensors are created using `torch.tensor()` more at-https://pytorch.org/docs/stable/tensors.html"
      ],
      "metadata": {
        "id": "Uur_8HZrqYeC"
      }
    },
    {
      "cell_type": "markdown",
      "source": [],
      "metadata": {
        "id": "jn1Aj25o6wUT"
      }
    },
    {
      "cell_type": "code",
      "source": [
        "# scalar\n",
        "scalar = torch.tensor(7)\n",
        "scalar"
      ],
      "metadata": {
        "colab": {
          "base_uri": "https://localhost:8080/"
        },
        "id": "7130HoFw7lby",
        "outputId": "a777d137-57c4-4c3d-d5d5-c43f6134f9ff"
      },
      "execution_count": 3,
      "outputs": [
        {
          "output_type": "execute_result",
          "data": {
            "text/plain": [
              "tensor(7)"
            ]
          },
          "metadata": {},
          "execution_count": 3
        }
      ]
    },
    {
      "cell_type": "code",
      "source": [
        "#scalar(0) doesnt work like matrices or vectors"
      ],
      "metadata": {
        "id": "ZUbgYUFwwEVp"
      },
      "execution_count": 4,
      "outputs": []
    },
    {
      "cell_type": "markdown",
      "source": [
        "##### many dimensions of scalar are there...to find out what dimension in scalar tensor: run `scalar.ndim`"
      ],
      "metadata": {
        "id": "xTidb6Qp71an"
      }
    },
    {
      "cell_type": "code",
      "source": [
        "scalar.ndim"
      ],
      "metadata": {
        "colab": {
          "base_uri": "https://localhost:8080/"
        },
        "id": "KEusbetK9dtu",
        "outputId": "1f4c1ab4-9922-47b7-83ae-41f46167a793"
      },
      "execution_count": 5,
      "outputs": [
        {
          "output_type": "execute_result",
          "data": {
            "text/plain": [
              "0"
            ]
          },
          "metadata": {},
          "execution_count": 5
        }
      ]
    },
    {
      "cell_type": "markdown",
      "source": [
        "###### get tensor back as py int use `item()`"
      ],
      "metadata": {
        "id": "HrmrXid2-D6g"
      }
    },
    {
      "cell_type": "code",
      "source": [
        "scalar.item()"
      ],
      "metadata": {
        "colab": {
          "base_uri": "https://localhost:8080/"
        },
        "id": "mjspcrZf-QDY",
        "outputId": "96765929-f2a2-48e8-f901-c1398f7324b5"
      },
      "execution_count": 6,
      "outputs": [
        {
          "output_type": "execute_result",
          "data": {
            "text/plain": [
              "7"
            ]
          },
          "metadata": {},
          "execution_count": 6
        }
      ]
    },
    {
      "cell_type": "code",
      "source": [
        "scalar.shape"
      ],
      "metadata": {
        "colab": {
          "base_uri": "https://localhost:8080/"
        },
        "id": "ayFybTXywxsi",
        "outputId": "35f4de30-177a-402e-c6be-6f2b9abfaeed"
      },
      "execution_count": 7,
      "outputs": [
        {
          "output_type": "execute_result",
          "data": {
            "text/plain": [
              "torch.Size([])"
            ]
          },
          "metadata": {},
          "execution_count": 7
        }
      ]
    },
    {
      "cell_type": "markdown",
      "source": [
        "##### vector has 2 values...Dimension and Shape"
      ],
      "metadata": {
        "id": "6QE1oZE2_f3m"
      }
    },
    {
      "cell_type": "code",
      "source": [
        "#vector\n",
        "vector = torch.tensor([7, 4])\n",
        "vector"
      ],
      "metadata": {
        "colab": {
          "base_uri": "https://localhost:8080/"
        },
        "id": "XahVN1hm-aze",
        "outputId": "e7d5424e-edc1-4e41-ff9c-c615ef442cd6"
      },
      "execution_count": 8,
      "outputs": [
        {
          "output_type": "execute_result",
          "data": {
            "text/plain": [
              "tensor([7, 4])"
            ]
          },
          "metadata": {},
          "execution_count": 8
        }
      ]
    },
    {
      "cell_type": "code",
      "source": [
        "vector[1]"
      ],
      "metadata": {
        "colab": {
          "base_uri": "https://localhost:8080/"
        },
        "id": "G5rUunhsvwxQ",
        "outputId": "256b3ce3-7037-4fe5-ac40-5909b111bbba"
      },
      "execution_count": 9,
      "outputs": [
        {
          "output_type": "execute_result",
          "data": {
            "text/plain": [
              "tensor(4)"
            ]
          },
          "metadata": {},
          "execution_count": 9
        }
      ]
    },
    {
      "cell_type": "markdown",
      "source": [
        "##### many dimensions of scalar are there...to find out what dimension in vector tensor: run `vector.ndim`"
      ],
      "metadata": {
        "id": "LWgwcC40-_bb"
      }
    },
    {
      "cell_type": "code",
      "source": [
        "vector.ndim"
      ],
      "metadata": {
        "colab": {
          "base_uri": "https://localhost:8080/"
        },
        "id": "UdGHFrBf_ROH",
        "outputId": "027cc39e-db56-4a0d-934c-c915c94d8682"
      },
      "execution_count": 10,
      "outputs": [
        {
          "output_type": "execute_result",
          "data": {
            "text/plain": [
              "1"
            ]
          },
          "metadata": {},
          "execution_count": 10
        }
      ]
    },
    {
      "cell_type": "code",
      "source": [
        "vector.shape"
      ],
      "metadata": {
        "colab": {
          "base_uri": "https://localhost:8080/"
        },
        "id": "NTtYbLw7_tJX",
        "outputId": "214c70fb-c922-4483-8f2b-440b6bd69e52"
      },
      "execution_count": 11,
      "outputs": [
        {
          "output_type": "execute_result",
          "data": {
            "text/plain": [
              "torch.Size([2])"
            ]
          },
          "metadata": {},
          "execution_count": 11
        }
      ]
    },
    {
      "cell_type": "code",
      "source": [
        "#Matrix\n",
        "MATRIX = torch.tensor([[7,8],\n",
        "                      [9,10]])\n",
        "MATRIX"
      ],
      "metadata": {
        "colab": {
          "base_uri": "https://localhost:8080/"
        },
        "id": "8Sq5V3r_t9jY",
        "outputId": "9be5780c-982d-41ca-e70e-26f81f4d95fc"
      },
      "execution_count": 12,
      "outputs": [
        {
          "output_type": "execute_result",
          "data": {
            "text/plain": [
              "tensor([[ 7,  8],\n",
              "        [ 9, 10]])"
            ]
          },
          "metadata": {},
          "execution_count": 12
        }
      ]
    },
    {
      "cell_type": "code",
      "source": [
        "MATRIX[0]"
      ],
      "metadata": {
        "colab": {
          "base_uri": "https://localhost:8080/"
        },
        "id": "Bh9rVu-jv9db",
        "outputId": "cdb1992b-92e5-4e87-ec53-9b4a50ba14fe"
      },
      "execution_count": 13,
      "outputs": [
        {
          "output_type": "execute_result",
          "data": {
            "text/plain": [
              "tensor([7, 8])"
            ]
          },
          "metadata": {},
          "execution_count": 13
        }
      ]
    },
    {
      "cell_type": "code",
      "source": [
        "MATRIX.ndim"
      ],
      "metadata": {
        "colab": {
          "base_uri": "https://localhost:8080/"
        },
        "id": "k8eQiw12vXj-",
        "outputId": "bb9fd587-cba2-4263-9a5c-aa4a5b0aa319"
      },
      "execution_count": 14,
      "outputs": [
        {
          "output_type": "execute_result",
          "data": {
            "text/plain": [
              "2"
            ]
          },
          "metadata": {},
          "execution_count": 14
        }
      ]
    },
    {
      "cell_type": "code",
      "source": [
        "MATRIX.shape"
      ],
      "metadata": {
        "colab": {
          "base_uri": "https://localhost:8080/"
        },
        "id": "vWF3KIOqvnDt",
        "outputId": "265e3105-26ca-4ab4-c1a1-78eadf78887e"
      },
      "execution_count": 15,
      "outputs": [
        {
          "output_type": "execute_result",
          "data": {
            "text/plain": [
              "torch.Size([2, 2])"
            ]
          },
          "metadata": {},
          "execution_count": 15
        }
      ]
    },
    {
      "cell_type": "code",
      "source": [
        "#TENSOR\n",
        "TENSOR = torch.tensor([[[1,2,3],\n",
        "                       [3,6,9],\n",
        "                       [2,4,5]]])\n",
        "TENSOR"
      ],
      "metadata": {
        "colab": {
          "base_uri": "https://localhost:8080/"
        },
        "id": "kC_V7pewwQrM",
        "outputId": "ad52b162-a760-4969-d50b-612365848f9d"
      },
      "execution_count": 16,
      "outputs": [
        {
          "output_type": "execute_result",
          "data": {
            "text/plain": [
              "tensor([[[1, 2, 3],\n",
              "         [3, 6, 9],\n",
              "         [2, 4, 5]]])"
            ]
          },
          "metadata": {},
          "execution_count": 16
        }
      ]
    },
    {
      "cell_type": "code",
      "source": [
        "TENSOR.ndim"
      ],
      "metadata": {
        "colab": {
          "base_uri": "https://localhost:8080/"
        },
        "id": "uAEGxlc_0Lik",
        "outputId": "ea4f4f57-74a1-4f2c-bdfd-bc7754d4f369"
      },
      "execution_count": 17,
      "outputs": [
        {
          "output_type": "execute_result",
          "data": {
            "text/plain": [
              "3"
            ]
          },
          "metadata": {},
          "execution_count": 17
        }
      ]
    },
    {
      "cell_type": "code",
      "source": [
        "TENSOR.shape"
      ],
      "metadata": {
        "colab": {
          "base_uri": "https://localhost:8080/"
        },
        "id": "7lE3s16O0kcr",
        "outputId": "b804bb39-32f2-4503-f421-799a0cb6cc05"
      },
      "execution_count": 18,
      "outputs": [
        {
          "output_type": "execute_result",
          "data": {
            "text/plain": [
              "torch.Size([1, 3, 3])"
            ]
          },
          "metadata": {},
          "execution_count": 18
        }
      ]
    },
    {
      "cell_type": "code",
      "source": [
        "TENSOR[0]"
      ],
      "metadata": {
        "colab": {
          "base_uri": "https://localhost:8080/"
        },
        "id": "k5Q9F5e-0sP_",
        "outputId": "7250eb17-a51d-4e55-d65c-4909533d5ab7"
      },
      "execution_count": 19,
      "outputs": [
        {
          "output_type": "execute_result",
          "data": {
            "text/plain": [
              "tensor([[1, 2, 3],\n",
              "        [3, 6, 9],\n",
              "        [2, 4, 5]])"
            ]
          },
          "metadata": {},
          "execution_count": 19
        }
      ]
    },
    {
      "cell_type": "code",
      "source": [
        "#PRACTICE TENSORS 1\n",
        "tensor1 = torch.tensor([1])\n",
        "print(tensor1.ndim)\n",
        "print(tensor1.shape)\n",
        "print(tensor1[0])\n",
        "tensor1\n"
      ],
      "metadata": {
        "colab": {
          "base_uri": "https://localhost:8080/"
        },
        "id": "3ceN5YO--33m",
        "outputId": "0e1f9c6b-b081-4120-ba8b-c8340b8142e0"
      },
      "execution_count": 20,
      "outputs": [
        {
          "output_type": "stream",
          "name": "stdout",
          "text": [
            "1\n",
            "torch.Size([1])\n",
            "tensor(1)\n"
          ]
        },
        {
          "output_type": "execute_result",
          "data": {
            "text/plain": [
              "tensor([1])"
            ]
          },
          "metadata": {},
          "execution_count": 20
        }
      ]
    },
    {
      "cell_type": "code",
      "source": [
        "#PRACTICE TENSORS 2\n",
        "#tensor2 = torch.tensor([1],[2],[3])\n",
        "#TypeError: tensor() takes 1 positional argument but 3 were given\n",
        "#WE HAVE TO MAKE IT LIKE A 2D TENSOR OR WE CAN ADD INSIDE THE SINGLES WHICH WILL REMAIN A 1D TENSOR\n",
        "tensor2 = torch.tensor([1,2,3,4,55,52,54,5,353])\n",
        "print(tensor2.ndim)\n",
        "print(tensor2.shape)\n",
        "print(tensor2[4])\n",
        "tensor2\n"
      ],
      "metadata": {
        "colab": {
          "base_uri": "https://localhost:8080/"
        },
        "id": "rPS45TyP_onW",
        "outputId": "b3c56635-9c96-41ac-80d0-9509ed968fb6"
      },
      "execution_count": 21,
      "outputs": [
        {
          "output_type": "stream",
          "name": "stdout",
          "text": [
            "1\n",
            "torch.Size([9])\n",
            "tensor(55)\n"
          ]
        },
        {
          "output_type": "execute_result",
          "data": {
            "text/plain": [
              "tensor([  1,   2,   3,   4,  55,  52,  54,   5, 353])"
            ]
          },
          "metadata": {},
          "execution_count": 21
        }
      ]
    },
    {
      "cell_type": "code",
      "source": [
        "#PRACTICE TENSORS 3\n",
        "#The below code doesnt work cuz:\n",
        "#ValueError: expected sequence of length 2 at dim 1 (got 3)\n",
        "#tensor3 = torch.tensor([[1,2],\n",
        "#                        [1,2,3],\n",
        "#                        [4]])\n",
        "tensor3 = torch.tensor([[1,2,3],\n",
        "                        [11,12,13],\n",
        "                        [4,5,6]])\n",
        "print(tensor3.ndim)\n",
        "print(tensor3.shape)\n",
        "print(tensor3[2])\n",
        "print(tensor3[1,2])\n",
        "tensor3\n"
      ],
      "metadata": {
        "colab": {
          "base_uri": "https://localhost:8080/"
        },
        "id": "AsKQnUzLBxXr",
        "outputId": "670371c7-2e47-4a5c-c58e-c80e23baa1f8"
      },
      "execution_count": 22,
      "outputs": [
        {
          "output_type": "stream",
          "name": "stdout",
          "text": [
            "2\n",
            "torch.Size([3, 3])\n",
            "tensor([4, 5, 6])\n",
            "tensor(13)\n"
          ]
        },
        {
          "output_type": "execute_result",
          "data": {
            "text/plain": [
              "tensor([[ 1,  2,  3],\n",
              "        [11, 12, 13],\n",
              "        [ 4,  5,  6]])"
            ]
          },
          "metadata": {},
          "execution_count": 22
        }
      ]
    },
    {
      "cell_type": "code",
      "source": [
        "#PRACTICE TENSORS 4\n",
        "\n",
        "tensor4 = torch.tensor([[1,2,3,4,65],\n",
        "                        [11,12,13,89,56],\n",
        "                        [44,5,6,10,5],\n",
        "                        [1,2,3,46,6]])\n",
        "print(tensor4.ndim)\n",
        "print(tensor4.shape)\n",
        "print(tensor4[2])\n",
        "print(tensor4[1,2])\n",
        "tensor4\n"
      ],
      "metadata": {
        "id": "KH4eAV2QF2l_",
        "colab": {
          "base_uri": "https://localhost:8080/"
        },
        "outputId": "1c234af3-3fe3-41ad-b00c-d34c411ce967"
      },
      "execution_count": 23,
      "outputs": [
        {
          "output_type": "stream",
          "name": "stdout",
          "text": [
            "2\n",
            "torch.Size([4, 5])\n",
            "tensor([44,  5,  6, 10,  5])\n",
            "tensor(13)\n"
          ]
        },
        {
          "output_type": "execute_result",
          "data": {
            "text/plain": [
              "tensor([[ 1,  2,  3,  4, 65],\n",
              "        [11, 12, 13, 89, 56],\n",
              "        [44,  5,  6, 10,  5],\n",
              "        [ 1,  2,  3, 46,  6]])"
            ]
          },
          "metadata": {},
          "execution_count": 23
        }
      ]
    },
    {
      "cell_type": "code",
      "source": [
        "#PRACTICE TENSORS 5\n",
        "\n",
        "tensor5 = torch.tensor([[[1,2,3,4,65],\n",
        "                        [11,12,13,89,56],\n",
        "                        [44,5,6,10,5],\n",
        "                        [1,2,3,46,6]]])\n",
        "print(tensor5.ndim)\n",
        "print(tensor5.shape)\n",
        "\n",
        "#print(tensor5[2]) not possible cuz:\n",
        "#IndexError: index 2 is out of bounds for dimension 0 with size SOOO....:\n",
        "print(tensor5[0,1])\n",
        "\n",
        "#print(tensor5[1,2]) not possible cuz:\n",
        "#index 1 is out of bounds for dimension 0 with size 1 SOOOO....:\n",
        "print(tensor5[0,2,3])\n",
        "\n",
        "tensor5\n"
      ],
      "metadata": {
        "colab": {
          "base_uri": "https://localhost:8080/"
        },
        "id": "ycVqI-XPIm11",
        "outputId": "2eec0bcd-9e19-4785-c9cc-4dd9c015249f"
      },
      "execution_count": 24,
      "outputs": [
        {
          "output_type": "stream",
          "name": "stdout",
          "text": [
            "3\n",
            "torch.Size([1, 4, 5])\n",
            "tensor([11, 12, 13, 89, 56])\n",
            "tensor(10)\n"
          ]
        },
        {
          "output_type": "execute_result",
          "data": {
            "text/plain": [
              "tensor([[[ 1,  2,  3,  4, 65],\n",
              "         [11, 12, 13, 89, 56],\n",
              "         [44,  5,  6, 10,  5],\n",
              "         [ 1,  2,  3, 46,  6]]])"
            ]
          },
          "metadata": {},
          "execution_count": 24
        }
      ]
    },
    {
      "cell_type": "code",
      "source": [
        "#PRACTICE TENSORS 6\n",
        "\n",
        "#tensor6 = torch.tensor([[[1,2,3,4,65],[32,43,54,65]\n",
        "#                        [11,12,13,89,56],[12,22,32,42]\n",
        "#                        [44,5,6,10,5],[22,33,44,55,66]\n",
        "#                        [1,2,3,46,6],[23,33,43,53]]])\n",
        "#CUZ:   TypeError must be lists, not tuples, were missing commas and first are 5 while seconds were 4 ,have to be equal....SOOO..:\n",
        "\n",
        "#tensor6 = torch.tensor([[[1,2,3,4,65],[32,43,54,65,11],\n",
        "#                        [11,12,13,89,56],[12,22,32,42,22],\n",
        "#                        [44,5,6,10,5],[22,33,44,55,200],\n",
        "#                        [1,2,3,46,6],[23,33,43,53,100]]])\n",
        "#works....but same as before with size[1,8,5]....\n",
        "\n",
        "tensor6 = torch.tensor([\n",
        "                        [[1,2,3,4,65],\n",
        "                        [11,12,13,89,56],\n",
        "                        [44,5,6,10,5],\n",
        "                        [1,2,3,46,6]],\n",
        "\n",
        "                          [[32,43,54,65,11],\n",
        "                          [12,22,32,42,22],\n",
        "                          [22,33,44,55,200],\n",
        "                          [23,33,43,53,100]]\n",
        "                        ])\n",
        "\n",
        "print(tensor6.ndim)\n",
        "print(tensor6.shape)\n",
        "\n",
        "print(tensor6[0,1])\n",
        "\n",
        "print(tensor6[1,2,3])\n",
        "\n",
        "tensor6\n"
      ],
      "metadata": {
        "colab": {
          "base_uri": "https://localhost:8080/"
        },
        "id": "ckI9bspVJEDK",
        "outputId": "96ca8a63-76f8-4e0f-ec36-33fcf5a58f15"
      },
      "execution_count": 25,
      "outputs": [
        {
          "output_type": "stream",
          "name": "stdout",
          "text": [
            "3\n",
            "torch.Size([2, 4, 5])\n",
            "tensor([11, 12, 13, 89, 56])\n",
            "tensor(55)\n"
          ]
        },
        {
          "output_type": "execute_result",
          "data": {
            "text/plain": [
              "tensor([[[  1,   2,   3,   4,  65],\n",
              "         [ 11,  12,  13,  89,  56],\n",
              "         [ 44,   5,   6,  10,   5],\n",
              "         [  1,   2,   3,  46,   6]],\n",
              "\n",
              "        [[ 32,  43,  54,  65,  11],\n",
              "         [ 12,  22,  32,  42,  22],\n",
              "         [ 22,  33,  44,  55, 200],\n",
              "         [ 23,  33,  43,  53, 100]]])"
            ]
          },
          "metadata": {},
          "execution_count": 25
        }
      ]
    },
    {
      "cell_type": "markdown",
      "source": [
        "**END OF PRACTICE**"
      ],
      "metadata": {
        "id": "awfD9cYaSYmF"
      }
    },
    {
      "cell_type": "markdown",
      "source": [
        "##**RANDOM tensors**\n",
        "Why random tensors?\n",
        "\n",
        "it starts with tensors full of random numbers and then adjust those random numbers to better represent the data.\n",
        "\n",
        "`Start with RND nums -> look at data ->update RND nums -> look at data -> update RND nums\n",
        "\n",
        "More at: https://pytorch.org/docs/stable/generated/torch.rand.html"
      ],
      "metadata": {
        "id": "46u-UUXfS1MU"
      }
    },
    {
      "cell_type": "code",
      "source": [
        "#Create a random tensor of size (3,4)\n",
        "rand_tensor = torch.rand(3,4)\n",
        "rand_tensor"
      ],
      "metadata": {
        "colab": {
          "base_uri": "https://localhost:8080/"
        },
        "id": "jaFOWlnXK1rn",
        "outputId": "462648fa-2815-47cc-cf8b-0a7a06cc50c2"
      },
      "execution_count": 26,
      "outputs": [
        {
          "output_type": "execute_result",
          "data": {
            "text/plain": [
              "tensor([[0.9530, 0.6089, 0.2584, 0.5684],\n",
              "        [0.9328, 0.4052, 0.4983, 0.0188],\n",
              "        [0.6290, 0.4254, 0.1882, 0.5370]])"
            ]
          },
          "metadata": {},
          "execution_count": 26
        }
      ]
    },
    {
      "cell_type": "code",
      "source": [
        "rand_tensor.ndim"
      ],
      "metadata": {
        "colab": {
          "base_uri": "https://localhost:8080/"
        },
        "id": "uuliaE0DUW6q",
        "outputId": "1a97cc75-6684-499f-e4c9-07311e155568"
      },
      "execution_count": 27,
      "outputs": [
        {
          "output_type": "execute_result",
          "data": {
            "text/plain": [
              "2"
            ]
          },
          "metadata": {},
          "execution_count": 27
        }
      ]
    },
    {
      "cell_type": "code",
      "source": [
        "#Create a random tensor of size (2,4,5)\n",
        "rand_tensor2 = torch.rand(2,4,5)\n",
        "rand_tensor2"
      ],
      "metadata": {
        "colab": {
          "base_uri": "https://localhost:8080/"
        },
        "id": "fkCeJXEqUran",
        "outputId": "9d7c409c-379f-46bc-b24d-347612fed26e"
      },
      "execution_count": 28,
      "outputs": [
        {
          "output_type": "execute_result",
          "data": {
            "text/plain": [
              "tensor([[[0.8603, 0.8400, 0.8985, 0.2690, 0.0542],\n",
              "         [0.8773, 0.3683, 0.2073, 0.9558, 0.4076],\n",
              "         [0.8186, 0.3929, 0.3455, 0.4852, 0.5938],\n",
              "         [0.8381, 0.6644, 0.1002, 0.5800, 0.8807]],\n",
              "\n",
              "        [[0.2496, 0.3368, 0.6909, 0.4215, 0.2170],\n",
              "         [0.5199, 0.8878, 0.2166, 0.3672, 0.4575],\n",
              "         [0.8415, 0.6029, 0.3966, 0.3735, 0.5275],\n",
              "         [0.3814, 0.7142, 0.0741, 0.0623, 0.4968]]])"
            ]
          },
          "metadata": {},
          "execution_count": 28
        }
      ]
    },
    {
      "cell_type": "code",
      "source": [
        "rand_tensor2.ndim"
      ],
      "metadata": {
        "colab": {
          "base_uri": "https://localhost:8080/"
        },
        "id": "KANkigTgU13z",
        "outputId": "dd50f901-532e-43f5-e9e8-49e1d3520afe"
      },
      "execution_count": 29,
      "outputs": [
        {
          "output_type": "execute_result",
          "data": {
            "text/plain": [
              "3"
            ]
          },
          "metadata": {},
          "execution_count": 29
        }
      ]
    },
    {
      "cell_type": "code",
      "source": [
        "rand_tensor2 = torch.rand(2,3,4,5)\n",
        "print(rand_tensor2.shape)\n",
        "print(rand_tensor2.ndim)\n",
        "rand_tensor2"
      ],
      "metadata": {
        "colab": {
          "base_uri": "https://localhost:8080/"
        },
        "id": "poanp2X3U5DB",
        "outputId": "3da05e9b-6eb2-44af-fe92-9784ad9054f4"
      },
      "execution_count": 30,
      "outputs": [
        {
          "output_type": "stream",
          "name": "stdout",
          "text": [
            "torch.Size([2, 3, 4, 5])\n",
            "4\n"
          ]
        },
        {
          "output_type": "execute_result",
          "data": {
            "text/plain": [
              "tensor([[[[0.2512, 0.1974, 0.0543, 0.8094, 0.4467],\n",
              "          [0.5666, 0.8991, 0.2334, 0.8193, 0.4313],\n",
              "          [0.8343, 0.2189, 0.0808, 0.2064, 0.3890],\n",
              "          [0.4248, 0.5160, 0.9875, 0.2066, 0.7494]],\n",
              "\n",
              "         [[0.8121, 0.3487, 0.7436, 0.5868, 0.5162],\n",
              "          [0.0343, 0.8344, 0.0452, 0.3218, 0.5596],\n",
              "          [0.8942, 0.3465, 0.7043, 0.3038, 0.5799],\n",
              "          [0.3721, 0.7450, 0.9707, 0.2367, 0.5333]],\n",
              "\n",
              "         [[0.6602, 0.1316, 0.1761, 0.3741, 0.5240],\n",
              "          [0.4760, 0.5649, 0.0770, 0.6723, 0.4858],\n",
              "          [0.2043, 0.2471, 0.4026, 0.1824, 0.4535],\n",
              "          [0.1740, 0.9831, 0.1917, 0.5144, 0.9959]]],\n",
              "\n",
              "\n",
              "        [[[0.1944, 0.3946, 0.7666, 0.5427, 0.0576],\n",
              "          [0.9304, 0.9019, 0.8794, 0.6494, 0.3260],\n",
              "          [0.1018, 0.3159, 0.1934, 0.6921, 0.2343],\n",
              "          [0.6922, 0.3223, 0.8862, 0.9607, 0.6490]],\n",
              "\n",
              "         [[0.1472, 0.7147, 0.1885, 0.2002, 0.2493],\n",
              "          [0.7615, 0.0190, 0.2933, 0.6820, 0.0054],\n",
              "          [0.0442, 0.9824, 0.5429, 0.1380, 0.2515],\n",
              "          [0.7064, 0.1359, 0.4958, 0.5662, 0.3956]],\n",
              "\n",
              "         [[0.0948, 0.8809, 0.0072, 0.5943, 0.2099],\n",
              "          [0.2471, 0.9315, 0.7858, 0.7125, 0.7497],\n",
              "          [0.3647, 0.2531, 0.7213, 0.8798, 0.8492],\n",
              "          [0.2826, 0.0876, 0.1858, 0.0471, 0.6330]]]])"
            ]
          },
          "metadata": {},
          "execution_count": 30
        }
      ]
    },
    {
      "cell_type": "code",
      "source": [
        "#Create a random tensor with similar shape to an image tensor\n",
        "random_img_size_tensor = torch.rand(size=(3,224,224)) #height,width,color channels(rgb)\n",
        "random_img_size_tensor.shape,random_img_size_tensor.ndim"
      ],
      "metadata": {
        "colab": {
          "base_uri": "https://localhost:8080/"
        },
        "id": "uKFWWDHoVuh_",
        "outputId": "5bd44dba-e982-4b73-d606-043b23b3d4f2"
      },
      "execution_count": 31,
      "outputs": [
        {
          "output_type": "execute_result",
          "data": {
            "text/plain": [
              "(torch.Size([3, 224, 224]), 3)"
            ]
          },
          "metadata": {},
          "execution_count": 31
        }
      ]
    },
    {
      "cell_type": "code",
      "source": [
        "#PRACTiCE:\n",
        "rand_tensorrr = torch.rand(1,1,1,1,1,1,1)\n",
        "print(rand_tensorrr.shape)\n",
        "print(rand_tensorrr.ndim)\n",
        "print(rand_tensorrr)\n",
        "\n",
        "rand_tensorr = torch.rand(1,2,3,4)\n",
        "print(rand_tensorr.shape)\n",
        "print(rand_tensorr.ndim)\n",
        "print(rand_tensorr)\n",
        "\n",
        "rand_tensor3 = torch.rand(2,3,4,5)\n",
        "print(rand_tensor3.shape)\n",
        "print(rand_tensor3.ndim)\n",
        "print(rand_tensor3)\n",
        "\n",
        "rand_tensor5 = torch.rand(3,2,3,2,6)\n",
        "print(rand_tensor5.shape)\n",
        "print(rand_tensor5.ndim)\n",
        "rand_tensor5"
      ],
      "metadata": {
        "colab": {
          "base_uri": "https://localhost:8080/"
        },
        "id": "ryU-rGEnWqg6",
        "outputId": "b5433623-136d-4da3-81f3-56ef75f3115b"
      },
      "execution_count": 32,
      "outputs": [
        {
          "output_type": "stream",
          "name": "stdout",
          "text": [
            "torch.Size([1, 1, 1, 1, 1, 1, 1])\n",
            "7\n",
            "tensor([[[[[[[0.7783]]]]]]])\n",
            "torch.Size([1, 2, 3, 4])\n",
            "4\n",
            "tensor([[[[0.9636, 0.3956, 0.1105, 0.8492],\n",
            "          [0.3782, 0.0558, 0.5951, 0.2464],\n",
            "          [0.5061, 0.8174, 0.1669, 0.8678]],\n",
            "\n",
            "         [[0.3484, 0.8149, 0.5257, 0.7717],\n",
            "          [0.0838, 0.9166, 0.3997, 0.0714],\n",
            "          [0.7041, 0.1701, 0.7975, 0.6540]]]])\n",
            "torch.Size([2, 3, 4, 5])\n",
            "4\n",
            "tensor([[[[0.2463, 0.4767, 0.3195, 0.3849, 0.8372],\n",
            "          [0.3926, 0.3476, 0.8499, 0.8666, 0.3411],\n",
            "          [0.1150, 0.9333, 0.8824, 0.4042, 0.4335],\n",
            "          [0.1534, 0.9447, 0.1106, 0.5083, 0.3954]],\n",
            "\n",
            "         [[0.4297, 0.7930, 0.2564, 0.5841, 0.3027],\n",
            "          [0.5303, 0.1188, 0.3543, 0.3880, 0.1479],\n",
            "          [0.2387, 0.6756, 0.2261, 0.5816, 0.3813],\n",
            "          [0.8243, 0.6253, 0.9788, 0.4204, 0.1442]],\n",
            "\n",
            "         [[0.5855, 0.1228, 0.5964, 0.7112, 0.8714],\n",
            "          [0.8354, 0.6359, 0.1507, 0.4942, 0.8304],\n",
            "          [0.3958, 0.8504, 0.5226, 0.9508, 0.8280],\n",
            "          [0.2459, 0.6990, 0.5018, 0.4296, 0.9066]]],\n",
            "\n",
            "\n",
            "        [[[0.0753, 0.4215, 0.1821, 0.7816, 0.8813],\n",
            "          [0.4825, 0.1661, 0.4649, 0.4372, 0.0023],\n",
            "          [0.4564, 0.7204, 0.0887, 0.6780, 0.2230],\n",
            "          [0.0105, 0.2527, 0.9036, 0.4377, 0.9518]],\n",
            "\n",
            "         [[0.1084, 0.3500, 0.5963, 0.5331, 0.5893],\n",
            "          [0.1204, 0.8390, 0.0239, 0.5299, 0.9010],\n",
            "          [0.0369, 0.2831, 0.8842, 0.7610, 0.3230],\n",
            "          [0.7441, 0.9655, 0.7209, 0.1946, 0.6847]],\n",
            "\n",
            "         [[0.7455, 0.0811, 0.1202, 0.2617, 0.8885],\n",
            "          [0.8787, 0.0382, 0.2150, 0.1729, 0.1860],\n",
            "          [0.1289, 0.4656, 0.1375, 0.0192, 0.8981],\n",
            "          [0.4138, 0.3122, 0.8461, 0.4950, 0.0529]]]])\n",
            "torch.Size([3, 2, 3, 2, 6])\n",
            "5\n"
          ]
        },
        {
          "output_type": "execute_result",
          "data": {
            "text/plain": [
              "tensor([[[[[0.7813, 0.8305, 0.7303, 0.1908, 0.1856, 0.0654],\n",
              "           [0.5670, 0.6475, 0.1087, 0.4477, 0.0753, 0.9404]],\n",
              "\n",
              "          [[0.8886, 0.8998, 0.5379, 0.3238, 0.2815, 0.8297],\n",
              "           [0.1301, 0.7158, 0.9822, 0.8145, 0.2638, 0.6412]],\n",
              "\n",
              "          [[0.3090, 0.3347, 0.2931, 0.2645, 0.0234, 0.6884],\n",
              "           [0.5407, 0.0985, 0.1139, 0.4069, 0.3095, 0.7462]]],\n",
              "\n",
              "\n",
              "         [[[0.0063, 0.4025, 0.3911, 0.9215, 0.0680, 0.3560],\n",
              "           [0.7666, 0.9982, 0.0243, 0.7272, 0.6796, 0.4633]],\n",
              "\n",
              "          [[0.6774, 0.5199, 0.4886, 0.2494, 0.3079, 0.3875],\n",
              "           [0.0465, 0.1829, 0.4550, 0.4984, 0.5675, 0.1103]],\n",
              "\n",
              "          [[0.8394, 0.2634, 0.8723, 0.6872, 0.2758, 0.0394],\n",
              "           [0.6349, 0.8093, 0.8248, 0.3332, 0.8646, 0.4498]]]],\n",
              "\n",
              "\n",
              "\n",
              "        [[[[0.4582, 0.3433, 0.1908, 0.9178, 0.7781, 0.7368],\n",
              "           [0.8312, 0.6120, 0.0533, 0.3865, 0.1777, 0.1331]],\n",
              "\n",
              "          [[0.2027, 0.7396, 0.2667, 0.2134, 0.2940, 0.9339],\n",
              "           [0.2986, 0.1344, 0.2961, 0.8896, 0.2558, 0.9125]],\n",
              "\n",
              "          [[0.9401, 0.9543, 0.7615, 0.2450, 0.9779, 0.8321],\n",
              "           [0.9744, 0.3984, 0.1963, 0.5391, 0.1177, 0.8789]]],\n",
              "\n",
              "\n",
              "         [[[0.2018, 0.8005, 0.6237, 0.3398, 0.5356, 0.4710],\n",
              "           [0.1010, 0.6317, 0.6043, 0.3800, 0.6150, 0.1754]],\n",
              "\n",
              "          [[0.1865, 0.3146, 0.6879, 0.1175, 0.6500, 0.7872],\n",
              "           [0.2647, 0.2283, 0.7108, 0.2166, 0.8869, 0.9131]],\n",
              "\n",
              "          [[0.0626, 0.9084, 0.3067, 0.0740, 0.9799, 0.4939],\n",
              "           [0.6356, 0.1370, 0.1507, 0.3856, 0.5142, 0.6909]]]],\n",
              "\n",
              "\n",
              "\n",
              "        [[[[0.1382, 0.9666, 0.0240, 0.2685, 0.7967, 0.9392],\n",
              "           [0.2565, 0.2272, 0.1988, 0.7874, 0.6385, 0.2186]],\n",
              "\n",
              "          [[0.2595, 0.3175, 0.5901, 0.4908, 0.1557, 0.2994],\n",
              "           [0.2027, 0.4031, 0.1281, 0.0989, 0.0025, 0.1807]],\n",
              "\n",
              "          [[0.2765, 0.2995, 0.4341, 0.6479, 0.2759, 0.8676],\n",
              "           [0.4001, 0.0882, 0.6759, 0.2658, 0.1068, 0.6805]]],\n",
              "\n",
              "\n",
              "         [[[0.6743, 0.7786, 0.1617, 0.5160, 0.3177, 0.3337],\n",
              "           [0.2463, 0.2411, 0.0228, 0.7405, 0.1955, 0.8786]],\n",
              "\n",
              "          [[0.9819, 0.1932, 0.9542, 0.0798, 0.1770, 0.4158],\n",
              "           [0.0633, 0.6938, 0.0902, 0.0409, 0.9765, 0.7112]],\n",
              "\n",
              "          [[0.4593, 0.0857, 0.6507, 0.9277, 0.7596, 0.5025],\n",
              "           [1.0000, 0.6943, 0.0079, 0.7235, 0.7492, 0.7994]]]]])"
            ]
          },
          "metadata": {},
          "execution_count": 32
        }
      ]
    },
    {
      "cell_type": "markdown",
      "source": [
        "###Zeros and ones"
      ],
      "metadata": {
        "id": "fl8RY-9kWu6-"
      }
    },
    {
      "cell_type": "code",
      "source": [
        "# Create a tensor of all zeros\n",
        "zeros = torch.zeros(size=(3,4))\n",
        "zeros"
      ],
      "metadata": {
        "colab": {
          "base_uri": "https://localhost:8080/"
        },
        "id": "6NwiqEGfjnB4",
        "outputId": "a3848674-1ef8-4e76-84ec-bbbb7e6c886e"
      },
      "execution_count": 33,
      "outputs": [
        {
          "output_type": "execute_result",
          "data": {
            "text/plain": [
              "tensor([[0., 0., 0., 0.],\n",
              "        [0., 0., 0., 0.],\n",
              "        [0., 0., 0., 0.]])"
            ]
          },
          "metadata": {},
          "execution_count": 33
        }
      ]
    },
    {
      "cell_type": "code",
      "source": [
        "zeros*rand_tensor"
      ],
      "metadata": {
        "colab": {
          "base_uri": "https://localhost:8080/"
        },
        "id": "kUUU4cKdkDcq",
        "outputId": "db9541f8-d3c5-46f0-9ae7-f36f795904d0"
      },
      "execution_count": 34,
      "outputs": [
        {
          "output_type": "execute_result",
          "data": {
            "text/plain": [
              "tensor([[0., 0., 0., 0.],\n",
              "        [0., 0., 0., 0.],\n",
              "        [0., 0., 0., 0.]])"
            ]
          },
          "metadata": {},
          "execution_count": 34
        }
      ]
    },
    {
      "cell_type": "code",
      "source": [
        "#Create a tensor of all ones\n",
        "ones = torch.ones(size=(3,4))\n",
        "ones"
      ],
      "metadata": {
        "colab": {
          "base_uri": "https://localhost:8080/"
        },
        "id": "ZJ3-qJ7EkHJv",
        "outputId": "851652b8-782b-45d3-fe6d-ba494d1b6df6"
      },
      "execution_count": 35,
      "outputs": [
        {
          "output_type": "execute_result",
          "data": {
            "text/plain": [
              "tensor([[1., 1., 1., 1.],\n",
              "        [1., 1., 1., 1.],\n",
              "        [1., 1., 1., 1.]])"
            ]
          },
          "metadata": {},
          "execution_count": 35
        }
      ]
    },
    {
      "cell_type": "code",
      "source": [
        "ones.dtype"
      ],
      "metadata": {
        "colab": {
          "base_uri": "https://localhost:8080/"
        },
        "id": "NSM4TrKrkhBS",
        "outputId": "392cd54f-ab01-4717-94c4-a603ed57614a"
      },
      "execution_count": 36,
      "outputs": [
        {
          "output_type": "execute_result",
          "data": {
            "text/plain": [
              "torch.float32"
            ]
          },
          "metadata": {},
          "execution_count": 36
        }
      ]
    },
    {
      "cell_type": "code",
      "source": [
        "ones*zeros"
      ],
      "metadata": {
        "colab": {
          "base_uri": "https://localhost:8080/"
        },
        "id": "0AoqM5Zukqtq",
        "outputId": "6229f0c9-1a40-403b-ae8a-3115e3dc3e08"
      },
      "execution_count": 37,
      "outputs": [
        {
          "output_type": "execute_result",
          "data": {
            "text/plain": [
              "tensor([[0., 0., 0., 0.],\n",
              "        [0., 0., 0., 0.],\n",
              "        [0., 0., 0., 0.]])"
            ]
          },
          "metadata": {},
          "execution_count": 37
        }
      ]
    },
    {
      "cell_type": "markdown",
      "source": [
        "### Creating a range of tensors and tensors-like"
      ],
      "metadata": {
        "id": "Z6lvDgSwk49w"
      }
    },
    {
      "cell_type": "code",
      "source": [
        "# Use torch.range()\n",
        "one_to_ten = torch.arange(0,1000,78)\n",
        "one_to_ten"
      ],
      "metadata": {
        "colab": {
          "base_uri": "https://localhost:8080/"
        },
        "id": "7xR8uAlVlGWh",
        "outputId": "1681431d-1333-4d2d-e3d9-e66e782b671c"
      },
      "execution_count": 38,
      "outputs": [
        {
          "output_type": "execute_result",
          "data": {
            "text/plain": [
              "tensor([  0,  78, 156, 234, 312, 390, 468, 546, 624, 702, 780, 858, 936])"
            ]
          },
          "metadata": {},
          "execution_count": 38
        }
      ]
    },
    {
      "cell_type": "code",
      "source": [
        "# Tensor like\n",
        "one_to_ten_like = torch.zeros_like(input=one_to_ten)\n",
        "one_to_ten_like"
      ],
      "metadata": {
        "colab": {
          "base_uri": "https://localhost:8080/"
        },
        "id": "duU9NesdlgIW",
        "outputId": "0993c237-04d2-430f-abfe-2e07850f8c3c"
      },
      "execution_count": 39,
      "outputs": [
        {
          "output_type": "execute_result",
          "data": {
            "text/plain": [
              "tensor([0, 0, 0, 0, 0, 0, 0, 0, 0, 0, 0, 0, 0])"
            ]
          },
          "metadata": {},
          "execution_count": 39
        }
      ]
    },
    {
      "cell_type": "code",
      "source": [
        "two_to_ten_like = torch.ones_like(input=one_to_ten)\n",
        "two_to_ten_like"
      ],
      "metadata": {
        "colab": {
          "base_uri": "https://localhost:8080/"
        },
        "id": "lrEJhSQhl00f",
        "outputId": "477f9b71-1a45-4f2d-9768-2d9fb3bcf15c"
      },
      "execution_count": 40,
      "outputs": [
        {
          "output_type": "execute_result",
          "data": {
            "text/plain": [
              "tensor([1, 1, 1, 1, 1, 1, 1, 1, 1, 1, 1, 1, 1])"
            ]
          },
          "metadata": {},
          "execution_count": 40
        }
      ]
    },
    {
      "cell_type": "markdown",
      "source": [
        "### Tensor Data Type\n",
        "\n",
        "**Note:** Tensor data types is one of the 3 big errors you may run into with PyTorch & deep learning:\n",
        "  1. Tensors not right datatype\n",
        "  2. Tensors not right shape\n",
        "  3. Tensors not on the right device\n",
        "\n",
        "  Learn more about precision incomputing here:\n",
        "  https://en.wikipedia.org/wiki/Precision_(computer_science)"
      ],
      "metadata": {
        "id": "dGpn8QXCmcLx"
      }
    },
    {
      "cell_type": "code",
      "source": [
        "# Float 32 Tensor\n",
        "float_32_tensor = torch.tensor([3.0,6.0,9.0],\n",
        "                               dtype=None, #what datatype is the tensor(e.g. float32 or float16)\n",
        "                               device=None, #what device is your tensor on\n",
        "                               requires_grad=False) #whether or not to track gradients with this tensors operations\n",
        "\n",
        "float_32_tensor"
      ],
      "metadata": {
        "colab": {
          "base_uri": "https://localhost:8080/"
        },
        "id": "CEkXZZAn95H6",
        "outputId": "acdebda7-431a-400f-b27a-95093f137f15"
      },
      "execution_count": 41,
      "outputs": [
        {
          "output_type": "execute_result",
          "data": {
            "text/plain": [
              "tensor([3., 6., 9.])"
            ]
          },
          "metadata": {},
          "execution_count": 41
        }
      ]
    },
    {
      "cell_type": "code",
      "source": [
        "float_32_tensor.dtype"
      ],
      "metadata": {
        "colab": {
          "base_uri": "https://localhost:8080/"
        },
        "id": "1zajTg52-Hqr",
        "outputId": "4f0ff9a7-7995-481b-9033-09b8b717fb18"
      },
      "execution_count": 42,
      "outputs": [
        {
          "output_type": "execute_result",
          "data": {
            "text/plain": [
              "torch.float32"
            ]
          },
          "metadata": {},
          "execution_count": 42
        }
      ]
    },
    {
      "cell_type": "code",
      "source": [
        "float_16_tensor = float_32_tensor.type(torch.float16)\n",
        "float_16_tensor"
      ],
      "metadata": {
        "id": "GrDV65PsBqk3",
        "colab": {
          "base_uri": "https://localhost:8080/"
        },
        "outputId": "5a49ce7b-f55f-42d0-fe79-63ab2d174ccc"
      },
      "execution_count": 43,
      "outputs": [
        {
          "output_type": "execute_result",
          "data": {
            "text/plain": [
              "tensor([3., 6., 9.], dtype=torch.float16)"
            ]
          },
          "metadata": {},
          "execution_count": 43
        }
      ]
    },
    {
      "cell_type": "code",
      "source": [
        "float_16_tensor * float_32_tensor"
      ],
      "metadata": {
        "colab": {
          "base_uri": "https://localhost:8080/"
        },
        "id": "FoagK8kc9AmB",
        "outputId": "bbbb7fc6-0317-4e77-d01b-7a74c565ecc2"
      },
      "execution_count": 44,
      "outputs": [
        {
          "output_type": "execute_result",
          "data": {
            "text/plain": [
              "tensor([ 9., 36., 81.])"
            ]
          },
          "metadata": {},
          "execution_count": 44
        }
      ]
    },
    {
      "cell_type": "code",
      "source": [
        "int_32_tensor = torch.tensor([3,6,9], dtype= torch.int32)\n",
        "int_32_tensor"
      ],
      "metadata": {
        "colab": {
          "base_uri": "https://localhost:8080/"
        },
        "id": "WBfxLRwo9pdK",
        "outputId": "52b86139-8d3a-427d-84c4-d575dbf34dea"
      },
      "execution_count": 45,
      "outputs": [
        {
          "output_type": "execute_result",
          "data": {
            "text/plain": [
              "tensor([3, 6, 9], dtype=torch.int32)"
            ]
          },
          "metadata": {},
          "execution_count": 45
        }
      ]
    },
    {
      "cell_type": "code",
      "source": [
        "float_32_tensor * int_32_tensor"
      ],
      "metadata": {
        "colab": {
          "base_uri": "https://localhost:8080/"
        },
        "id": "Otzm3BoO-J_I",
        "outputId": "3f7b676a-cac5-48f1-9eeb-5ea600c115cf"
      },
      "execution_count": 46,
      "outputs": [
        {
          "output_type": "execute_result",
          "data": {
            "text/plain": [
              "tensor([ 9., 36., 81.])"
            ]
          },
          "metadata": {},
          "execution_count": 46
        }
      ]
    },
    {
      "cell_type": "code",
      "source": [
        "int_long_tensor = torch.tensor([3,6,9], dtype= torch.long)\n",
        "int_long_tensor"
      ],
      "metadata": {
        "colab": {
          "base_uri": "https://localhost:8080/"
        },
        "id": "mao6cGWs-PFa",
        "outputId": "efe7b7df-cd2e-4ce5-fea3-6bec5c1bf8f7"
      },
      "execution_count": 47,
      "outputs": [
        {
          "output_type": "execute_result",
          "data": {
            "text/plain": [
              "tensor([3, 6, 9])"
            ]
          },
          "metadata": {},
          "execution_count": 47
        }
      ]
    },
    {
      "cell_type": "code",
      "source": [
        "float_32_tensor * int_long_tensor"
      ],
      "metadata": {
        "colab": {
          "base_uri": "https://localhost:8080/"
        },
        "id": "sF0JBWfo-nhO",
        "outputId": "bff94847-568d-46c9-da4f-16ad05e6cdcb"
      },
      "execution_count": 48,
      "outputs": [
        {
          "output_type": "execute_result",
          "data": {
            "text/plain": [
              "tensor([ 9., 36., 81.])"
            ]
          },
          "metadata": {},
          "execution_count": 48
        }
      ]
    },
    {
      "cell_type": "markdown",
      "source": [
        "### Getting information from tensors\n",
        "\n",
        "  1. Tensors not right datatype - to do get datatype from a tensor,can use `tensor.type`\n",
        "  2. Tensors not right shape - to get shape from a tensor use `tensor.shape`\n",
        "  3. Tensors not on the right device - to get device from tensor use `tensor.device`"
      ],
      "metadata": {
        "id": "HzHOMoy7-tKF"
      }
    },
    {
      "cell_type": "code",
      "source": [
        "# Create a tensor\n",
        "some_tensor = torch.rand(3,4)\n",
        "some_tensor"
      ],
      "metadata": {
        "colab": {
          "base_uri": "https://localhost:8080/"
        },
        "id": "0-Da0VZC_23H",
        "outputId": "9373c764-4c05-46a5-a3e6-6de9526e286d"
      },
      "execution_count": 49,
      "outputs": [
        {
          "output_type": "execute_result",
          "data": {
            "text/plain": [
              "tensor([[0.8710, 0.4666, 0.6890, 0.7721],\n",
              "        [0.4570, 0.1480, 0.8299, 0.5469],\n",
              "        [0.7609, 0.7106, 0.7863, 0.9455]])"
            ]
          },
          "metadata": {},
          "execution_count": 49
        }
      ]
    },
    {
      "cell_type": "code",
      "source": [
        "# Find details of Tensor\n",
        "\n",
        "print(some_tensor)\n",
        "print(\"Datatype of tensor: \"+str(some_tensor.dtype))\n",
        "print(f\"Shape of tensor {some_tensor.shape}\")\n",
        "print(f\"Device tensor is {some_tensor.device}\")"
      ],
      "metadata": {
        "colab": {
          "base_uri": "https://localhost:8080/"
        },
        "id": "7ov1wmSB__JK",
        "outputId": "8419ef29-172b-4949-a8f5-4841fa1756c4"
      },
      "execution_count": 50,
      "outputs": [
        {
          "output_type": "stream",
          "name": "stdout",
          "text": [
            "tensor([[0.8710, 0.4666, 0.6890, 0.7721],\n",
            "        [0.4570, 0.1480, 0.8299, 0.5469],\n",
            "        [0.7609, 0.7106, 0.7863, 0.9455]])\n",
            "Datatype of tensor: torch.float32\n",
            "Shape of tensor torch.Size([3, 4])\n",
            "Device tensor is cpu\n"
          ]
        }
      ]
    },
    {
      "cell_type": "code",
      "source": [
        "# Practice\n",
        "some_tensor2 = torch.rand(3,4)\n",
        "print(some_tensor2)\n",
        "print(\"Datatype of tensor: \"+str(some_tensor2.dtype))\n",
        "print(f\"Shape of tensor {some_tensor2.shape}\")\n",
        "print(f\"Device tensor is {some_tensor2.device}\")\n",
        "\n",
        "some_tensor3 = torch.rand(3,4)\n",
        "print(some_tensor3)\n",
        "print(\"Datatype of tensor: \"+str(some_tensor3.dtype))\n",
        "print(f\"Shape of tensor {some_tensor3.shape}\")\n",
        "print(f\"Device tensor is {some_tensor3.device}\")"
      ],
      "metadata": {
        "colab": {
          "base_uri": "https://localhost:8080/"
        },
        "id": "EquHJMblA_zA",
        "outputId": "77478093-a5f2-4f11-feb9-887c5620f05b"
      },
      "execution_count": 51,
      "outputs": [
        {
          "output_type": "stream",
          "name": "stdout",
          "text": [
            "tensor([[0.1661, 0.6738, 0.7662, 0.0573],\n",
            "        [0.4411, 0.8402, 0.0159, 0.6367],\n",
            "        [0.9919, 0.4268, 0.9752, 0.0879]])\n",
            "Datatype of tensor: torch.float32\n",
            "Shape of tensor torch.Size([3, 4])\n",
            "Device tensor is cpu\n",
            "tensor([[0.8511, 0.7192, 0.4953, 0.9810],\n",
            "        [0.0644, 0.5511, 0.3254, 0.4146],\n",
            "        [0.0013, 0.8512, 0.9417, 0.2026]])\n",
            "Datatype of tensor: torch.float32\n",
            "Shape of tensor torch.Size([3, 4])\n",
            "Device tensor is cpu\n"
          ]
        }
      ]
    },
    {
      "cell_type": "markdown",
      "source": [
        "### Manipulating tensors (tensor operations)\n",
        "\n",
        "Tensor operations include\n",
        "* Addition\n",
        "* Substraction\n",
        "* Multiplications (elementwise)\n",
        "* Division\n",
        "* Matrix multiplication"
      ],
      "metadata": {
        "id": "17tK3JsTB-7G"
      }
    },
    {
      "cell_type": "code",
      "source": [
        "# Create a tensor\n",
        "tensor = torch.tensor([1,2,3])\n",
        "\n",
        "#addition\n",
        "tensor+10"
      ],
      "metadata": {
        "colab": {
          "base_uri": "https://localhost:8080/"
        },
        "id": "_8tblhvGDNKJ",
        "outputId": "8b9a5efc-b611-4c5f-f8a5-d82e5f3f8d51"
      },
      "execution_count": 52,
      "outputs": [
        {
          "output_type": "execute_result",
          "data": {
            "text/plain": [
              "tensor([11, 12, 13])"
            ]
          },
          "metadata": {},
          "execution_count": 52
        }
      ]
    },
    {
      "cell_type": "code",
      "source": [
        "#multiply (elementwise)\n",
        "tensor*10"
      ],
      "metadata": {
        "colab": {
          "base_uri": "https://localhost:8080/"
        },
        "id": "yperptXeDbRb",
        "outputId": "401f36e0-9dac-4ae5-ed2a-e8115181985d"
      },
      "execution_count": 53,
      "outputs": [
        {
          "output_type": "execute_result",
          "data": {
            "text/plain": [
              "tensor([10, 20, 30])"
            ]
          },
          "metadata": {},
          "execution_count": 53
        }
      ]
    },
    {
      "cell_type": "code",
      "source": [
        "#Try out PyTorch in-built funstions\n",
        "torch.mul(tensor,10)"
      ],
      "metadata": {
        "colab": {
          "base_uri": "https://localhost:8080/"
        },
        "id": "WaO58QFXDhLO",
        "outputId": "61b7d907-7c0d-4610-c27e-323d911376ba"
      },
      "execution_count": 54,
      "outputs": [
        {
          "output_type": "execute_result",
          "data": {
            "text/plain": [
              "tensor([10, 20, 30])"
            ]
          },
          "metadata": {},
          "execution_count": 54
        }
      ]
    },
    {
      "cell_type": "code",
      "source": [
        "tensor/10"
      ],
      "metadata": {
        "colab": {
          "base_uri": "https://localhost:8080/"
        },
        "id": "XPdD3o_WDtaU",
        "outputId": "f58f380a-c33a-4892-9205-2929753e4425"
      },
      "execution_count": 55,
      "outputs": [
        {
          "output_type": "execute_result",
          "data": {
            "text/plain": [
              "tensor([0.1000, 0.2000, 0.3000])"
            ]
          },
          "metadata": {},
          "execution_count": 55
        }
      ]
    },
    {
      "cell_type": "code",
      "source": [
        "tensor%3"
      ],
      "metadata": {
        "colab": {
          "base_uri": "https://localhost:8080/"
        },
        "id": "Hd6-_6FdD5v6",
        "outputId": "5a009123-656c-42d2-95cf-b02a4bd265ed"
      },
      "execution_count": 56,
      "outputs": [
        {
          "output_type": "execute_result",
          "data": {
            "text/plain": [
              "tensor([1, 2, 0])"
            ]
          },
          "metadata": {},
          "execution_count": 56
        }
      ]
    },
    {
      "cell_type": "markdown",
      "source": [
        "## Matrix Multiplication\n",
        "\n",
        "Two main ways of performing multiplication in DL:\n",
        "\n",
        "1. Elementwise\n",
        "2. Matrix Multiplication (dot product)\n",
        "In PyTorch we use `torch.matmul(tensor_1,tensor_2)` or **tensor1@tensor2** or `torch.mm(tensor_1,tensor_2)`\n",
        "\n",
        "Here can be found more: https://www.mathisfun.com/algebra/matrix-multiplying.html\n",
        "\n",
        "### Two of the most important rules in matrix mult are:\n",
        "\n",
        "1. The **inner dimensions must match**\n",
        "\n",
        "\n",
        "*   (3,2) @ (3,2) won't work || matmul(torch.rand(3,2),torch.rand(3,2))\n",
        "*   (2,3) @ (3,2) will work || matmul(torch.rand(2,3),torch.rand(3,2))\n",
        "*   (3,2) @ (2,3) will work || matmul(torch.rand(3,2),torch.rand(2,3))\n",
        "\n"
      ],
      "metadata": {
        "id": "AcDQ65lrEAYd"
      }
    },
    {
      "cell_type": "code",
      "source": [
        "# Element wise Multiplication\n",
        "print(tensor,\"*\",tensor)\n",
        "print(\"Equals\",tensor*tensor)"
      ],
      "metadata": {
        "colab": {
          "base_uri": "https://localhost:8080/"
        },
        "id": "7EJ3uxB_EQWi",
        "outputId": "a1fc6c70-917c-4ad2-bbd6-30baa7643000"
      },
      "execution_count": 57,
      "outputs": [
        {
          "output_type": "stream",
          "name": "stdout",
          "text": [
            "tensor([1, 2, 3]) * tensor([1, 2, 3])\n",
            "Equals tensor([1, 4, 9])\n"
          ]
        }
      ]
    },
    {
      "cell_type": "code",
      "source": [
        "# Matrix Multiplication\n",
        "\n",
        "print(tensor,\".\",tensor)\n",
        "print(\"Equals \",torch.matmul(tensor,tensor))"
      ],
      "metadata": {
        "colab": {
          "base_uri": "https://localhost:8080/"
        },
        "id": "kkg1dY_EFKXT",
        "outputId": "d5e3479a-16d1-44bb-ed91-87ad7a2b0376"
      },
      "execution_count": 58,
      "outputs": [
        {
          "output_type": "stream",
          "name": "stdout",
          "text": [
            "tensor([1, 2, 3]) . tensor([1, 2, 3])\n",
            "Equals  tensor(14)\n"
          ]
        }
      ]
    },
    {
      "cell_type": "code",
      "source": [
        "# Matrix Multiplication by hand\n",
        "\n",
        "1*1 + 2*2 + 3*3"
      ],
      "metadata": {
        "colab": {
          "base_uri": "https://localhost:8080/"
        },
        "id": "ehp7UGtCFxYT",
        "outputId": "bd5c1a21-45b7-4de6-c867-17182330fe05"
      },
      "execution_count": 59,
      "outputs": [
        {
          "output_type": "execute_result",
          "data": {
            "text/plain": [
              "14"
            ]
          },
          "metadata": {},
          "execution_count": 59
        }
      ]
    },
    {
      "cell_type": "code",
      "source": [
        "%%time\n",
        "value = 0\n",
        "for i in range (len(tensor)):\n",
        "  value += tensor[i]*tensor[i]\n",
        "print(value)"
      ],
      "metadata": {
        "colab": {
          "base_uri": "https://localhost:8080/"
        },
        "id": "NampFOOBGgRG",
        "outputId": "7209f532-c05b-4e18-d8b1-0f1a55ef3c00"
      },
      "execution_count": 60,
      "outputs": [
        {
          "output_type": "stream",
          "name": "stdout",
          "text": [
            "tensor(14)\n",
            "CPU times: user 2.09 ms, sys: 0 ns, total: 2.09 ms\n",
            "Wall time: 3.28 ms\n"
          ]
        }
      ]
    },
    {
      "cell_type": "code",
      "source": [
        "%%time\n",
        "torch.matmul(tensor,tensor)"
      ],
      "metadata": {
        "colab": {
          "base_uri": "https://localhost:8080/"
        },
        "id": "-PG4s8CfHDYS",
        "outputId": "3c830f82-c5a5-4dad-abc5-9e73b579e151"
      },
      "execution_count": 61,
      "outputs": [
        {
          "output_type": "stream",
          "name": "stdout",
          "text": [
            "CPU times: user 86 µs, sys: 0 ns, total: 86 µs\n",
            "Wall time: 90.4 µs\n"
          ]
        },
        {
          "output_type": "execute_result",
          "data": {
            "text/plain": [
              "tensor(14)"
            ]
          },
          "metadata": {},
          "execution_count": 61
        }
      ]
    },
    {
      "cell_type": "markdown",
      "source": [
        "### One of the most common errors in DL: `Shape Errors`"
      ],
      "metadata": {
        "id": "87Wo14n-HNuY"
      }
    },
    {
      "cell_type": "code",
      "source": [
        "# Shape for a matrix multiplication\n",
        "tensor_A = torch.tensor([[1,2],\n",
        "                         [3,4],\n",
        "                         [5,6]])\n",
        "\n",
        "tensor_B = torch.tensor([[7,10],\n",
        "                         [8,11],\n",
        "                         [9,12]])\n",
        "\n",
        "#torch.mm(tensor_A,tensor_B)"
      ],
      "metadata": {
        "id": "1eRuSxZzK6L9"
      },
      "execution_count": 62,
      "outputs": []
    },
    {
      "cell_type": "markdown",
      "source": [
        "To fix shapes:\n",
        "we can manipulate the shape of a matrix by transposing it.\n",
        "\n",
        "A `transpose` switches the axes or dims of a given sensor\n",
        "\n",
        "syntax: `matrix_A.T`"
      ],
      "metadata": {
        "id": "pednZbVRCRmf"
      }
    },
    {
      "cell_type": "code",
      "source": [
        "tensor_B.T, tensor_B.T.shape"
      ],
      "metadata": {
        "colab": {
          "base_uri": "https://localhost:8080/"
        },
        "id": "BOHFLX3UCWRJ",
        "outputId": "e99506fb-8ecd-4867-9889-decb3981d01e"
      },
      "execution_count": 63,
      "outputs": [
        {
          "output_type": "execute_result",
          "data": {
            "text/plain": [
              "(tensor([[ 7,  8,  9],\n",
              "         [10, 11, 12]]),\n",
              " torch.Size([2, 3]))"
            ]
          },
          "metadata": {},
          "execution_count": 63
        }
      ]
    },
    {
      "cell_type": "code",
      "source": [
        "tensor_B, tensor_B.shape"
      ],
      "metadata": {
        "colab": {
          "base_uri": "https://localhost:8080/"
        },
        "id": "Q5m5Dym9C-vb",
        "outputId": "6431df1e-0699-4ec9-cd61-0aad8c74bffb"
      },
      "execution_count": 64,
      "outputs": [
        {
          "output_type": "execute_result",
          "data": {
            "text/plain": [
              "(tensor([[ 7, 10],\n",
              "         [ 8, 11],\n",
              "         [ 9, 12]]),\n",
              " torch.Size([3, 2]))"
            ]
          },
          "metadata": {},
          "execution_count": 64
        }
      ]
    },
    {
      "cell_type": "code",
      "source": [
        "torch.mm(tensor_A,tensor_B.T),torch.mm(tensor_A,tensor_B.T).shape"
      ],
      "metadata": {
        "colab": {
          "base_uri": "https://localhost:8080/"
        },
        "id": "oPQfBCoXDCg7",
        "outputId": "cd7a828a-753c-49cc-ca11-a1f5d6724312"
      },
      "execution_count": 65,
      "outputs": [
        {
          "output_type": "execute_result",
          "data": {
            "text/plain": [
              "(tensor([[ 27,  30,  33],\n",
              "         [ 61,  68,  75],\n",
              "         [ 95, 106, 117]]),\n",
              " torch.Size([3, 3]))"
            ]
          },
          "metadata": {},
          "execution_count": 65
        }
      ]
    },
    {
      "cell_type": "markdown",
      "source": [
        "##Finding the min,max,mean,sum,etc (tensor aggregation)"
      ],
      "metadata": {
        "id": "LsmAFwwiEsh8"
      }
    },
    {
      "cell_type": "code",
      "source": [
        "#Create a tensor\n",
        "x= torch.arange(1,100,10)\n",
        "x,x.dtype"
      ],
      "metadata": {
        "colab": {
          "base_uri": "https://localhost:8080/"
        },
        "id": "cxtixV9qE1Oa",
        "outputId": "b6784b88-bb66-4038-8238-7debf8df1f6d"
      },
      "execution_count": 66,
      "outputs": [
        {
          "output_type": "execute_result",
          "data": {
            "text/plain": [
              "(tensor([ 1, 11, 21, 31, 41, 51, 61, 71, 81, 91]), torch.int64)"
            ]
          },
          "metadata": {},
          "execution_count": 66
        }
      ]
    },
    {
      "cell_type": "code",
      "source": [
        "#Find the min\n",
        "torch.min(x),x.min()"
      ],
      "metadata": {
        "colab": {
          "base_uri": "https://localhost:8080/"
        },
        "id": "XD-UYqVME_56",
        "outputId": "ac854a00-a1ca-4d0e-8515-d0e820b2178d"
      },
      "execution_count": 67,
      "outputs": [
        {
          "output_type": "execute_result",
          "data": {
            "text/plain": [
              "(tensor(1), tensor(1))"
            ]
          },
          "metadata": {},
          "execution_count": 67
        }
      ]
    },
    {
      "cell_type": "code",
      "source": [
        "#Find the max\n",
        "torch.max(x),x.max()"
      ],
      "metadata": {
        "colab": {
          "base_uri": "https://localhost:8080/"
        },
        "id": "A0M3-_ZvFQiq",
        "outputId": "6ae6b6ea-69a3-469e-deb2-903c02442512"
      },
      "execution_count": 68,
      "outputs": [
        {
          "output_type": "execute_result",
          "data": {
            "text/plain": [
              "(tensor(91), tensor(91))"
            ]
          },
          "metadata": {},
          "execution_count": 68
        }
      ]
    },
    {
      "cell_type": "code",
      "source": [
        "# Find the mean - note: torch.mean requires a tensor of float32 dtype to work, .arange is Long type\n",
        "torch.mean(x.type(torch.float32)),x.type(torch.float32).mean()"
      ],
      "metadata": {
        "colab": {
          "base_uri": "https://localhost:8080/"
        },
        "id": "mQg9yJhyFYPu",
        "outputId": "bbc41326-c0c0-4f57-e7ab-f619e1f1b7e9"
      },
      "execution_count": 69,
      "outputs": [
        {
          "output_type": "execute_result",
          "data": {
            "text/plain": [
              "(tensor(46.), tensor(46.))"
            ]
          },
          "metadata": {},
          "execution_count": 69
        }
      ]
    },
    {
      "cell_type": "code",
      "source": [
        "# Find the sum\n",
        "torch.sum(x),x.sum()"
      ],
      "metadata": {
        "colab": {
          "base_uri": "https://localhost:8080/"
        },
        "id": "xOz6xjOpFoIy",
        "outputId": "23cd6139-4d78-40b9-9d9d-37d1952cdd4b"
      },
      "execution_count": 70,
      "outputs": [
        {
          "output_type": "execute_result",
          "data": {
            "text/plain": [
              "(tensor(460), tensor(460))"
            ]
          },
          "metadata": {},
          "execution_count": 70
        }
      ]
    },
    {
      "cell_type": "markdown",
      "source": [
        "## Find the positional min and max"
      ],
      "metadata": {
        "id": "DLrackscGm2o"
      }
    },
    {
      "cell_type": "code",
      "source": [
        "x"
      ],
      "metadata": {
        "colab": {
          "base_uri": "https://localhost:8080/"
        },
        "id": "hmaV0ZVhGvnh",
        "outputId": "cfaebe38-4bad-41ad-fb86-d8fb159008ab"
      },
      "execution_count": 71,
      "outputs": [
        {
          "output_type": "execute_result",
          "data": {
            "text/plain": [
              "tensor([ 1, 11, 21, 31, 41, 51, 61, 71, 81, 91])"
            ]
          },
          "metadata": {},
          "execution_count": 71
        }
      ]
    },
    {
      "cell_type": "code",
      "source": [
        "#Find the position in tensor tha has the minimum value with `argmin()` -> returns index\n",
        "x.argmin()"
      ],
      "metadata": {
        "colab": {
          "base_uri": "https://localhost:8080/"
        },
        "id": "4DrZKiB4Gw5k",
        "outputId": "f7b7196a-b7e3-4a45-98e4-605da5fef73a"
      },
      "execution_count": 72,
      "outputs": [
        {
          "output_type": "execute_result",
          "data": {
            "text/plain": [
              "tensor(0)"
            ]
          },
          "metadata": {},
          "execution_count": 72
        }
      ]
    },
    {
      "cell_type": "code",
      "source": [
        "#Find the position in tensor tha has the minimum value with `argmin()` -> returns index\n",
        "x.argmax()"
      ],
      "metadata": {
        "colab": {
          "base_uri": "https://localhost:8080/"
        },
        "id": "Z8NDPmzzHaFI",
        "outputId": "8d4b0e3d-9846-49ab-b86c-097ff5ae23cd"
      },
      "execution_count": 73,
      "outputs": [
        {
          "output_type": "execute_result",
          "data": {
            "text/plain": [
              "tensor(9)"
            ]
          },
          "metadata": {},
          "execution_count": 73
        }
      ]
    },
    {
      "cell_type": "markdown",
      "source": [
        "## Reshaping, stacking, squeezing and unsqueezing tensors\n",
        "\n",
        "* Reshaping - reshapes an input tensor to a defined shape\n",
        "\n",
        "* View - Return a view of an input tensor of certain shape but keep the same memory as the original tensor\n",
        "\n",
        "* Stacking - combine multiple tensors on top of each other (vstack) or side by side (`hstack`)\n",
        "\n",
        "* Squeeze - removes all `1` dimensions from a tensor\n",
        "\n",
        "* Unsqueeze - add a `1` dimension to a target tensor\n",
        "\n",
        "* Permute - Return a view of the input with dims permuted(swapped) in a certain way"
      ],
      "metadata": {
        "id": "XsclugwXHfX8"
      }
    },
    {
      "cell_type": "code",
      "source": [
        "# Create a tensor\n",
        "x = torch.arange(1,10)\n",
        "x, x.shape"
      ],
      "metadata": {
        "colab": {
          "base_uri": "https://localhost:8080/"
        },
        "id": "8K1J6XSxJjaN",
        "outputId": "c2d56222-abda-40a3-8876-e947701553fd"
      },
      "execution_count": 74,
      "outputs": [
        {
          "output_type": "execute_result",
          "data": {
            "text/plain": [
              "(tensor([1, 2, 3, 4, 5, 6, 7, 8, 9]), torch.Size([9]))"
            ]
          },
          "metadata": {},
          "execution_count": 74
        }
      ]
    },
    {
      "cell_type": "code",
      "source": [
        "# Add an extra dimension\n",
        "x_reshaped1 = x.reshape(1,9)\n",
        "x_reshaped1, x_reshaped1.shape"
      ],
      "metadata": {
        "colab": {
          "base_uri": "https://localhost:8080/"
        },
        "id": "BlhoDbfpIR7v",
        "outputId": "fd83554c-c9e7-4d0c-cf99-e792b9fb4273"
      },
      "execution_count": 75,
      "outputs": [
        {
          "output_type": "execute_result",
          "data": {
            "text/plain": [
              "(tensor([[1, 2, 3, 4, 5, 6, 7, 8, 9]]), torch.Size([1, 9]))"
            ]
          },
          "metadata": {},
          "execution_count": 75
        }
      ]
    },
    {
      "cell_type": "code",
      "source": [
        "x_reshaped2 = x.reshape(9,1)\n",
        "x_reshaped2,x_reshaped2.shape"
      ],
      "metadata": {
        "colab": {
          "base_uri": "https://localhost:8080/"
        },
        "id": "FjEDpt7aK8iH",
        "outputId": "f65d69f4-f08d-4444-e8b6-1e2b90518560"
      },
      "execution_count": 76,
      "outputs": [
        {
          "output_type": "execute_result",
          "data": {
            "text/plain": [
              "(tensor([[1],\n",
              "         [2],\n",
              "         [3],\n",
              "         [4],\n",
              "         [5],\n",
              "         [6],\n",
              "         [7],\n",
              "         [8],\n",
              "         [9]]),\n",
              " torch.Size([9, 1]))"
            ]
          },
          "metadata": {},
          "execution_count": 76
        }
      ]
    },
    {
      "cell_type": "code",
      "source": [
        "# change the view\n",
        "z = x.view(1,9)\n",
        "z, z.shape"
      ],
      "metadata": {
        "id": "EHWUm42FLFuS",
        "colab": {
          "base_uri": "https://localhost:8080/"
        },
        "outputId": "4168ae72-dd4d-46c6-f7af-6dd0ef3ceecc"
      },
      "execution_count": 77,
      "outputs": [
        {
          "output_type": "execute_result",
          "data": {
            "text/plain": [
              "(tensor([[1, 2, 3, 4, 5, 6, 7, 8, 9]]), torch.Size([1, 9]))"
            ]
          },
          "metadata": {},
          "execution_count": 77
        }
      ]
    },
    {
      "cell_type": "code",
      "source": [
        "# Changing z changes x (because a view of a tensor shares the same memory )\n",
        "z[:,0] = 5\n",
        "z,x"
      ],
      "metadata": {
        "colab": {
          "base_uri": "https://localhost:8080/"
        },
        "id": "YMgi7KnJYI6N",
        "outputId": "e0042918-cd24-4f4b-c627-722ca67974aa"
      },
      "execution_count": 88,
      "outputs": [
        {
          "output_type": "execute_result",
          "data": {
            "text/plain": [
              "(tensor([[5, 2, 3, 4, 5, 6, 7, 8, 9]]), tensor([5, 2, 3, 4, 5, 6, 7, 8, 9]))"
            ]
          },
          "metadata": {},
          "execution_count": 88
        }
      ]
    },
    {
      "cell_type": "code",
      "source": [
        "# Stack tensors on top of each other\n",
        "x_stacked = torch.stack([x,x,x,x],dim=1)\n",
        "x_stacked"
      ],
      "metadata": {
        "colab": {
          "base_uri": "https://localhost:8080/"
        },
        "id": "rsjg0indYxo3",
        "outputId": "88787574-614c-429f-e9d9-85b22a3fa20f"
      },
      "execution_count": 79,
      "outputs": [
        {
          "output_type": "execute_result",
          "data": {
            "text/plain": [
              "tensor([[5, 5, 5, 5],\n",
              "        [2, 2, 2, 2],\n",
              "        [3, 3, 3, 3],\n",
              "        [4, 4, 4, 4],\n",
              "        [5, 5, 5, 5],\n",
              "        [6, 6, 6, 6],\n",
              "        [7, 7, 7, 7],\n",
              "        [8, 8, 8, 8],\n",
              "        [9, 9, 9, 9]])"
            ]
          },
          "metadata": {},
          "execution_count": 79
        }
      ]
    },
    {
      "cell_type": "code",
      "source": [
        "#torch.squeeze() - removes all single dims from target tensor\n",
        "print(f\"Porevious tensor: {x_reshaped1}\")\n",
        "print(f\"Previous shape: {x_reshaped1.shape}\")\n",
        "\n",
        "#Remove extra dim from x_reshaped1\n",
        "x_squeezed = x_reshaped1.squeeze()\n",
        "print(f\"\\nNew tensor: {x_squeezed}\")\n",
        "print(f\"New shape: {x_squeezed.shape}\")"
      ],
      "metadata": {
        "id": "ypFkGuDbZJjq",
        "colab": {
          "base_uri": "https://localhost:8080/"
        },
        "outputId": "c59124ab-55b4-4825-a510-2618fff42bea"
      },
      "execution_count": 81,
      "outputs": [
        {
          "output_type": "stream",
          "name": "stdout",
          "text": [
            "Porevious tensor: tensor([[5, 2, 3, 4, 5, 6, 7, 8, 9]])\n",
            "Previous shape: torch.Size([1, 9])\n",
            "\n",
            "New tensor: tensor([5, 2, 3, 4, 5, 6, 7, 8, 9])\n",
            "New shape: torch.Size([9])\n"
          ]
        }
      ]
    },
    {
      "cell_type": "code",
      "source": [
        "#torch.unsqueeze(). - adds a single dim to a target tensor\n",
        "print(f\"Porevious tensor: {x_squeezed}\")\n",
        "print(f\"Previous shape: {x_squeezed.shape}\")\n",
        "\n",
        "#Remove extra dim from x_reshaped1\n",
        "x_unsqueezed = x_squeezed.unsqueeze(dim = 0)\n",
        "print(f\"\\nNew tensor: {x_unsqueezed}\")\n",
        "print(f\"New shape: {x_unsqueezed.shape}\")"
      ],
      "metadata": {
        "colab": {
          "base_uri": "https://localhost:8080/"
        },
        "id": "tRqHavhlu7Rs",
        "outputId": "60ef95c5-90a3-46fe-ac47-b7f937d5c345"
      },
      "execution_count": 87,
      "outputs": [
        {
          "output_type": "stream",
          "name": "stdout",
          "text": [
            "Porevious tensor: tensor([5, 2, 3, 4, 5, 6, 7, 8, 9])\n",
            "Previous shape: torch.Size([9])\n",
            "\n",
            "New tensor: tensor([[5, 2, 3, 4, 5, 6, 7, 8, 9]])\n",
            "New shape: torch.Size([1, 9])\n"
          ]
        }
      ]
    }
  ]
}
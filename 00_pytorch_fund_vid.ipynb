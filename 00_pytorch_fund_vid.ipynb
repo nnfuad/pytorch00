{
  "nbformat": 4,
  "nbformat_minor": 0,
  "metadata": {
    "colab": {
      "provenance": [],
      "gpuType": "T4"
    },
    "kernelspec": {
      "name": "python3",
      "display_name": "Python 3"
    },
    "language_info": {
      "name": "python"
    }
  },
  "cells": [
    {
      "cell_type": "markdown",
      "source": [
        "00. Pytorch fundamentals\n",
        "\n",
        "Resource notebook: https://www.learnpytorch.io/00_pytorch_fundamentals/\n",
        "\n",
        "If you have a question: https://github.com/mrdbourke/pytorch-deep-learning/discussions\n"
      ],
      "metadata": {
        "id": "0V3KasZGoe3I"
      }
    },
    {
      "cell_type": "markdown",
      "source": [],
      "metadata": {
        "id": "_hvKuZmMoclA"
      }
    },
    {
      "cell_type": "code",
      "execution_count": 131,
      "metadata": {
        "colab": {
          "base_uri": "https://localhost:8080/"
        },
        "id": "qDIxYhWnmoMz",
        "outputId": "82c5a949-1a5b-4915-da4f-72c8f4586584"
      },
      "outputs": [
        {
          "output_type": "stream",
          "name": "stdout",
          "text": [
            "2.3.1+cu121\n"
          ]
        }
      ],
      "source": [
        "import torch\n",
        "import pandas as pd\n",
        "import numpy as np\n",
        "import matplotlib.pyplot as plt\n",
        "\n",
        "print(torch.__version__)"
      ]
    },
    {
      "cell_type": "code",
      "source": [
        "!nvidia-smi"
      ],
      "metadata": {
        "colab": {
          "base_uri": "https://localhost:8080/"
        },
        "id": "GZAVjhMqqVtW",
        "outputId": "a92ce196-da57-47a1-96c2-dd4cf887fc13"
      },
      "execution_count": 132,
      "outputs": [
        {
          "output_type": "stream",
          "name": "stdout",
          "text": [
            "/bin/bash: line 1: nvidia-smi: command not found\n"
          ]
        }
      ]
    },
    {
      "cell_type": "markdown",
      "source": [
        "\n",
        "## Introduction to tensors\n",
        "### way represent data(mostly multidimensional)\n",
        "\n",
        "###Creating tensors\n",
        "\n",
        "PyTorch tensors are created using `torch.tensor()` more at-https://pytorch.org/docs/stable/tensors.html"
      ],
      "metadata": {
        "id": "Uur_8HZrqYeC"
      }
    },
    {
      "cell_type": "markdown",
      "source": [],
      "metadata": {
        "id": "jn1Aj25o6wUT"
      }
    },
    {
      "cell_type": "code",
      "source": [
        "# scalar\n",
        "scalar = torch.tensor(7)\n",
        "scalar"
      ],
      "metadata": {
        "colab": {
          "base_uri": "https://localhost:8080/"
        },
        "id": "7130HoFw7lby",
        "outputId": "aba6dc39-8e8b-4ce1-cb28-65e3fa6390b1"
      },
      "execution_count": 133,
      "outputs": [
        {
          "output_type": "execute_result",
          "data": {
            "text/plain": [
              "tensor(7)"
            ]
          },
          "metadata": {},
          "execution_count": 133
        }
      ]
    },
    {
      "cell_type": "code",
      "source": [
        "#scalar(0) doesnt work like matrices or vectors"
      ],
      "metadata": {
        "id": "ZUbgYUFwwEVp"
      },
      "execution_count": 134,
      "outputs": []
    },
    {
      "cell_type": "markdown",
      "source": [
        "##### many dimensions of scalar are there...to find out what dimension in scalar tensor: run `scalar.ndim`"
      ],
      "metadata": {
        "id": "xTidb6Qp71an"
      }
    },
    {
      "cell_type": "code",
      "source": [
        "scalar.ndim"
      ],
      "metadata": {
        "colab": {
          "base_uri": "https://localhost:8080/"
        },
        "id": "KEusbetK9dtu",
        "outputId": "6b977978-7868-4a4d-f33b-649d0dbb8123"
      },
      "execution_count": 135,
      "outputs": [
        {
          "output_type": "execute_result",
          "data": {
            "text/plain": [
              "0"
            ]
          },
          "metadata": {},
          "execution_count": 135
        }
      ]
    },
    {
      "cell_type": "markdown",
      "source": [
        "###### get tensor back as py int use `item()`"
      ],
      "metadata": {
        "id": "HrmrXid2-D6g"
      }
    },
    {
      "cell_type": "code",
      "source": [
        "scalar.item()"
      ],
      "metadata": {
        "colab": {
          "base_uri": "https://localhost:8080/"
        },
        "id": "mjspcrZf-QDY",
        "outputId": "52874dea-136e-48b3-ab4b-9772fd5b02a1"
      },
      "execution_count": 136,
      "outputs": [
        {
          "output_type": "execute_result",
          "data": {
            "text/plain": [
              "7"
            ]
          },
          "metadata": {},
          "execution_count": 136
        }
      ]
    },
    {
      "cell_type": "code",
      "source": [
        "scalar.shape"
      ],
      "metadata": {
        "colab": {
          "base_uri": "https://localhost:8080/"
        },
        "id": "ayFybTXywxsi",
        "outputId": "e7277e2f-8d07-4b2f-8dea-202464f6249c"
      },
      "execution_count": 137,
      "outputs": [
        {
          "output_type": "execute_result",
          "data": {
            "text/plain": [
              "torch.Size([])"
            ]
          },
          "metadata": {},
          "execution_count": 137
        }
      ]
    },
    {
      "cell_type": "markdown",
      "source": [
        "##### vector has 2 values...Dimension and Shape"
      ],
      "metadata": {
        "id": "6QE1oZE2_f3m"
      }
    },
    {
      "cell_type": "code",
      "source": [
        "#vector\n",
        "vector = torch.tensor([7, 4])\n",
        "vector"
      ],
      "metadata": {
        "colab": {
          "base_uri": "https://localhost:8080/"
        },
        "id": "XahVN1hm-aze",
        "outputId": "6f5d6f4f-f0bc-4ebd-935f-c9a35bdf6fdf"
      },
      "execution_count": 138,
      "outputs": [
        {
          "output_type": "execute_result",
          "data": {
            "text/plain": [
              "tensor([7, 4])"
            ]
          },
          "metadata": {},
          "execution_count": 138
        }
      ]
    },
    {
      "cell_type": "code",
      "source": [
        "vector[1]"
      ],
      "metadata": {
        "colab": {
          "base_uri": "https://localhost:8080/"
        },
        "id": "G5rUunhsvwxQ",
        "outputId": "321ee800-4dfa-44d3-8592-2da74c7b20d6"
      },
      "execution_count": 139,
      "outputs": [
        {
          "output_type": "execute_result",
          "data": {
            "text/plain": [
              "tensor(4)"
            ]
          },
          "metadata": {},
          "execution_count": 139
        }
      ]
    },
    {
      "cell_type": "markdown",
      "source": [
        "##### many dimensions of scalar are there...to find out what dimension in vector tensor: run `vector.ndim`"
      ],
      "metadata": {
        "id": "LWgwcC40-_bb"
      }
    },
    {
      "cell_type": "code",
      "source": [
        "vector.ndim"
      ],
      "metadata": {
        "colab": {
          "base_uri": "https://localhost:8080/"
        },
        "id": "UdGHFrBf_ROH",
        "outputId": "19e8310c-9b3b-48b4-cca4-ebdd7d810b92"
      },
      "execution_count": 140,
      "outputs": [
        {
          "output_type": "execute_result",
          "data": {
            "text/plain": [
              "1"
            ]
          },
          "metadata": {},
          "execution_count": 140
        }
      ]
    },
    {
      "cell_type": "code",
      "source": [
        "vector.shape"
      ],
      "metadata": {
        "colab": {
          "base_uri": "https://localhost:8080/"
        },
        "id": "NTtYbLw7_tJX",
        "outputId": "583f67d0-7068-4a60-aea4-31a5390262d6"
      },
      "execution_count": 141,
      "outputs": [
        {
          "output_type": "execute_result",
          "data": {
            "text/plain": [
              "torch.Size([2])"
            ]
          },
          "metadata": {},
          "execution_count": 141
        }
      ]
    },
    {
      "cell_type": "code",
      "source": [
        "#Matrix\n",
        "MATRIX = torch.tensor([[7,8],\n",
        "                      [9,10]])\n",
        "MATRIX"
      ],
      "metadata": {
        "colab": {
          "base_uri": "https://localhost:8080/"
        },
        "id": "8Sq5V3r_t9jY",
        "outputId": "9e4600e3-c2df-4b5b-d579-fb4a843d1b83"
      },
      "execution_count": 142,
      "outputs": [
        {
          "output_type": "execute_result",
          "data": {
            "text/plain": [
              "tensor([[ 7,  8],\n",
              "        [ 9, 10]])"
            ]
          },
          "metadata": {},
          "execution_count": 142
        }
      ]
    },
    {
      "cell_type": "code",
      "source": [
        "MATRIX[0]"
      ],
      "metadata": {
        "colab": {
          "base_uri": "https://localhost:8080/"
        },
        "id": "Bh9rVu-jv9db",
        "outputId": "7e06dcad-983f-4fe2-ebd0-8a8d9258825e"
      },
      "execution_count": 143,
      "outputs": [
        {
          "output_type": "execute_result",
          "data": {
            "text/plain": [
              "tensor([7, 8])"
            ]
          },
          "metadata": {},
          "execution_count": 143
        }
      ]
    },
    {
      "cell_type": "code",
      "source": [
        "MATRIX.ndim"
      ],
      "metadata": {
        "colab": {
          "base_uri": "https://localhost:8080/"
        },
        "id": "k8eQiw12vXj-",
        "outputId": "e4cb61f7-cc5f-4a31-dc98-6d9120880ab2"
      },
      "execution_count": 144,
      "outputs": [
        {
          "output_type": "execute_result",
          "data": {
            "text/plain": [
              "2"
            ]
          },
          "metadata": {},
          "execution_count": 144
        }
      ]
    },
    {
      "cell_type": "code",
      "source": [
        "MATRIX.shape"
      ],
      "metadata": {
        "colab": {
          "base_uri": "https://localhost:8080/"
        },
        "id": "vWF3KIOqvnDt",
        "outputId": "eb346834-ced5-407c-bcf5-12245e50bdcd"
      },
      "execution_count": 145,
      "outputs": [
        {
          "output_type": "execute_result",
          "data": {
            "text/plain": [
              "torch.Size([2, 2])"
            ]
          },
          "metadata": {},
          "execution_count": 145
        }
      ]
    },
    {
      "cell_type": "code",
      "source": [
        "#TENSOR\n",
        "TENSOR = torch.tensor([[[1,2,3],\n",
        "                       [3,6,9],\n",
        "                       [2,4,5]]])\n",
        "TENSOR"
      ],
      "metadata": {
        "colab": {
          "base_uri": "https://localhost:8080/"
        },
        "id": "kC_V7pewwQrM",
        "outputId": "61c7f23a-b064-4ea7-b099-bb9a31c41da4"
      },
      "execution_count": 146,
      "outputs": [
        {
          "output_type": "execute_result",
          "data": {
            "text/plain": [
              "tensor([[[1, 2, 3],\n",
              "         [3, 6, 9],\n",
              "         [2, 4, 5]]])"
            ]
          },
          "metadata": {},
          "execution_count": 146
        }
      ]
    },
    {
      "cell_type": "code",
      "source": [
        "TENSOR.ndim"
      ],
      "metadata": {
        "colab": {
          "base_uri": "https://localhost:8080/"
        },
        "id": "uAEGxlc_0Lik",
        "outputId": "4002c117-d1a5-4332-b360-88a0ebb3c6fc"
      },
      "execution_count": 147,
      "outputs": [
        {
          "output_type": "execute_result",
          "data": {
            "text/plain": [
              "3"
            ]
          },
          "metadata": {},
          "execution_count": 147
        }
      ]
    },
    {
      "cell_type": "code",
      "source": [
        "TENSOR.shape"
      ],
      "metadata": {
        "colab": {
          "base_uri": "https://localhost:8080/"
        },
        "id": "7lE3s16O0kcr",
        "outputId": "58c9a944-c767-49a0-9cbd-8ca470a580a2"
      },
      "execution_count": 148,
      "outputs": [
        {
          "output_type": "execute_result",
          "data": {
            "text/plain": [
              "torch.Size([1, 3, 3])"
            ]
          },
          "metadata": {},
          "execution_count": 148
        }
      ]
    },
    {
      "cell_type": "code",
      "source": [
        "TENSOR[0]"
      ],
      "metadata": {
        "colab": {
          "base_uri": "https://localhost:8080/"
        },
        "id": "k5Q9F5e-0sP_",
        "outputId": "091a0a87-dd77-4fae-98f7-c6dce4473c8a"
      },
      "execution_count": 149,
      "outputs": [
        {
          "output_type": "execute_result",
          "data": {
            "text/plain": [
              "tensor([[1, 2, 3],\n",
              "        [3, 6, 9],\n",
              "        [2, 4, 5]])"
            ]
          },
          "metadata": {},
          "execution_count": 149
        }
      ]
    },
    {
      "cell_type": "code",
      "source": [
        "#PRACTICE TENSORS 1\n",
        "tensor1 = torch.tensor([1])\n",
        "print(tensor1.ndim)\n",
        "print(tensor1.shape)\n",
        "print(tensor1[0])\n",
        "tensor1\n"
      ],
      "metadata": {
        "colab": {
          "base_uri": "https://localhost:8080/"
        },
        "id": "3ceN5YO--33m",
        "outputId": "1abf593b-2daf-4a6c-9116-5a782667b037"
      },
      "execution_count": 150,
      "outputs": [
        {
          "output_type": "stream",
          "name": "stdout",
          "text": [
            "1\n",
            "torch.Size([1])\n",
            "tensor(1)\n"
          ]
        },
        {
          "output_type": "execute_result",
          "data": {
            "text/plain": [
              "tensor([1])"
            ]
          },
          "metadata": {},
          "execution_count": 150
        }
      ]
    },
    {
      "cell_type": "code",
      "source": [
        "#PRACTICE TENSORS 2\n",
        "#tensor2 = torch.tensor([1],[2],[3])\n",
        "#TypeError: tensor() takes 1 positional argument but 3 were given\n",
        "#WE HAVE TO MAKE IT LIKE A 2D TENSOR OR WE CAN ADD INSIDE THE SINGLES WHICH WILL REMAIN A 1D TENSOR\n",
        "tensor2 = torch.tensor([1,2,3,4,55,52,54,5,353])\n",
        "print(tensor2.ndim)\n",
        "print(tensor2.shape)\n",
        "print(tensor2[4])\n",
        "tensor2\n"
      ],
      "metadata": {
        "colab": {
          "base_uri": "https://localhost:8080/"
        },
        "id": "rPS45TyP_onW",
        "outputId": "3bd2ac48-cfe2-4e74-de0c-035103bdb8a8"
      },
      "execution_count": 151,
      "outputs": [
        {
          "output_type": "stream",
          "name": "stdout",
          "text": [
            "1\n",
            "torch.Size([9])\n",
            "tensor(55)\n"
          ]
        },
        {
          "output_type": "execute_result",
          "data": {
            "text/plain": [
              "tensor([  1,   2,   3,   4,  55,  52,  54,   5, 353])"
            ]
          },
          "metadata": {},
          "execution_count": 151
        }
      ]
    },
    {
      "cell_type": "code",
      "source": [
        "#PRACTICE TENSORS 3\n",
        "#The below code doesnt work cuz:\n",
        "#ValueError: expected sequence of length 2 at dim 1 (got 3)\n",
        "#tensor3 = torch.tensor([[1,2],\n",
        "#                        [1,2,3],\n",
        "#                        [4]])\n",
        "tensor3 = torch.tensor([[1,2,3],\n",
        "                        [11,12,13],\n",
        "                        [4,5,6]])\n",
        "print(tensor3.ndim)\n",
        "print(tensor3.shape)\n",
        "print(tensor3[2])\n",
        "print(tensor3[1,2])\n",
        "tensor3\n"
      ],
      "metadata": {
        "colab": {
          "base_uri": "https://localhost:8080/"
        },
        "id": "AsKQnUzLBxXr",
        "outputId": "b1a05c52-9468-41c6-a224-15202cf90c0a"
      },
      "execution_count": 152,
      "outputs": [
        {
          "output_type": "stream",
          "name": "stdout",
          "text": [
            "2\n",
            "torch.Size([3, 3])\n",
            "tensor([4, 5, 6])\n",
            "tensor(13)\n"
          ]
        },
        {
          "output_type": "execute_result",
          "data": {
            "text/plain": [
              "tensor([[ 1,  2,  3],\n",
              "        [11, 12, 13],\n",
              "        [ 4,  5,  6]])"
            ]
          },
          "metadata": {},
          "execution_count": 152
        }
      ]
    },
    {
      "cell_type": "code",
      "source": [
        "#PRACTICE TENSORS 4\n",
        "\n",
        "tensor4 = torch.tensor([[1,2,3,4,65],\n",
        "                        [11,12,13,89,56],\n",
        "                        [44,5,6,10,5],\n",
        "                        [1,2,3,46,6]])\n",
        "print(tensor4.ndim)\n",
        "print(tensor4.shape)\n",
        "print(tensor4[2])\n",
        "print(tensor4[1,2])\n",
        "tensor4\n"
      ],
      "metadata": {
        "id": "KH4eAV2QF2l_",
        "colab": {
          "base_uri": "https://localhost:8080/"
        },
        "outputId": "55d01713-1a44-4243-e265-7d98b6f12d7e"
      },
      "execution_count": 153,
      "outputs": [
        {
          "output_type": "stream",
          "name": "stdout",
          "text": [
            "2\n",
            "torch.Size([4, 5])\n",
            "tensor([44,  5,  6, 10,  5])\n",
            "tensor(13)\n"
          ]
        },
        {
          "output_type": "execute_result",
          "data": {
            "text/plain": [
              "tensor([[ 1,  2,  3,  4, 65],\n",
              "        [11, 12, 13, 89, 56],\n",
              "        [44,  5,  6, 10,  5],\n",
              "        [ 1,  2,  3, 46,  6]])"
            ]
          },
          "metadata": {},
          "execution_count": 153
        }
      ]
    },
    {
      "cell_type": "code",
      "source": [
        "#PRACTICE TENSORS 5\n",
        "\n",
        "tensor5 = torch.tensor([[[1,2,3,4,65],\n",
        "                        [11,12,13,89,56],\n",
        "                        [44,5,6,10,5],\n",
        "                        [1,2,3,46,6]]])\n",
        "print(tensor5.ndim)\n",
        "print(tensor5.shape)\n",
        "\n",
        "#print(tensor5[2]) not possible cuz:\n",
        "#IndexError: index 2 is out of bounds for dimension 0 with size SOOO....:\n",
        "print(tensor5[0,1])\n",
        "\n",
        "#print(tensor5[1,2]) not possible cuz:\n",
        "#index 1 is out of bounds for dimension 0 with size 1 SOOOO....:\n",
        "print(tensor5[0,2,3])\n",
        "\n",
        "tensor5\n"
      ],
      "metadata": {
        "colab": {
          "base_uri": "https://localhost:8080/"
        },
        "id": "ycVqI-XPIm11",
        "outputId": "1cfa2aa6-b6f0-4804-82c7-91eb11abe2d2"
      },
      "execution_count": 154,
      "outputs": [
        {
          "output_type": "stream",
          "name": "stdout",
          "text": [
            "3\n",
            "torch.Size([1, 4, 5])\n",
            "tensor([11, 12, 13, 89, 56])\n",
            "tensor(10)\n"
          ]
        },
        {
          "output_type": "execute_result",
          "data": {
            "text/plain": [
              "tensor([[[ 1,  2,  3,  4, 65],\n",
              "         [11, 12, 13, 89, 56],\n",
              "         [44,  5,  6, 10,  5],\n",
              "         [ 1,  2,  3, 46,  6]]])"
            ]
          },
          "metadata": {},
          "execution_count": 154
        }
      ]
    },
    {
      "cell_type": "code",
      "source": [
        "#PRACTICE TENSORS 6\n",
        "\n",
        "#tensor6 = torch.tensor([[[1,2,3,4,65],[32,43,54,65]\n",
        "#                        [11,12,13,89,56],[12,22,32,42]\n",
        "#                        [44,5,6,10,5],[22,33,44,55,66]\n",
        "#                        [1,2,3,46,6],[23,33,43,53]]])\n",
        "#CUZ:   TypeError must be lists, not tuples, were missing commas and first are 5 while seconds were 4 ,have to be equal....SOOO..:\n",
        "\n",
        "#tensor6 = torch.tensor([[[1,2,3,4,65],[32,43,54,65,11],\n",
        "#                        [11,12,13,89,56],[12,22,32,42,22],\n",
        "#                        [44,5,6,10,5],[22,33,44,55,200],\n",
        "#                        [1,2,3,46,6],[23,33,43,53,100]]])\n",
        "#works....but same as before with size[1,8,5]....\n",
        "\n",
        "tensor6 = torch.tensor([\n",
        "                        [[1,2,3,4,65],\n",
        "                        [11,12,13,89,56],\n",
        "                        [44,5,6,10,5],\n",
        "                        [1,2,3,46,6]],\n",
        "\n",
        "                          [[32,43,54,65,11],\n",
        "                          [12,22,32,42,22],\n",
        "                          [22,33,44,55,200],\n",
        "                          [23,33,43,53,100]]\n",
        "                        ])\n",
        "\n",
        "print(tensor6.ndim)\n",
        "print(tensor6.shape)\n",
        "\n",
        "print(tensor6[0,1])\n",
        "\n",
        "print(tensor6[1,2,3])\n",
        "\n",
        "tensor6\n"
      ],
      "metadata": {
        "colab": {
          "base_uri": "https://localhost:8080/"
        },
        "id": "ckI9bspVJEDK",
        "outputId": "bac21cd6-0754-4bc4-fc02-900e86134959"
      },
      "execution_count": 155,
      "outputs": [
        {
          "output_type": "stream",
          "name": "stdout",
          "text": [
            "3\n",
            "torch.Size([2, 4, 5])\n",
            "tensor([11, 12, 13, 89, 56])\n",
            "tensor(55)\n"
          ]
        },
        {
          "output_type": "execute_result",
          "data": {
            "text/plain": [
              "tensor([[[  1,   2,   3,   4,  65],\n",
              "         [ 11,  12,  13,  89,  56],\n",
              "         [ 44,   5,   6,  10,   5],\n",
              "         [  1,   2,   3,  46,   6]],\n",
              "\n",
              "        [[ 32,  43,  54,  65,  11],\n",
              "         [ 12,  22,  32,  42,  22],\n",
              "         [ 22,  33,  44,  55, 200],\n",
              "         [ 23,  33,  43,  53, 100]]])"
            ]
          },
          "metadata": {},
          "execution_count": 155
        }
      ]
    },
    {
      "cell_type": "markdown",
      "source": [
        "**END OF PRACTICE**"
      ],
      "metadata": {
        "id": "awfD9cYaSYmF"
      }
    },
    {
      "cell_type": "markdown",
      "source": [
        "##**RANDOM tensors**\n",
        "Why random tensors?\n",
        "\n",
        "it starts with tensors full of random numbers and then adjust those random numbers to better represent the data.\n",
        "\n",
        "`Start with RND nums -> look at data ->update RND nums -> look at data -> update RND nums\n",
        "\n",
        "More at: https://pytorch.org/docs/stable/generated/torch.rand.html"
      ],
      "metadata": {
        "id": "46u-UUXfS1MU"
      }
    },
    {
      "cell_type": "code",
      "source": [
        "#Create a random tensor of size (3,4)\n",
        "rand_tensor = torch.rand(3,4)\n",
        "rand_tensor"
      ],
      "metadata": {
        "colab": {
          "base_uri": "https://localhost:8080/"
        },
        "id": "jaFOWlnXK1rn",
        "outputId": "45118eb5-542b-4752-8cfa-258b601152b8"
      },
      "execution_count": 156,
      "outputs": [
        {
          "output_type": "execute_result",
          "data": {
            "text/plain": [
              "tensor([[0.2091, 0.4759, 0.5611, 0.5189],\n",
              "        [0.3021, 0.4800, 0.7388, 0.7453],\n",
              "        [0.8736, 0.0719, 0.9030, 0.3933]])"
            ]
          },
          "metadata": {},
          "execution_count": 156
        }
      ]
    },
    {
      "cell_type": "code",
      "source": [
        "rand_tensor.ndim"
      ],
      "metadata": {
        "colab": {
          "base_uri": "https://localhost:8080/"
        },
        "id": "uuliaE0DUW6q",
        "outputId": "d6432b75-d7fa-4d3b-f74c-81ce085a099d"
      },
      "execution_count": 157,
      "outputs": [
        {
          "output_type": "execute_result",
          "data": {
            "text/plain": [
              "2"
            ]
          },
          "metadata": {},
          "execution_count": 157
        }
      ]
    },
    {
      "cell_type": "code",
      "source": [
        "#Create a random tensor of size (2,4,5)\n",
        "rand_tensor2 = torch.rand(2,4,5)\n",
        "rand_tensor2"
      ],
      "metadata": {
        "colab": {
          "base_uri": "https://localhost:8080/"
        },
        "id": "fkCeJXEqUran",
        "outputId": "911b7e5f-24ae-441e-830c-f11e78b38410"
      },
      "execution_count": 158,
      "outputs": [
        {
          "output_type": "execute_result",
          "data": {
            "text/plain": [
              "tensor([[[0.7946, 0.8880, 0.1040, 0.8842, 0.5575],\n",
              "         [0.9905, 0.8869, 0.5008, 0.4708, 0.9255],\n",
              "         [0.1774, 0.4198, 0.5070, 0.6238, 0.6206],\n",
              "         [0.0955, 0.6834, 0.7104, 0.0186, 0.9882]],\n",
              "\n",
              "        [[0.1895, 0.3793, 0.6740, 0.5837, 0.6415],\n",
              "         [0.2318, 0.0163, 0.3342, 0.8685, 0.0595],\n",
              "         [0.2624, 0.6676, 0.8022, 0.8652, 0.6989],\n",
              "         [0.8953, 0.7005, 0.8909, 0.2521, 0.1839]]])"
            ]
          },
          "metadata": {},
          "execution_count": 158
        }
      ]
    },
    {
      "cell_type": "code",
      "source": [
        "rand_tensor2.ndim"
      ],
      "metadata": {
        "colab": {
          "base_uri": "https://localhost:8080/"
        },
        "id": "KANkigTgU13z",
        "outputId": "91afed1e-0999-4d08-b00b-e53b4604e395"
      },
      "execution_count": 159,
      "outputs": [
        {
          "output_type": "execute_result",
          "data": {
            "text/plain": [
              "3"
            ]
          },
          "metadata": {},
          "execution_count": 159
        }
      ]
    },
    {
      "cell_type": "code",
      "source": [
        "rand_tensor2 = torch.rand(2,3,4,5)\n",
        "print(rand_tensor2.shape)\n",
        "print(rand_tensor2.ndim)\n",
        "rand_tensor2"
      ],
      "metadata": {
        "colab": {
          "base_uri": "https://localhost:8080/"
        },
        "id": "poanp2X3U5DB",
        "outputId": "9bfc8cdb-6c41-4d4c-ea69-6a6bd7ff5629"
      },
      "execution_count": 160,
      "outputs": [
        {
          "output_type": "stream",
          "name": "stdout",
          "text": [
            "torch.Size([2, 3, 4, 5])\n",
            "4\n"
          ]
        },
        {
          "output_type": "execute_result",
          "data": {
            "text/plain": [
              "tensor([[[[0.2460, 0.6457, 0.7725, 0.8620, 0.0485],\n",
              "          [0.4384, 0.9597, 0.3692, 0.6472, 0.2792],\n",
              "          [0.5096, 0.9936, 0.9863, 0.4414, 0.8825],\n",
              "          [0.3426, 0.1724, 0.4869, 0.4389, 0.0707]],\n",
              "\n",
              "         [[0.1970, 0.5996, 0.2733, 0.6334, 0.4908],\n",
              "          [0.3021, 0.7284, 0.7220, 0.1579, 0.7417],\n",
              "          [0.9024, 0.2733, 0.7454, 0.3728, 0.9080],\n",
              "          [0.7653, 0.4017, 0.7946, 0.6887, 0.0701]],\n",
              "\n",
              "         [[0.0197, 0.9375, 0.1320, 0.4710, 0.6343],\n",
              "          [0.6827, 0.2858, 0.0293, 0.9341, 0.7430],\n",
              "          [0.5024, 0.1492, 0.2672, 0.4270, 0.8703],\n",
              "          [0.1499, 0.2653, 0.7920, 0.4867, 0.1149]]],\n",
              "\n",
              "\n",
              "        [[[0.4174, 0.2366, 0.2309, 0.9071, 0.8062],\n",
              "          [0.3866, 0.2045, 0.8250, 0.3754, 0.3516],\n",
              "          [0.2746, 0.0357, 0.5081, 0.3607, 0.0141],\n",
              "          [0.6983, 0.9387, 0.0165, 0.3365, 0.5864]],\n",
              "\n",
              "         [[0.2731, 0.1336, 0.1433, 0.7176, 0.8599],\n",
              "          [0.7771, 0.5900, 0.9647, 0.2359, 0.4064],\n",
              "          [0.4553, 0.9702, 0.6144, 0.2327, 0.7075],\n",
              "          [0.6966, 0.6412, 0.1618, 0.8644, 0.0873]],\n",
              "\n",
              "         [[0.3694, 0.5821, 0.0742, 0.0965, 0.0748],\n",
              "          [0.4439, 0.3681, 0.2362, 0.9575, 0.2209],\n",
              "          [0.5261, 0.5449, 0.8452, 0.7947, 0.5409],\n",
              "          [0.3049, 0.8532, 0.9883, 0.5711, 0.3721]]]])"
            ]
          },
          "metadata": {},
          "execution_count": 160
        }
      ]
    },
    {
      "cell_type": "code",
      "source": [
        "#Create a random tensor with similar shape to an image tensor\n",
        "random_img_size_tensor = torch.rand(size=(3,224,224)) #height,width,color channels(rgb)\n",
        "random_img_size_tensor.shape,random_img_size_tensor.ndim"
      ],
      "metadata": {
        "colab": {
          "base_uri": "https://localhost:8080/"
        },
        "id": "uKFWWDHoVuh_",
        "outputId": "8bcc58d2-34a2-457a-98bf-7e831f973699"
      },
      "execution_count": 161,
      "outputs": [
        {
          "output_type": "execute_result",
          "data": {
            "text/plain": [
              "(torch.Size([3, 224, 224]), 3)"
            ]
          },
          "metadata": {},
          "execution_count": 161
        }
      ]
    },
    {
      "cell_type": "code",
      "source": [
        "#PRACTiCE:\n",
        "rand_tensorrr = torch.rand(1,1,1,1,1,1,1)\n",
        "print(rand_tensorrr.shape)\n",
        "print(rand_tensorrr.ndim)\n",
        "print(rand_tensorrr)\n",
        "\n",
        "rand_tensorr = torch.rand(1,2,3,4)\n",
        "print(rand_tensorr.shape)\n",
        "print(rand_tensorr.ndim)\n",
        "print(rand_tensorr)\n",
        "\n",
        "rand_tensor3 = torch.rand(2,3,4,5)\n",
        "print(rand_tensor3.shape)\n",
        "print(rand_tensor3.ndim)\n",
        "print(rand_tensor3)\n",
        "\n",
        "rand_tensor5 = torch.rand(3,2,3,2,6)\n",
        "print(rand_tensor5.shape)\n",
        "print(rand_tensor5.ndim)\n",
        "rand_tensor5"
      ],
      "metadata": {
        "colab": {
          "base_uri": "https://localhost:8080/"
        },
        "id": "ryU-rGEnWqg6",
        "outputId": "f583dad3-bf36-4394-ec06-d5ef90c07fe4"
      },
      "execution_count": 162,
      "outputs": [
        {
          "output_type": "stream",
          "name": "stdout",
          "text": [
            "torch.Size([1, 1, 1, 1, 1, 1, 1])\n",
            "7\n",
            "tensor([[[[[[[0.2249]]]]]]])\n",
            "torch.Size([1, 2, 3, 4])\n",
            "4\n",
            "tensor([[[[0.0145, 0.0754, 0.1355, 0.3163],\n",
            "          [0.3263, 0.0798, 0.6881, 0.3717],\n",
            "          [0.5530, 0.3887, 0.2887, 0.9540]],\n",
            "\n",
            "         [[0.5138, 0.3908, 0.6198, 0.6655],\n",
            "          [0.9734, 0.8112, 0.2390, 0.0258],\n",
            "          [0.8559, 0.2492, 0.6582, 0.4450]]]])\n",
            "torch.Size([2, 3, 4, 5])\n",
            "4\n",
            "tensor([[[[9.1095e-01, 9.4944e-01, 8.6185e-01, 9.9683e-01, 2.8826e-01],\n",
            "          [4.1519e-01, 7.9340e-01, 5.2971e-01, 7.0190e-01, 6.3986e-01],\n",
            "          [2.5422e-01, 6.3990e-02, 7.8166e-01, 6.6436e-01, 9.5037e-02],\n",
            "          [9.0077e-01, 5.9907e-01, 9.0140e-01, 2.2215e-01, 9.4209e-01]],\n",
            "\n",
            "         [[5.1314e-01, 9.0616e-01, 1.0147e-01, 2.1708e-01, 7.6254e-01],\n",
            "          [4.6427e-01, 5.3235e-01, 7.2724e-04, 8.2000e-01, 2.9255e-01],\n",
            "          [4.9475e-01, 9.0935e-01, 7.0425e-01, 8.0184e-01, 9.0909e-01],\n",
            "          [2.4915e-01, 6.8150e-01, 3.4604e-01, 3.9980e-01, 5.2464e-01]],\n",
            "\n",
            "         [[4.4432e-01, 4.4017e-01, 9.7905e-01, 5.2086e-01, 3.3644e-01],\n",
            "          [3.1336e-01, 5.4456e-01, 1.1524e-01, 9.0435e-01, 1.6257e-01],\n",
            "          [1.5036e-01, 5.8752e-01, 5.0062e-01, 8.1009e-01, 3.8206e-02],\n",
            "          [2.4841e-01, 7.6097e-01, 3.7843e-01, 8.5066e-02, 5.4395e-02]]],\n",
            "\n",
            "\n",
            "        [[[1.6914e-01, 7.8242e-01, 1.4430e-01, 1.7677e-01, 2.8487e-01],\n",
            "          [9.1686e-01, 9.5979e-01, 3.5526e-01, 1.0054e-01, 5.9301e-01],\n",
            "          [9.0656e-01, 4.3549e-01, 2.9856e-02, 6.3668e-01, 5.4846e-01],\n",
            "          [7.3158e-01, 8.8580e-01, 3.1048e-02, 6.7682e-01, 9.8967e-01]],\n",
            "\n",
            "         [[1.7065e-01, 2.8885e-01, 1.8700e-01, 5.9880e-01, 3.3663e-01],\n",
            "          [2.2790e-01, 9.7829e-01, 2.9816e-01, 3.0274e-01, 6.0420e-01],\n",
            "          [9.4778e-01, 2.4282e-01, 3.0593e-02, 9.2279e-01, 1.2921e-01],\n",
            "          [2.6062e-01, 5.3990e-01, 9.8826e-01, 4.3042e-01, 6.1021e-02]],\n",
            "\n",
            "         [[1.4054e-01, 6.6594e-01, 6.8510e-01, 2.2400e-01, 5.8899e-01],\n",
            "          [1.3089e-01, 1.6215e-01, 6.2788e-01, 4.2774e-01, 2.0723e-01],\n",
            "          [3.8869e-02, 6.2458e-01, 3.0514e-01, 5.5720e-01, 2.7506e-01],\n",
            "          [6.7241e-01, 6.0756e-01, 4.0403e-01, 8.9470e-01, 2.6219e-01]]]])\n",
            "torch.Size([3, 2, 3, 2, 6])\n",
            "5\n"
          ]
        },
        {
          "output_type": "execute_result",
          "data": {
            "text/plain": [
              "tensor([[[[[8.3466e-01, 2.4887e-01, 5.6401e-01, 7.7355e-01, 4.0544e-01,\n",
              "            4.4250e-01],\n",
              "           [9.4631e-01, 4.3930e-01, 2.4113e-01, 3.2702e-01, 5.1838e-01,\n",
              "            7.4052e-01]],\n",
              "\n",
              "          [[4.2793e-02, 5.7594e-01, 2.2006e-01, 1.7349e-01, 8.9912e-01,\n",
              "            4.2970e-01],\n",
              "           [7.3879e-01, 7.3989e-01, 2.2395e-01, 8.6991e-01, 5.4372e-01,\n",
              "            5.6072e-01]],\n",
              "\n",
              "          [[3.8138e-01, 4.2543e-01, 8.2390e-02, 3.5997e-01, 4.7988e-01,\n",
              "            9.7197e-01],\n",
              "           [5.9054e-01, 4.2530e-01, 2.0254e-01, 5.6478e-01, 3.1753e-01,\n",
              "            1.1692e-01]]],\n",
              "\n",
              "\n",
              "         [[[4.0551e-02, 7.4169e-01, 9.0813e-01, 2.1294e-01, 1.8730e-01,\n",
              "            4.5096e-01],\n",
              "           [9.3081e-01, 6.1065e-01, 5.2057e-01, 9.0410e-01, 9.4079e-01,\n",
              "            7.7709e-01]],\n",
              "\n",
              "          [[8.7065e-02, 9.8775e-01, 9.0863e-01, 2.0102e-01, 2.4084e-01,\n",
              "            2.5353e-01],\n",
              "           [8.0893e-01, 7.9738e-01, 8.7255e-01, 7.9087e-01, 5.4272e-01,\n",
              "            5.7754e-01]],\n",
              "\n",
              "          [[7.7730e-01, 4.1675e-01, 1.1300e-01, 7.6009e-01, 7.3556e-01,\n",
              "            3.6345e-01],\n",
              "           [9.5600e-02, 6.8148e-01, 9.1903e-01, 1.2872e-01, 4.4282e-01,\n",
              "            4.5066e-01]]]],\n",
              "\n",
              "\n",
              "\n",
              "        [[[[3.7739e-01, 7.0820e-01, 4.9208e-01, 3.8679e-01, 6.9320e-02,\n",
              "            9.8975e-02],\n",
              "           [3.4355e-01, 8.2913e-01, 5.9487e-01, 6.3272e-01, 9.8318e-01,\n",
              "            4.3492e-01]],\n",
              "\n",
              "          [[8.9447e-01, 7.4042e-01, 7.5508e-01, 2.2489e-02, 4.5944e-01,\n",
              "            1.0754e-01],\n",
              "           [3.2026e-01, 2.2747e-01, 9.4759e-01, 3.5164e-01, 4.7488e-01,\n",
              "            2.8392e-01]],\n",
              "\n",
              "          [[1.1719e-01, 4.3589e-01, 9.1870e-01, 3.6126e-01, 8.1186e-01,\n",
              "            3.9216e-01],\n",
              "           [5.3997e-01, 2.4382e-01, 9.7309e-01, 4.8399e-01, 5.8658e-01,\n",
              "            6.1389e-01]]],\n",
              "\n",
              "\n",
              "         [[[9.9105e-04, 8.3094e-01, 5.2902e-01, 7.6745e-01, 7.6935e-01,\n",
              "            2.9759e-01],\n",
              "           [3.3859e-01, 4.9188e-01, 4.7322e-01, 9.7546e-01, 1.8983e-01,\n",
              "            7.2586e-01]],\n",
              "\n",
              "          [[7.2126e-01, 9.1491e-01, 9.1083e-01, 3.6966e-01, 6.2707e-01,\n",
              "            2.1614e-01],\n",
              "           [3.5715e-01, 9.2070e-01, 5.1775e-01, 3.3466e-01, 2.9665e-01,\n",
              "            4.6687e-01]],\n",
              "\n",
              "          [[6.0358e-01, 4.9784e-01, 4.3718e-01, 9.6869e-01, 8.0347e-01,\n",
              "            7.4325e-01],\n",
              "           [4.0297e-01, 2.2169e-01, 2.2202e-01, 5.4286e-01, 5.0327e-01,\n",
              "            9.7995e-01]]]],\n",
              "\n",
              "\n",
              "\n",
              "        [[[[8.2194e-01, 9.3758e-01, 1.1148e-01, 6.5523e-02, 2.1142e-01,\n",
              "            6.1448e-01],\n",
              "           [9.9200e-01, 3.2737e-01, 7.5022e-01, 2.8116e-01, 6.1800e-01,\n",
              "            3.5139e-01]],\n",
              "\n",
              "          [[9.0808e-01, 4.3173e-02, 7.8572e-01, 4.1369e-02, 9.8779e-01,\n",
              "            3.8089e-01],\n",
              "           [6.8233e-01, 6.5777e-01, 5.4091e-01, 2.8820e-01, 2.8430e-01,\n",
              "            9.2611e-01]],\n",
              "\n",
              "          [[3.7126e-01, 7.0584e-01, 6.8514e-01, 8.2813e-01, 2.5984e-01,\n",
              "            4.1414e-01],\n",
              "           [1.9363e-01, 2.0262e-01, 8.5075e-01, 1.7606e-01, 3.9577e-01,\n",
              "            2.5979e-01]]],\n",
              "\n",
              "\n",
              "         [[[2.9869e-01, 9.8859e-01, 3.5094e-01, 1.1698e-01, 3.4156e-01,\n",
              "            6.4441e-02],\n",
              "           [5.9519e-01, 4.4209e-01, 6.2923e-02, 9.7416e-01, 1.7222e-02,\n",
              "            8.9709e-01]],\n",
              "\n",
              "          [[3.1998e-01, 8.5829e-01, 6.9528e-01, 1.7861e-02, 3.7397e-01,\n",
              "            6.5249e-01],\n",
              "           [7.6166e-01, 7.5835e-01, 2.4295e-01, 3.7035e-01, 8.4973e-01,\n",
              "            4.4225e-01]],\n",
              "\n",
              "          [[4.6824e-01, 6.5394e-01, 8.3284e-01, 6.8224e-01, 8.8360e-01,\n",
              "            9.8095e-01],\n",
              "           [9.7138e-01, 4.3441e-01, 9.2157e-01, 1.8699e-01, 3.7087e-01,\n",
              "            2.2379e-02]]]]])"
            ]
          },
          "metadata": {},
          "execution_count": 162
        }
      ]
    },
    {
      "cell_type": "markdown",
      "source": [
        "###Zeros and ones"
      ],
      "metadata": {
        "id": "fl8RY-9kWu6-"
      }
    },
    {
      "cell_type": "code",
      "source": [
        "# Create a tensor of all zeros\n",
        "zeros = torch.zeros(size=(3,4))\n",
        "zeros"
      ],
      "metadata": {
        "colab": {
          "base_uri": "https://localhost:8080/"
        },
        "id": "6NwiqEGfjnB4",
        "outputId": "bd117926-9e4d-47ab-ea91-bf6fad236963"
      },
      "execution_count": 163,
      "outputs": [
        {
          "output_type": "execute_result",
          "data": {
            "text/plain": [
              "tensor([[0., 0., 0., 0.],\n",
              "        [0., 0., 0., 0.],\n",
              "        [0., 0., 0., 0.]])"
            ]
          },
          "metadata": {},
          "execution_count": 163
        }
      ]
    },
    {
      "cell_type": "code",
      "source": [
        "zeros*rand_tensor"
      ],
      "metadata": {
        "colab": {
          "base_uri": "https://localhost:8080/"
        },
        "id": "kUUU4cKdkDcq",
        "outputId": "4c24e6b4-3183-4fa0-de3e-ac812838d848"
      },
      "execution_count": 164,
      "outputs": [
        {
          "output_type": "execute_result",
          "data": {
            "text/plain": [
              "tensor([[0., 0., 0., 0.],\n",
              "        [0., 0., 0., 0.],\n",
              "        [0., 0., 0., 0.]])"
            ]
          },
          "metadata": {},
          "execution_count": 164
        }
      ]
    },
    {
      "cell_type": "code",
      "source": [
        "#Create a tensor of all ones\n",
        "ones = torch.ones(size=(3,4))\n",
        "ones"
      ],
      "metadata": {
        "colab": {
          "base_uri": "https://localhost:8080/"
        },
        "id": "ZJ3-qJ7EkHJv",
        "outputId": "6186d0bd-042d-47bf-d35c-ea43faafebbe"
      },
      "execution_count": 165,
      "outputs": [
        {
          "output_type": "execute_result",
          "data": {
            "text/plain": [
              "tensor([[1., 1., 1., 1.],\n",
              "        [1., 1., 1., 1.],\n",
              "        [1., 1., 1., 1.]])"
            ]
          },
          "metadata": {},
          "execution_count": 165
        }
      ]
    },
    {
      "cell_type": "code",
      "source": [
        "ones.dtype"
      ],
      "metadata": {
        "colab": {
          "base_uri": "https://localhost:8080/"
        },
        "id": "NSM4TrKrkhBS",
        "outputId": "dcad3ff6-2700-490a-b9d4-dd51fa052e89"
      },
      "execution_count": 166,
      "outputs": [
        {
          "output_type": "execute_result",
          "data": {
            "text/plain": [
              "torch.float32"
            ]
          },
          "metadata": {},
          "execution_count": 166
        }
      ]
    },
    {
      "cell_type": "code",
      "source": [
        "ones*zeros"
      ],
      "metadata": {
        "colab": {
          "base_uri": "https://localhost:8080/"
        },
        "id": "0AoqM5Zukqtq",
        "outputId": "94db549b-0ba3-4b7e-c639-622deec94a8c"
      },
      "execution_count": 167,
      "outputs": [
        {
          "output_type": "execute_result",
          "data": {
            "text/plain": [
              "tensor([[0., 0., 0., 0.],\n",
              "        [0., 0., 0., 0.],\n",
              "        [0., 0., 0., 0.]])"
            ]
          },
          "metadata": {},
          "execution_count": 167
        }
      ]
    },
    {
      "cell_type": "markdown",
      "source": [
        "### Creating a range of tensors and tensors-like"
      ],
      "metadata": {
        "id": "Z6lvDgSwk49w"
      }
    },
    {
      "cell_type": "code",
      "source": [
        "# Use torch.range()\n",
        "one_to_ten = torch.arange(0,1000,78)\n",
        "one_to_ten"
      ],
      "metadata": {
        "colab": {
          "base_uri": "https://localhost:8080/"
        },
        "id": "7xR8uAlVlGWh",
        "outputId": "6cbe3833-213b-41ca-9fff-fc5db17ecaee"
      },
      "execution_count": 168,
      "outputs": [
        {
          "output_type": "execute_result",
          "data": {
            "text/plain": [
              "tensor([  0,  78, 156, 234, 312, 390, 468, 546, 624, 702, 780, 858, 936])"
            ]
          },
          "metadata": {},
          "execution_count": 168
        }
      ]
    },
    {
      "cell_type": "code",
      "source": [
        "# Tensor like\n",
        "one_to_ten_like = torch.zeros_like(input=one_to_ten)\n",
        "one_to_ten_like"
      ],
      "metadata": {
        "colab": {
          "base_uri": "https://localhost:8080/"
        },
        "id": "duU9NesdlgIW",
        "outputId": "705f51df-5fd8-4bab-dcb0-5a846e72c692"
      },
      "execution_count": 169,
      "outputs": [
        {
          "output_type": "execute_result",
          "data": {
            "text/plain": [
              "tensor([0, 0, 0, 0, 0, 0, 0, 0, 0, 0, 0, 0, 0])"
            ]
          },
          "metadata": {},
          "execution_count": 169
        }
      ]
    },
    {
      "cell_type": "code",
      "source": [
        "two_to_ten_like = torch.ones_like(input=one_to_ten)\n",
        "two_to_ten_like"
      ],
      "metadata": {
        "colab": {
          "base_uri": "https://localhost:8080/"
        },
        "id": "lrEJhSQhl00f",
        "outputId": "dcd5a365-cbc4-4e35-bf29-172f94dc54d8"
      },
      "execution_count": 170,
      "outputs": [
        {
          "output_type": "execute_result",
          "data": {
            "text/plain": [
              "tensor([1, 1, 1, 1, 1, 1, 1, 1, 1, 1, 1, 1, 1])"
            ]
          },
          "metadata": {},
          "execution_count": 170
        }
      ]
    },
    {
      "cell_type": "markdown",
      "source": [
        "### Tensor Data Type\n",
        "\n",
        "**Note:** Tensor data types is one of the 3 big errors you may run into with PyTorch & deep learning:\n",
        "  1. Tensors not right datatype\n",
        "  2. Tensors not right shape\n",
        "  3. Tensors not on the right device\n",
        "\n",
        "  Learn more about precision incomputing here:\n",
        "  https://en.wikipedia.org/wiki/Precision_(computer_science)"
      ],
      "metadata": {
        "id": "dGpn8QXCmcLx"
      }
    },
    {
      "cell_type": "code",
      "source": [
        "# Float 32 Tensor\n",
        "float_32_tensor = torch.tensor([3.0,6.0,9.0],\n",
        "                               dtype=None, #what datatype is the tensor(e.g. float32 or float16)\n",
        "                               device=None, #what device is your tensor on\n",
        "                               requires_grad=False) #whether or not to track gradients with this tensors operations\n",
        "\n",
        "float_32_tensor"
      ],
      "metadata": {
        "colab": {
          "base_uri": "https://localhost:8080/"
        },
        "id": "CEkXZZAn95H6",
        "outputId": "7196be45-213b-43bc-a326-db7ba7de0f65"
      },
      "execution_count": 171,
      "outputs": [
        {
          "output_type": "execute_result",
          "data": {
            "text/plain": [
              "tensor([3., 6., 9.])"
            ]
          },
          "metadata": {},
          "execution_count": 171
        }
      ]
    },
    {
      "cell_type": "code",
      "source": [
        "float_32_tensor.dtype"
      ],
      "metadata": {
        "colab": {
          "base_uri": "https://localhost:8080/"
        },
        "id": "1zajTg52-Hqr",
        "outputId": "d5920edb-85fd-4619-f710-1fa34da0ea63"
      },
      "execution_count": 172,
      "outputs": [
        {
          "output_type": "execute_result",
          "data": {
            "text/plain": [
              "torch.float32"
            ]
          },
          "metadata": {},
          "execution_count": 172
        }
      ]
    },
    {
      "cell_type": "code",
      "source": [
        "float_16_tensor = float_32_tensor.type(torch.float16)\n",
        "float_16_tensor"
      ],
      "metadata": {
        "id": "GrDV65PsBqk3",
        "colab": {
          "base_uri": "https://localhost:8080/"
        },
        "outputId": "97112881-3448-4cce-c07e-fc843449c7f3"
      },
      "execution_count": 173,
      "outputs": [
        {
          "output_type": "execute_result",
          "data": {
            "text/plain": [
              "tensor([3., 6., 9.], dtype=torch.float16)"
            ]
          },
          "metadata": {},
          "execution_count": 173
        }
      ]
    },
    {
      "cell_type": "code",
      "source": [
        "float_16_tensor * float_32_tensor"
      ],
      "metadata": {
        "colab": {
          "base_uri": "https://localhost:8080/"
        },
        "id": "FoagK8kc9AmB",
        "outputId": "6b7a0ea2-620b-4bb9-a275-232782d104e5"
      },
      "execution_count": 174,
      "outputs": [
        {
          "output_type": "execute_result",
          "data": {
            "text/plain": [
              "tensor([ 9., 36., 81.])"
            ]
          },
          "metadata": {},
          "execution_count": 174
        }
      ]
    },
    {
      "cell_type": "code",
      "source": [
        "int_32_tensor = torch.tensor([3,6,9], dtype= torch.int32)\n",
        "int_32_tensor"
      ],
      "metadata": {
        "colab": {
          "base_uri": "https://localhost:8080/"
        },
        "id": "WBfxLRwo9pdK",
        "outputId": "4b828118-2e7c-473d-b506-675adaf8e28a"
      },
      "execution_count": 175,
      "outputs": [
        {
          "output_type": "execute_result",
          "data": {
            "text/plain": [
              "tensor([3, 6, 9], dtype=torch.int32)"
            ]
          },
          "metadata": {},
          "execution_count": 175
        }
      ]
    },
    {
      "cell_type": "code",
      "source": [
        "float_32_tensor * int_32_tensor"
      ],
      "metadata": {
        "colab": {
          "base_uri": "https://localhost:8080/"
        },
        "id": "Otzm3BoO-J_I",
        "outputId": "4978b1f6-3bff-47ee-de28-d0035b68c217"
      },
      "execution_count": 176,
      "outputs": [
        {
          "output_type": "execute_result",
          "data": {
            "text/plain": [
              "tensor([ 9., 36., 81.])"
            ]
          },
          "metadata": {},
          "execution_count": 176
        }
      ]
    },
    {
      "cell_type": "code",
      "source": [
        "int_long_tensor = torch.tensor([3,6,9], dtype= torch.long)\n",
        "int_long_tensor"
      ],
      "metadata": {
        "colab": {
          "base_uri": "https://localhost:8080/"
        },
        "id": "mao6cGWs-PFa",
        "outputId": "cb98d231-92fc-443c-ea23-31fb461f0193"
      },
      "execution_count": 177,
      "outputs": [
        {
          "output_type": "execute_result",
          "data": {
            "text/plain": [
              "tensor([3, 6, 9])"
            ]
          },
          "metadata": {},
          "execution_count": 177
        }
      ]
    },
    {
      "cell_type": "code",
      "source": [
        "float_32_tensor * int_long_tensor"
      ],
      "metadata": {
        "colab": {
          "base_uri": "https://localhost:8080/"
        },
        "id": "sF0JBWfo-nhO",
        "outputId": "cc83cb8a-dd59-4244-c2c3-5c7761192aae"
      },
      "execution_count": 178,
      "outputs": [
        {
          "output_type": "execute_result",
          "data": {
            "text/plain": [
              "tensor([ 9., 36., 81.])"
            ]
          },
          "metadata": {},
          "execution_count": 178
        }
      ]
    },
    {
      "cell_type": "markdown",
      "source": [
        "### Getting information from tensors\n",
        "\n",
        "  1. Tensors not right datatype - to do get datatype from a tensor,can use `tensor.type`\n",
        "  2. Tensors not right shape - to get shape from a tensor use `tensor.shape`\n",
        "  3. Tensors not on the right device - to get device from tensor use `tensor.device`"
      ],
      "metadata": {
        "id": "HzHOMoy7-tKF"
      }
    },
    {
      "cell_type": "code",
      "source": [
        "# Create a tensor\n",
        "some_tensor = torch.rand(3,4)\n",
        "some_tensor"
      ],
      "metadata": {
        "colab": {
          "base_uri": "https://localhost:8080/"
        },
        "id": "0-Da0VZC_23H",
        "outputId": "c8fdfe9a-1979-487d-e0e4-2aead2d8c78b"
      },
      "execution_count": 179,
      "outputs": [
        {
          "output_type": "execute_result",
          "data": {
            "text/plain": [
              "tensor([[0.1522, 0.1184, 0.0881, 0.1113],\n",
              "        [0.5086, 0.1380, 0.1131, 0.9411],\n",
              "        [0.4496, 0.3693, 0.9301, 0.1307]])"
            ]
          },
          "metadata": {},
          "execution_count": 179
        }
      ]
    },
    {
      "cell_type": "code",
      "source": [
        "# Find details of Tensor\n",
        "\n",
        "print(some_tensor)\n",
        "print(\"Datatype of tensor: \"+str(some_tensor.dtype))\n",
        "print(f\"Shape of tensor {some_tensor.shape}\")\n",
        "print(f\"Device tensor is {some_tensor.device}\")"
      ],
      "metadata": {
        "colab": {
          "base_uri": "https://localhost:8080/"
        },
        "id": "7ov1wmSB__JK",
        "outputId": "d282b0b6-260f-485a-d21c-1df92a3258a9"
      },
      "execution_count": 180,
      "outputs": [
        {
          "output_type": "stream",
          "name": "stdout",
          "text": [
            "tensor([[0.1522, 0.1184, 0.0881, 0.1113],\n",
            "        [0.5086, 0.1380, 0.1131, 0.9411],\n",
            "        [0.4496, 0.3693, 0.9301, 0.1307]])\n",
            "Datatype of tensor: torch.float32\n",
            "Shape of tensor torch.Size([3, 4])\n",
            "Device tensor is cpu\n"
          ]
        }
      ]
    },
    {
      "cell_type": "code",
      "source": [
        "# Practice\n",
        "some_tensor2 = torch.rand(3,4)\n",
        "print(some_tensor2)\n",
        "print(\"Datatype of tensor: \"+str(some_tensor2.dtype))\n",
        "print(f\"Shape of tensor {some_tensor2.shape}\")\n",
        "print(f\"Device tensor is {some_tensor2.device}\")\n",
        "\n",
        "some_tensor3 = torch.rand(3,4)\n",
        "print(some_tensor3)\n",
        "print(\"Datatype of tensor: \"+str(some_tensor3.dtype))\n",
        "print(f\"Shape of tensor {some_tensor3.shape}\")\n",
        "print(f\"Device tensor is {some_tensor3.device}\")"
      ],
      "metadata": {
        "colab": {
          "base_uri": "https://localhost:8080/"
        },
        "id": "EquHJMblA_zA",
        "outputId": "dbb3e1bd-d5c1-4f22-9d32-81ac44ce9d75"
      },
      "execution_count": 181,
      "outputs": [
        {
          "output_type": "stream",
          "name": "stdout",
          "text": [
            "tensor([[0.1585, 0.5703, 0.8073, 0.9089],\n",
            "        [0.0865, 0.6299, 0.1278, 0.4212],\n",
            "        [0.2337, 0.2509, 0.0832, 0.0604]])\n",
            "Datatype of tensor: torch.float32\n",
            "Shape of tensor torch.Size([3, 4])\n",
            "Device tensor is cpu\n",
            "tensor([[0.8401, 0.3304, 0.1607, 0.9970],\n",
            "        [0.3839, 0.8783, 0.6683, 0.7641],\n",
            "        [0.2109, 0.5728, 0.8374, 0.4885]])\n",
            "Datatype of tensor: torch.float32\n",
            "Shape of tensor torch.Size([3, 4])\n",
            "Device tensor is cpu\n"
          ]
        }
      ]
    },
    {
      "cell_type": "markdown",
      "source": [
        "### Manipulating tensors (tensor operations)\n",
        "\n",
        "Tensor operations include\n",
        "* Addition\n",
        "* Substraction\n",
        "* Multiplications (elementwise)\n",
        "* Division\n",
        "* Matrix multiplication"
      ],
      "metadata": {
        "id": "17tK3JsTB-7G"
      }
    },
    {
      "cell_type": "code",
      "source": [
        "# Create a tensor\n",
        "tensor = torch.tensor([1,2,3])\n",
        "\n",
        "#addition\n",
        "tensor+10"
      ],
      "metadata": {
        "colab": {
          "base_uri": "https://localhost:8080/"
        },
        "id": "_8tblhvGDNKJ",
        "outputId": "6b3182e8-cce0-4d37-82ee-961289881477"
      },
      "execution_count": 182,
      "outputs": [
        {
          "output_type": "execute_result",
          "data": {
            "text/plain": [
              "tensor([11, 12, 13])"
            ]
          },
          "metadata": {},
          "execution_count": 182
        }
      ]
    },
    {
      "cell_type": "code",
      "source": [
        "#multiply (elementwise)\n",
        "tensor*10"
      ],
      "metadata": {
        "colab": {
          "base_uri": "https://localhost:8080/"
        },
        "id": "yperptXeDbRb",
        "outputId": "46a2322c-cde2-423d-a562-bf93984a04c5"
      },
      "execution_count": 183,
      "outputs": [
        {
          "output_type": "execute_result",
          "data": {
            "text/plain": [
              "tensor([10, 20, 30])"
            ]
          },
          "metadata": {},
          "execution_count": 183
        }
      ]
    },
    {
      "cell_type": "code",
      "source": [
        "#Try out PyTorch in-built funstions\n",
        "torch.mul(tensor,10)"
      ],
      "metadata": {
        "colab": {
          "base_uri": "https://localhost:8080/"
        },
        "id": "WaO58QFXDhLO",
        "outputId": "f1239aec-ce5f-4497-ecf8-dc81349a21c9"
      },
      "execution_count": 184,
      "outputs": [
        {
          "output_type": "execute_result",
          "data": {
            "text/plain": [
              "tensor([10, 20, 30])"
            ]
          },
          "metadata": {},
          "execution_count": 184
        }
      ]
    },
    {
      "cell_type": "code",
      "source": [
        "tensor/10"
      ],
      "metadata": {
        "colab": {
          "base_uri": "https://localhost:8080/"
        },
        "id": "XPdD3o_WDtaU",
        "outputId": "d66ed2bc-a3c2-4ca9-8352-8a5e21ec21c8"
      },
      "execution_count": 185,
      "outputs": [
        {
          "output_type": "execute_result",
          "data": {
            "text/plain": [
              "tensor([0.1000, 0.2000, 0.3000])"
            ]
          },
          "metadata": {},
          "execution_count": 185
        }
      ]
    },
    {
      "cell_type": "code",
      "source": [
        "tensor%3"
      ],
      "metadata": {
        "colab": {
          "base_uri": "https://localhost:8080/"
        },
        "id": "Hd6-_6FdD5v6",
        "outputId": "6ef170cd-e1f5-4ed8-c01d-c2caec56af70"
      },
      "execution_count": 186,
      "outputs": [
        {
          "output_type": "execute_result",
          "data": {
            "text/plain": [
              "tensor([1, 2, 0])"
            ]
          },
          "metadata": {},
          "execution_count": 186
        }
      ]
    },
    {
      "cell_type": "markdown",
      "source": [
        "## Matrix Multiplication\n",
        "\n",
        "Two main ways of performing multiplication in DL:\n",
        "\n",
        "1. Elementwise\n",
        "2. Matrix Multiplication (dot product)\n",
        "In PyTorch we use `torch.matmul(tensor_1,tensor_2)` or **tensor1@tensor2** or `torch.mm(tensor_1,tensor_2)`\n",
        "\n",
        "Here can be found more: https://www.mathisfun.com/algebra/matrix-multiplying.html\n",
        "\n",
        "### Two of the most important rules in matrix mult are:\n",
        "\n",
        "1. The **inner dimensions must match**\n",
        "\n",
        "\n",
        "*   (3,2) @ (3,2) won't work || matmul(torch.rand(3,2),torch.rand(3,2))\n",
        "*   (2,3) @ (3,2) will work || matmul(torch.rand(2,3),torch.rand(3,2))\n",
        "*   (3,2) @ (2,3) will work || matmul(torch.rand(3,2),torch.rand(2,3))\n",
        "\n"
      ],
      "metadata": {
        "id": "AcDQ65lrEAYd"
      }
    },
    {
      "cell_type": "code",
      "source": [
        "# Element wise Multiplication\n",
        "print(tensor,\"*\",tensor)\n",
        "print(\"Equals\",tensor*tensor)"
      ],
      "metadata": {
        "colab": {
          "base_uri": "https://localhost:8080/"
        },
        "id": "7EJ3uxB_EQWi",
        "outputId": "a98f3143-d274-45f8-f5c1-1a06e30ab815"
      },
      "execution_count": 187,
      "outputs": [
        {
          "output_type": "stream",
          "name": "stdout",
          "text": [
            "tensor([1, 2, 3]) * tensor([1, 2, 3])\n",
            "Equals tensor([1, 4, 9])\n"
          ]
        }
      ]
    },
    {
      "cell_type": "code",
      "source": [
        "# Matrix Multiplication\n",
        "\n",
        "print(tensor,\".\",tensor)\n",
        "print(\"Equals \",torch.matmul(tensor,tensor))"
      ],
      "metadata": {
        "colab": {
          "base_uri": "https://localhost:8080/"
        },
        "id": "kkg1dY_EFKXT",
        "outputId": "520f7f0d-3832-45ab-d004-051cac4d62ef"
      },
      "execution_count": 188,
      "outputs": [
        {
          "output_type": "stream",
          "name": "stdout",
          "text": [
            "tensor([1, 2, 3]) . tensor([1, 2, 3])\n",
            "Equals  tensor(14)\n"
          ]
        }
      ]
    },
    {
      "cell_type": "code",
      "source": [
        "# Matrix Multiplication by hand\n",
        "\n",
        "1*1 + 2*2 + 3*3"
      ],
      "metadata": {
        "colab": {
          "base_uri": "https://localhost:8080/"
        },
        "id": "ehp7UGtCFxYT",
        "outputId": "5cab5238-cedd-418d-bb0b-37cb58106824"
      },
      "execution_count": 189,
      "outputs": [
        {
          "output_type": "execute_result",
          "data": {
            "text/plain": [
              "14"
            ]
          },
          "metadata": {},
          "execution_count": 189
        }
      ]
    },
    {
      "cell_type": "code",
      "source": [
        "%%time\n",
        "value = 0\n",
        "for i in range (len(tensor)):\n",
        "  value += tensor[i]*tensor[i]\n",
        "print(value)"
      ],
      "metadata": {
        "colab": {
          "base_uri": "https://localhost:8080/"
        },
        "id": "NampFOOBGgRG",
        "outputId": "b551a247-29e9-48f4-b0f0-cfc2eec3fc09"
      },
      "execution_count": 190,
      "outputs": [
        {
          "output_type": "stream",
          "name": "stdout",
          "text": [
            "tensor(14)\n",
            "CPU times: user 1.62 ms, sys: 926 µs, total: 2.55 ms\n",
            "Wall time: 3.87 ms\n"
          ]
        }
      ]
    },
    {
      "cell_type": "code",
      "source": [
        "%%time\n",
        "torch.matmul(tensor,tensor)"
      ],
      "metadata": {
        "colab": {
          "base_uri": "https://localhost:8080/"
        },
        "id": "-PG4s8CfHDYS",
        "outputId": "a5cd7137-5701-42a3-a4c9-ff1da0abcd56"
      },
      "execution_count": 191,
      "outputs": [
        {
          "output_type": "stream",
          "name": "stdout",
          "text": [
            "CPU times: user 1.3 ms, sys: 19 µs, total: 1.32 ms\n",
            "Wall time: 1.19 ms\n"
          ]
        },
        {
          "output_type": "execute_result",
          "data": {
            "text/plain": [
              "tensor(14)"
            ]
          },
          "metadata": {},
          "execution_count": 191
        }
      ]
    },
    {
      "cell_type": "markdown",
      "source": [
        "### One of the most common errors in DL: `Shape Errors`"
      ],
      "metadata": {
        "id": "87Wo14n-HNuY"
      }
    },
    {
      "cell_type": "code",
      "source": [
        "# Shape for a matrix multiplication\n",
        "tensor_A = torch.tensor([[1,2],\n",
        "                         [3,4],\n",
        "                         [5,6]])\n",
        "\n",
        "tensor_B = torch.tensor([[7,10],\n",
        "                         [8,11],\n",
        "                         [9,12]])\n",
        "\n",
        "#torch.mm(tensor_A,tensor_B)"
      ],
      "metadata": {
        "id": "1eRuSxZzK6L9"
      },
      "execution_count": 192,
      "outputs": []
    },
    {
      "cell_type": "markdown",
      "source": [
        "To fix shapes:\n",
        "we can manipulate the shape of a matrix by transposing it.\n",
        "\n",
        "A `transpose` switches the axes or dims of a given sensor\n",
        "\n",
        "syntax: `matrix_A.T`"
      ],
      "metadata": {
        "id": "pednZbVRCRmf"
      }
    },
    {
      "cell_type": "code",
      "source": [
        "tensor_B.T, tensor_B.T.shape"
      ],
      "metadata": {
        "colab": {
          "base_uri": "https://localhost:8080/"
        },
        "id": "BOHFLX3UCWRJ",
        "outputId": "4abc87b0-f86c-4c2f-b6c7-0fd4c8d434af"
      },
      "execution_count": 193,
      "outputs": [
        {
          "output_type": "execute_result",
          "data": {
            "text/plain": [
              "(tensor([[ 7,  8,  9],\n",
              "         [10, 11, 12]]),\n",
              " torch.Size([2, 3]))"
            ]
          },
          "metadata": {},
          "execution_count": 193
        }
      ]
    },
    {
      "cell_type": "code",
      "source": [
        "tensor_B, tensor_B.shape"
      ],
      "metadata": {
        "colab": {
          "base_uri": "https://localhost:8080/"
        },
        "id": "Q5m5Dym9C-vb",
        "outputId": "60b4d7b7-4c98-4aec-f1da-2263d1b8118d"
      },
      "execution_count": 194,
      "outputs": [
        {
          "output_type": "execute_result",
          "data": {
            "text/plain": [
              "(tensor([[ 7, 10],\n",
              "         [ 8, 11],\n",
              "         [ 9, 12]]),\n",
              " torch.Size([3, 2]))"
            ]
          },
          "metadata": {},
          "execution_count": 194
        }
      ]
    },
    {
      "cell_type": "code",
      "source": [
        "torch.mm(tensor_A,tensor_B.T),torch.mm(tensor_A,tensor_B.T).shape"
      ],
      "metadata": {
        "colab": {
          "base_uri": "https://localhost:8080/"
        },
        "id": "oPQfBCoXDCg7",
        "outputId": "14f870f1-6b9c-44ae-9865-61396723d89b"
      },
      "execution_count": 195,
      "outputs": [
        {
          "output_type": "execute_result",
          "data": {
            "text/plain": [
              "(tensor([[ 27,  30,  33],\n",
              "         [ 61,  68,  75],\n",
              "         [ 95, 106, 117]]),\n",
              " torch.Size([3, 3]))"
            ]
          },
          "metadata": {},
          "execution_count": 195
        }
      ]
    },
    {
      "cell_type": "markdown",
      "source": [
        "##Finding the min,max,mean,sum,etc (tensor aggregation)"
      ],
      "metadata": {
        "id": "LsmAFwwiEsh8"
      }
    },
    {
      "cell_type": "code",
      "source": [
        "#Create a tensor\n",
        "x= torch.arange(1,100,10)\n",
        "x,x.dtype"
      ],
      "metadata": {
        "colab": {
          "base_uri": "https://localhost:8080/"
        },
        "id": "cxtixV9qE1Oa",
        "outputId": "d75496c4-a27c-4ffa-c595-cf25bfc79ee9"
      },
      "execution_count": 196,
      "outputs": [
        {
          "output_type": "execute_result",
          "data": {
            "text/plain": [
              "(tensor([ 1, 11, 21, 31, 41, 51, 61, 71, 81, 91]), torch.int64)"
            ]
          },
          "metadata": {},
          "execution_count": 196
        }
      ]
    },
    {
      "cell_type": "code",
      "source": [
        "#Find the min\n",
        "torch.min(x),x.min()"
      ],
      "metadata": {
        "colab": {
          "base_uri": "https://localhost:8080/"
        },
        "id": "XD-UYqVME_56",
        "outputId": "d18bfc60-9c62-4f37-d097-e4e1be6d7826"
      },
      "execution_count": 197,
      "outputs": [
        {
          "output_type": "execute_result",
          "data": {
            "text/plain": [
              "(tensor(1), tensor(1))"
            ]
          },
          "metadata": {},
          "execution_count": 197
        }
      ]
    },
    {
      "cell_type": "code",
      "source": [
        "#Find the max\n",
        "torch.max(x),x.max()"
      ],
      "metadata": {
        "colab": {
          "base_uri": "https://localhost:8080/"
        },
        "id": "A0M3-_ZvFQiq",
        "outputId": "a27322c3-d293-40d8-9085-56933751454f"
      },
      "execution_count": 198,
      "outputs": [
        {
          "output_type": "execute_result",
          "data": {
            "text/plain": [
              "(tensor(91), tensor(91))"
            ]
          },
          "metadata": {},
          "execution_count": 198
        }
      ]
    },
    {
      "cell_type": "code",
      "source": [
        "# Find the mean - note: torch.mean requires a tensor of float32 dtype to work, .arange is Long type\n",
        "torch.mean(x.type(torch.float32)),x.type(torch.float32).mean()"
      ],
      "metadata": {
        "colab": {
          "base_uri": "https://localhost:8080/"
        },
        "id": "mQg9yJhyFYPu",
        "outputId": "0808eca9-585d-4326-c7d2-15e36f22dcac"
      },
      "execution_count": 199,
      "outputs": [
        {
          "output_type": "execute_result",
          "data": {
            "text/plain": [
              "(tensor(46.), tensor(46.))"
            ]
          },
          "metadata": {},
          "execution_count": 199
        }
      ]
    },
    {
      "cell_type": "code",
      "source": [
        "# Find the sum\n",
        "torch.sum(x),x.sum()"
      ],
      "metadata": {
        "colab": {
          "base_uri": "https://localhost:8080/"
        },
        "id": "xOz6xjOpFoIy",
        "outputId": "b160b46f-12ca-4f19-cb8c-8c2422174a6b"
      },
      "execution_count": 200,
      "outputs": [
        {
          "output_type": "execute_result",
          "data": {
            "text/plain": [
              "(tensor(460), tensor(460))"
            ]
          },
          "metadata": {},
          "execution_count": 200
        }
      ]
    },
    {
      "cell_type": "markdown",
      "source": [
        "## Find the positional min and max"
      ],
      "metadata": {
        "id": "DLrackscGm2o"
      }
    },
    {
      "cell_type": "code",
      "source": [
        "x"
      ],
      "metadata": {
        "colab": {
          "base_uri": "https://localhost:8080/"
        },
        "id": "hmaV0ZVhGvnh",
        "outputId": "227970ac-1f2e-49fa-cd85-ce3fe7db36c0"
      },
      "execution_count": 201,
      "outputs": [
        {
          "output_type": "execute_result",
          "data": {
            "text/plain": [
              "tensor([ 1, 11, 21, 31, 41, 51, 61, 71, 81, 91])"
            ]
          },
          "metadata": {},
          "execution_count": 201
        }
      ]
    },
    {
      "cell_type": "code",
      "source": [
        "#Find the position in tensor tha has the minimum value with `argmin()` -> returns index\n",
        "x.argmin()"
      ],
      "metadata": {
        "colab": {
          "base_uri": "https://localhost:8080/"
        },
        "id": "4DrZKiB4Gw5k",
        "outputId": "9afad9e5-ad81-4e34-e5a0-1fed346e3020"
      },
      "execution_count": 202,
      "outputs": [
        {
          "output_type": "execute_result",
          "data": {
            "text/plain": [
              "tensor(0)"
            ]
          },
          "metadata": {},
          "execution_count": 202
        }
      ]
    },
    {
      "cell_type": "code",
      "source": [
        "#Find the position in tensor tha has the minimum value with `argmin()` -> returns index\n",
        "x.argmax()"
      ],
      "metadata": {
        "colab": {
          "base_uri": "https://localhost:8080/"
        },
        "id": "Z8NDPmzzHaFI",
        "outputId": "c00a39e3-e955-4428-9ca7-b27548ca303c"
      },
      "execution_count": 203,
      "outputs": [
        {
          "output_type": "execute_result",
          "data": {
            "text/plain": [
              "tensor(9)"
            ]
          },
          "metadata": {},
          "execution_count": 203
        }
      ]
    },
    {
      "cell_type": "markdown",
      "source": [
        "## Reshaping, stacking, squeezing and unsqueezing tensors\n",
        "\n",
        "* Reshaping - reshapes an input tensor to a defined shape\n",
        "\n",
        "* View - Return a view of an input tensor of certain shape but keep the same memory as the original tensor\n",
        "\n",
        "* Stacking - combine multiple tensors on top of each other (vstack) or side by side (`hstack`)\n",
        "\n",
        "* Squeeze - removes all `1` dimensions from a tensor\n",
        "\n",
        "* Unsqueeze - add a `1` dimension to a target tensor\n",
        "\n",
        "* Permute - Return a view of the input with dims permuted(swapped) in a certain way"
      ],
      "metadata": {
        "id": "XsclugwXHfX8"
      }
    },
    {
      "cell_type": "code",
      "source": [
        "# Create a tensor\n",
        "x = torch.arange(1,10)\n",
        "x, x.shape"
      ],
      "metadata": {
        "colab": {
          "base_uri": "https://localhost:8080/"
        },
        "id": "8K1J6XSxJjaN",
        "outputId": "e8ac0e22-707e-4969-bf07-5b98593e7164"
      },
      "execution_count": 204,
      "outputs": [
        {
          "output_type": "execute_result",
          "data": {
            "text/plain": [
              "(tensor([1, 2, 3, 4, 5, 6, 7, 8, 9]), torch.Size([9]))"
            ]
          },
          "metadata": {},
          "execution_count": 204
        }
      ]
    },
    {
      "cell_type": "code",
      "source": [
        "# Add an extra dimension\n",
        "x_reshaped1 = x.reshape(1,9)\n",
        "x_reshaped1, x_reshaped1.shape"
      ],
      "metadata": {
        "colab": {
          "base_uri": "https://localhost:8080/"
        },
        "id": "BlhoDbfpIR7v",
        "outputId": "2163415e-c279-4006-c4a7-f64d2afc6177"
      },
      "execution_count": 205,
      "outputs": [
        {
          "output_type": "execute_result",
          "data": {
            "text/plain": [
              "(tensor([[1, 2, 3, 4, 5, 6, 7, 8, 9]]), torch.Size([1, 9]))"
            ]
          },
          "metadata": {},
          "execution_count": 205
        }
      ]
    },
    {
      "cell_type": "code",
      "source": [
        "x_reshaped2 = x.reshape(9,1)\n",
        "x_reshaped2,x_reshaped2.shape"
      ],
      "metadata": {
        "colab": {
          "base_uri": "https://localhost:8080/"
        },
        "id": "FjEDpt7aK8iH",
        "outputId": "73abc4b3-ea17-4878-a8b5-872bb043dc5a"
      },
      "execution_count": 206,
      "outputs": [
        {
          "output_type": "execute_result",
          "data": {
            "text/plain": [
              "(tensor([[1],\n",
              "         [2],\n",
              "         [3],\n",
              "         [4],\n",
              "         [5],\n",
              "         [6],\n",
              "         [7],\n",
              "         [8],\n",
              "         [9]]),\n",
              " torch.Size([9, 1]))"
            ]
          },
          "metadata": {},
          "execution_count": 206
        }
      ]
    },
    {
      "cell_type": "code",
      "source": [
        "# change the view\n",
        "z = x.view(1,9)\n",
        "z, z.shape"
      ],
      "metadata": {
        "id": "EHWUm42FLFuS",
        "colab": {
          "base_uri": "https://localhost:8080/"
        },
        "outputId": "e9b4c328-15c6-4f71-a871-1c8ed916f72b"
      },
      "execution_count": 207,
      "outputs": [
        {
          "output_type": "execute_result",
          "data": {
            "text/plain": [
              "(tensor([[1, 2, 3, 4, 5, 6, 7, 8, 9]]), torch.Size([1, 9]))"
            ]
          },
          "metadata": {},
          "execution_count": 207
        }
      ]
    },
    {
      "cell_type": "code",
      "source": [
        "# Changing z changes x (because a view of a tensor shares the same memory )\n",
        "z[:,0] = 5\n",
        "z,x"
      ],
      "metadata": {
        "colab": {
          "base_uri": "https://localhost:8080/"
        },
        "id": "YMgi7KnJYI6N",
        "outputId": "777d4f1d-e7fe-44c2-b64c-725605e4b75b"
      },
      "execution_count": 208,
      "outputs": [
        {
          "output_type": "execute_result",
          "data": {
            "text/plain": [
              "(tensor([[5, 2, 3, 4, 5, 6, 7, 8, 9]]), tensor([5, 2, 3, 4, 5, 6, 7, 8, 9]))"
            ]
          },
          "metadata": {},
          "execution_count": 208
        }
      ]
    },
    {
      "cell_type": "code",
      "source": [
        "# Stack tensors on top of each other\n",
        "x_stacked = torch.stack([x,x,x,x],dim=1)\n",
        "x_stacked"
      ],
      "metadata": {
        "colab": {
          "base_uri": "https://localhost:8080/"
        },
        "id": "rsjg0indYxo3",
        "outputId": "13418c84-0000-4822-bf26-30ab29ce25b4"
      },
      "execution_count": 209,
      "outputs": [
        {
          "output_type": "execute_result",
          "data": {
            "text/plain": [
              "tensor([[5, 5, 5, 5],\n",
              "        [2, 2, 2, 2],\n",
              "        [3, 3, 3, 3],\n",
              "        [4, 4, 4, 4],\n",
              "        [5, 5, 5, 5],\n",
              "        [6, 6, 6, 6],\n",
              "        [7, 7, 7, 7],\n",
              "        [8, 8, 8, 8],\n",
              "        [9, 9, 9, 9]])"
            ]
          },
          "metadata": {},
          "execution_count": 209
        }
      ]
    },
    {
      "cell_type": "code",
      "source": [
        "#torch.squeeze() - removes all single dims from target tensor\n",
        "print(f\"Porevious tensor: {x_reshaped1}\")\n",
        "print(f\"Previous shape: {x_reshaped1.shape}\")\n",
        "\n",
        "#Remove extra dim from x_reshaped1\n",
        "x_squeezed = x_reshaped1.squeeze()\n",
        "print(f\"\\nNew tensor: {x_squeezed}\")\n",
        "print(f\"New shape: {x_squeezed.shape}\")"
      ],
      "metadata": {
        "id": "ypFkGuDbZJjq",
        "colab": {
          "base_uri": "https://localhost:8080/"
        },
        "outputId": "21c6b92f-8530-44cb-b53c-dcef4f01d0df"
      },
      "execution_count": 210,
      "outputs": [
        {
          "output_type": "stream",
          "name": "stdout",
          "text": [
            "Porevious tensor: tensor([[5, 2, 3, 4, 5, 6, 7, 8, 9]])\n",
            "Previous shape: torch.Size([1, 9])\n",
            "\n",
            "New tensor: tensor([5, 2, 3, 4, 5, 6, 7, 8, 9])\n",
            "New shape: torch.Size([9])\n"
          ]
        }
      ]
    },
    {
      "cell_type": "code",
      "source": [
        "#torch.unsqueeze(). - adds a single dim to a target tensor\n",
        "print(f\"Porevious tensor: {x_squeezed}\")\n",
        "print(f\"Previous shape: {x_squeezed.shape}\")\n",
        "\n",
        "#Remove extra dim from x_reshaped1\n",
        "x_unsqueezed = x_squeezed.unsqueeze(dim = 0)\n",
        "print(f\"\\nNew tensor: {x_unsqueezed}\")\n",
        "print(f\"New shape: {x_unsqueezed.shape}\")"
      ],
      "metadata": {
        "colab": {
          "base_uri": "https://localhost:8080/"
        },
        "id": "tRqHavhlu7Rs",
        "outputId": "46b239d8-bcfb-452b-c291-b651a22770b6"
      },
      "execution_count": 211,
      "outputs": [
        {
          "output_type": "stream",
          "name": "stdout",
          "text": [
            "Porevious tensor: tensor([5, 2, 3, 4, 5, 6, 7, 8, 9])\n",
            "Previous shape: torch.Size([9])\n",
            "\n",
            "New tensor: tensor([[5, 2, 3, 4, 5, 6, 7, 8, 9]])\n",
            "New shape: torch.Size([1, 9])\n"
          ]
        }
      ]
    },
    {
      "cell_type": "code",
      "source": [
        "x_reshaped1.squeeze().shape"
      ],
      "metadata": {
        "colab": {
          "base_uri": "https://localhost:8080/"
        },
        "id": "SjNN8CPssCIl",
        "outputId": "b323f2f5-ae9a-428a-bc7e-a2ed013dbacb"
      },
      "execution_count": 212,
      "outputs": [
        {
          "output_type": "execute_result",
          "data": {
            "text/plain": [
              "torch.Size([9])"
            ]
          },
          "metadata": {},
          "execution_count": 212
        }
      ]
    },
    {
      "cell_type": "code",
      "source": [
        "# torch.permute - rearranges the dimension of a target tensor in a specified order\n",
        "x_original = torch.rand(size = (224,224,3)) # [height,width,color_channels]\n",
        "\n",
        "#permute the original tensor to rearrange the axis (or dim) order\n",
        "x_permuted = x_original.permute(2,0,1) # shifts axis 0->1, 1->2, 2->0\n",
        "\n",
        "print(f\"Prev shape: {x_original.shape}\")\n",
        "print(f\"New shape: {x_permuted.shape}\") # [color_channels, height, width]"
      ],
      "metadata": {
        "colab": {
          "base_uri": "https://localhost:8080/"
        },
        "id": "xVuKD59_rpjE",
        "outputId": "6b611943-aa78-4ec6-8f4d-e8da7f997789"
      },
      "execution_count": 213,
      "outputs": [
        {
          "output_type": "stream",
          "name": "stdout",
          "text": [
            "Prev shape: torch.Size([224, 224, 3])\n",
            "New shape: torch.Size([3, 224, 224])\n"
          ]
        }
      ]
    },
    {
      "cell_type": "code",
      "source": [
        "x_original[0,0,0]"
      ],
      "metadata": {
        "colab": {
          "base_uri": "https://localhost:8080/"
        },
        "id": "FvDp106EslbY",
        "outputId": "7d50f2b5-7f85-496d-ffa5-ce5e726413a9"
      },
      "execution_count": 214,
      "outputs": [
        {
          "output_type": "execute_result",
          "data": {
            "text/plain": [
              "tensor(0.2295)"
            ]
          },
          "metadata": {},
          "execution_count": 214
        }
      ]
    },
    {
      "cell_type": "code",
      "source": [
        "x_original[0,0,0] = 69\n",
        "x_original[0,0,0]"
      ],
      "metadata": {
        "colab": {
          "base_uri": "https://localhost:8080/"
        },
        "id": "pJllPQBuvwH3",
        "outputId": "c8c20285-a437-42a9-9afe-f4b616e5f6f2"
      },
      "execution_count": 215,
      "outputs": [
        {
          "output_type": "execute_result",
          "data": {
            "text/plain": [
              "tensor(69.)"
            ]
          },
          "metadata": {},
          "execution_count": 215
        }
      ]
    },
    {
      "cell_type": "code",
      "source": [
        "x_permuted[0,0,0] # same cuz shares the same memory"
      ],
      "metadata": {
        "colab": {
          "base_uri": "https://localhost:8080/"
        },
        "id": "HCXIND9tw8yy",
        "outputId": "e2bde167-d2a9-4a0d-ac89-8f843e0a014a"
      },
      "execution_count": 216,
      "outputs": [
        {
          "output_type": "execute_result",
          "data": {
            "text/plain": [
              "tensor(69.)"
            ]
          },
          "metadata": {},
          "execution_count": 216
        }
      ]
    },
    {
      "cell_type": "markdown",
      "source": [
        "## Indexing (selecting data from tensors)\n",
        "\n",
        "Indexing in pytorch is similar to numpy indexing"
      ],
      "metadata": {
        "id": "zq1Bp7GpxMvk"
      }
    },
    {
      "cell_type": "code",
      "source": [
        "# Create a tensor\n",
        "import torch\n",
        "x = torch.arange(1,10).reshape(1,3,3)\n",
        "x,x.shape"
      ],
      "metadata": {
        "colab": {
          "base_uri": "https://localhost:8080/"
        },
        "id": "zFNRaLovyeeV",
        "outputId": "fa55e354-157c-4ef8-936c-10bf0d100084"
      },
      "execution_count": 217,
      "outputs": [
        {
          "output_type": "execute_result",
          "data": {
            "text/plain": [
              "(tensor([[[1, 2, 3],\n",
              "          [4, 5, 6],\n",
              "          [7, 8, 9]]]),\n",
              " torch.Size([1, 3, 3]))"
            ]
          },
          "metadata": {},
          "execution_count": 217
        }
      ]
    },
    {
      "cell_type": "code",
      "source": [
        "# Lets index on our new tensor\n",
        "x[0]"
      ],
      "metadata": {
        "colab": {
          "base_uri": "https://localhost:8080/"
        },
        "id": "UbmQyAuQzBze",
        "outputId": "4646bc1d-0401-42ce-9b2f-6c6aeab17804"
      },
      "execution_count": 218,
      "outputs": [
        {
          "output_type": "execute_result",
          "data": {
            "text/plain": [
              "tensor([[1, 2, 3],\n",
              "        [4, 5, 6],\n",
              "        [7, 8, 9]])"
            ]
          },
          "metadata": {},
          "execution_count": 218
        }
      ]
    },
    {
      "cell_type": "code",
      "source": [
        "# Let's index on the middle bracket (dim=1)\n",
        "print(x[0][0])\n",
        "print(x[0][1])"
      ],
      "metadata": {
        "colab": {
          "base_uri": "https://localhost:8080/"
        },
        "id": "7nX2VePczMmQ",
        "outputId": "b3cc4f54-7d5b-4716-fffb-24a11e8c7701"
      },
      "execution_count": 219,
      "outputs": [
        {
          "output_type": "stream",
          "name": "stdout",
          "text": [
            "tensor([1, 2, 3])\n",
            "tensor([4, 5, 6])\n"
          ]
        }
      ]
    },
    {
      "cell_type": "code",
      "source": [
        " # Let's index on the most inner bracket (last dim)\n",
        "\n",
        "print(x[0][0][0])\n",
        "print(x[0][1][2])\n",
        "print(x[0,2,2])"
      ],
      "metadata": {
        "colab": {
          "base_uri": "https://localhost:8080/"
        },
        "id": "WfiDjCMNzXER",
        "outputId": "dd23c2e7-11f1-4e17-af46-9ae6a139bb00"
      },
      "execution_count": 220,
      "outputs": [
        {
          "output_type": "stream",
          "name": "stdout",
          "text": [
            "tensor(1)\n",
            "tensor(6)\n",
            "tensor(9)\n"
          ]
        }
      ]
    },
    {
      "cell_type": "code",
      "source": [
        "# We can also use \":\" to select all of a target dim\n",
        "\n",
        "print(x[:,0])\n",
        "print(x[:,2])"
      ],
      "metadata": {
        "colab": {
          "base_uri": "https://localhost:8080/"
        },
        "id": "z-90Asdn0KDy",
        "outputId": "1a7e351d-fc11-4920-b4fb-bad379ef3a2f"
      },
      "execution_count": 221,
      "outputs": [
        {
          "output_type": "stream",
          "name": "stdout",
          "text": [
            "tensor([[1, 2, 3]])\n",
            "tensor([[7, 8, 9]])\n"
          ]
        }
      ]
    },
    {
      "cell_type": "code",
      "source": [
        "# Get all values of 0th and 1st dims but only index of 1 aof 2ns dim\n",
        "\n",
        "x[:,:,1]"
      ],
      "metadata": {
        "colab": {
          "base_uri": "https://localhost:8080/"
        },
        "id": "OfSke9BM08G7",
        "outputId": "05930686-4642-414b-8f4f-fb48b9eb58f1"
      },
      "execution_count": 222,
      "outputs": [
        {
          "output_type": "execute_result",
          "data": {
            "text/plain": [
              "tensor([[2, 5, 8]])"
            ]
          },
          "metadata": {},
          "execution_count": 222
        }
      ]
    },
    {
      "cell_type": "code",
      "source": [
        "# Get all values of 0 dim but only the 1 index value of 1st and 2nd dim\n",
        "x[:,1,1]"
      ],
      "metadata": {
        "colab": {
          "base_uri": "https://localhost:8080/"
        },
        "id": "hCE955KW1Siv",
        "outputId": "b04cb237-276a-41d4-ce1e-e3d066f334b9"
      },
      "execution_count": 223,
      "outputs": [
        {
          "output_type": "execute_result",
          "data": {
            "text/plain": [
              "tensor([5])"
            ]
          },
          "metadata": {},
          "execution_count": 223
        }
      ]
    },
    {
      "cell_type": "code",
      "source": [
        "# Get index 0 of 0th and 1st dim and all values of 2nd dim\n",
        "x[0,0,:]"
      ],
      "metadata": {
        "colab": {
          "base_uri": "https://localhost:8080/"
        },
        "id": "R9gyOEWi1zmD",
        "outputId": "e77b8327-6adf-46df-b065-027209068307"
      },
      "execution_count": 224,
      "outputs": [
        {
          "output_type": "execute_result",
          "data": {
            "text/plain": [
              "tensor([1, 2, 3])"
            ]
          },
          "metadata": {},
          "execution_count": 224
        }
      ]
    },
    {
      "cell_type": "code",
      "source": [
        "# Index on x to return 9\n",
        "print(x[0,0,2])\n",
        "\n",
        "# Index on x to return 3,6,9\n",
        "x[:,:,2]"
      ],
      "metadata": {
        "colab": {
          "base_uri": "https://localhost:8080/"
        },
        "id": "B0p6S9132Rus",
        "outputId": "272154c7-cca5-4474-d40e-6669756631e0"
      },
      "execution_count": 225,
      "outputs": [
        {
          "output_type": "stream",
          "name": "stdout",
          "text": [
            "tensor(3)\n"
          ]
        },
        {
          "output_type": "execute_result",
          "data": {
            "text/plain": [
              "tensor([[3, 6, 9]])"
            ]
          },
          "metadata": {},
          "execution_count": 225
        }
      ]
    },
    {
      "cell_type": "markdown",
      "source": [
        "## PyTorch tensors & NumPy\n",
        "\n",
        "NumPy is a popular scientific Python numerical library.\n",
        "\n",
        "And cuz of this, PyTorch has functionality to interact with it.\n",
        "\n",
        "  * Data in NumPy, want in PyTorch tensor -> `torch.from_numpy(ndarray)`\n",
        "  * PyTorch tensor -> NumPy -> `torch.tensor.numpy()`"
      ],
      "metadata": {
        "id": "B4tz4_OL29TG"
      }
    },
    {
      "cell_type": "code",
      "source": [
        "# NumPy array to tensor\n",
        "import torch\n",
        "import numpy as np\n",
        "\n",
        "array = np.arange(1.0,8.0)\n",
        "tensor = torch.from_numpy(array) # warning: when converting from numpy -> pytorch, pytorch reflects numpy's default datatype of float64 unless specified otherwise like `.type(specified_type)`\n",
        "array,tensor"
      ],
      "metadata": {
        "colab": {
          "base_uri": "https://localhost:8080/"
        },
        "id": "14KgvI-24APr",
        "outputId": "0c98cd90-9f12-4332-8fa4-916ad24101d5"
      },
      "execution_count": 226,
      "outputs": [
        {
          "output_type": "execute_result",
          "data": {
            "text/plain": [
              "(array([1., 2., 3., 4., 5., 6., 7.]),\n",
              " tensor([1., 2., 3., 4., 5., 6., 7.], dtype=torch.float64))"
            ]
          },
          "metadata": {},
          "execution_count": 226
        }
      ]
    },
    {
      "cell_type": "code",
      "source": [
        "array.dtype, torch.arange(1.0,8.0).dtype"
      ],
      "metadata": {
        "colab": {
          "base_uri": "https://localhost:8080/"
        },
        "id": "EUJjjEKX4Xkq",
        "outputId": "dedb68b6-f6bc-4cbc-d566-7c96b2300f3e"
      },
      "execution_count": 227,
      "outputs": [
        {
          "output_type": "execute_result",
          "data": {
            "text/plain": [
              "(dtype('float64'), torch.float32)"
            ]
          },
          "metadata": {},
          "execution_count": 227
        }
      ]
    },
    {
      "cell_type": "code",
      "source": [
        "# Changing the value of array wont change the tensor\n",
        "array = array+1\n",
        "array,tensor"
      ],
      "metadata": {
        "colab": {
          "base_uri": "https://localhost:8080/"
        },
        "id": "y2scpyRs5Fq3",
        "outputId": "84291816-7abb-4521-8597-b4c414990d0b"
      },
      "execution_count": 228,
      "outputs": [
        {
          "output_type": "execute_result",
          "data": {
            "text/plain": [
              "(array([2., 3., 4., 5., 6., 7., 8.]),\n",
              " tensor([1., 2., 3., 4., 5., 6., 7.], dtype=torch.float64))"
            ]
          },
          "metadata": {},
          "execution_count": 228
        }
      ]
    },
    {
      "cell_type": "code",
      "source": [
        "# Tensor to NumPy array\n",
        "tensor = torch.ones(7)\n",
        "numpy_tensor = tensor.numpy()\n",
        "tensor, numpy_tensor"
      ],
      "metadata": {
        "colab": {
          "base_uri": "https://localhost:8080/"
        },
        "id": "JS7oUcEc5-4y",
        "outputId": "c14053fd-ea70-476b-a117-666b554f076c"
      },
      "execution_count": 233,
      "outputs": [
        {
          "output_type": "execute_result",
          "data": {
            "text/plain": [
              "(tensor([1., 1., 1., 1., 1., 1., 1.]),\n",
              " array([1., 1., 1., 1., 1., 1., 1.], dtype=float32))"
            ]
          },
          "metadata": {},
          "execution_count": 233
        }
      ]
    },
    {
      "cell_type": "code",
      "source": [
        "numpy_tensor.dtype,tensor.dtype"
      ],
      "metadata": {
        "colab": {
          "base_uri": "https://localhost:8080/"
        },
        "id": "mz7VAMFj624z",
        "outputId": "7336d08f-ce31-4d7f-ec6b-43b7c8fc1d79"
      },
      "execution_count": 234,
      "outputs": [
        {
          "output_type": "execute_result",
          "data": {
            "text/plain": [
              "(dtype('float32'), torch.float32)"
            ]
          },
          "metadata": {},
          "execution_count": 234
        }
      ]
    },
    {
      "cell_type": "code",
      "source": [
        "# Changing the tensor wont change the numpytensor\n",
        "tensor = tensor +1\n",
        "tensor,numpy_tensor"
      ],
      "metadata": {
        "colab": {
          "base_uri": "https://localhost:8080/"
        },
        "id": "xG4LTVL_66pp",
        "outputId": "3ea94985-4b99-4339-bd43-ba6ef106316d"
      },
      "execution_count": 235,
      "outputs": [
        {
          "output_type": "execute_result",
          "data": {
            "text/plain": [
              "(tensor([2., 2., 2., 2., 2., 2., 2.]),\n",
              " array([1., 1., 1., 1., 1., 1., 1.], dtype=float32))"
            ]
          },
          "metadata": {},
          "execution_count": 235
        }
      ]
    },
    {
      "cell_type": "code",
      "source": [
        "# No, tensor += 1 and tensor = tensor + 1 are not exactly the same in PyTorch, even though they may seem similar at first glance."
      ],
      "metadata": {
        "id": "s2Jv0sYK7fA8"
      },
      "execution_count": 231,
      "outputs": []
    }
  ]
}
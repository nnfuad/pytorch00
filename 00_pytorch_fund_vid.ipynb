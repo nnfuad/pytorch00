{
  "nbformat": 4,
  "nbformat_minor": 0,
  "metadata": {
    "colab": {
      "provenance": [],
      "gpuType": "T4",
      "authorship_tag": "ABX9TyOvBbbosCOjXViBidDsi32Q",
      "include_colab_link": true
    },
    "kernelspec": {
      "name": "python3",
      "display_name": "Python 3"
    },
    "language_info": {
      "name": "python"
    },
    "accelerator": "GPU"
  },
  "cells": [
    {
      "cell_type": "markdown",
      "metadata": {
        "id": "view-in-github",
        "colab_type": "text"
      },
      "source": [
        "<a href=\"https://colab.research.google.com/github/nnfuad/pytorch00/blob/main/00_pytorch_fund_vid.ipynb\" target=\"_parent\"><img src=\"https://colab.research.google.com/assets/colab-badge.svg\" alt=\"Open In Colab\"/></a>"
      ]
    },
    {
      "cell_type": "markdown",
      "source": [
        "00. Pytorch fundamentals\n",
        "\n",
        "Resource notebook: https://www.learnpytorch.io/00_pytorch_fundamentals/\n",
        "\n",
        "If you have a question: https://github.com/mrdbourke/pytorch-deep-learning/discussions\n"
      ],
      "metadata": {
        "id": "0V3KasZGoe3I"
      }
    },
    {
      "cell_type": "markdown",
      "source": [],
      "metadata": {
        "id": "_hvKuZmMoclA"
      }
    },
    {
      "cell_type": "code",
      "execution_count": 36,
      "metadata": {
        "colab": {
          "base_uri": "https://localhost:8080/"
        },
        "id": "qDIxYhWnmoMz",
        "outputId": "638be271-3f85-4cc2-a3f6-8ebe9799097d"
      },
      "outputs": [
        {
          "output_type": "stream",
          "name": "stdout",
          "text": [
            "2.3.1+cu121\n"
          ]
        }
      ],
      "source": [
        "import torch\n",
        "import pandas as pd\n",
        "import numpy as np\n",
        "import matplotlib.pyplot as plt\n",
        "\n",
        "print(torch.__version__)"
      ]
    },
    {
      "cell_type": "code",
      "source": [
        "!nvidia-smi"
      ],
      "metadata": {
        "colab": {
          "base_uri": "https://localhost:8080/"
        },
        "id": "GZAVjhMqqVtW",
        "outputId": "a7c98ab1-ddce-4f8f-d1b8-53baebcdf131"
      },
      "execution_count": 37,
      "outputs": [
        {
          "output_type": "stream",
          "name": "stdout",
          "text": [
            "/bin/bash: line 1: nvidia-smi: command not found\n"
          ]
        }
      ]
    },
    {
      "cell_type": "markdown",
      "source": [
        "\n",
        "## Introduction to tensors\n",
        "### way represent data(mostly multidimensional)\n",
        "\n",
        "###Creating tensors\n",
        "\n",
        "PyTorch tensors are created using `torch.tensor()` more at-https://pytorch.org/docs/stable/tensors.html"
      ],
      "metadata": {
        "id": "Uur_8HZrqYeC"
      }
    },
    {
      "cell_type": "markdown",
      "source": [],
      "metadata": {
        "id": "jn1Aj25o6wUT"
      }
    },
    {
      "cell_type": "code",
      "source": [
        "# scalar\n",
        "scalar = torch.tensor(7)\n",
        "scalar"
      ],
      "metadata": {
        "colab": {
          "base_uri": "https://localhost:8080/"
        },
        "id": "7130HoFw7lby",
        "outputId": "d1ba7f8d-3d17-4665-8087-532b81f9be12"
      },
      "execution_count": 38,
      "outputs": [
        {
          "output_type": "execute_result",
          "data": {
            "text/plain": [
              "tensor(7)"
            ]
          },
          "metadata": {},
          "execution_count": 38
        }
      ]
    },
    {
      "cell_type": "code",
      "source": [
        "#scalar(0) doesnt work like matrices or vectors"
      ],
      "metadata": {
        "id": "ZUbgYUFwwEVp"
      },
      "execution_count": 39,
      "outputs": []
    },
    {
      "cell_type": "markdown",
      "source": [
        "##### many dimensions of scalar are there...to find out what dimension in scalar tensor: run `scalar.ndim`"
      ],
      "metadata": {
        "id": "xTidb6Qp71an"
      }
    },
    {
      "cell_type": "code",
      "source": [
        "scalar.ndim"
      ],
      "metadata": {
        "colab": {
          "base_uri": "https://localhost:8080/"
        },
        "id": "KEusbetK9dtu",
        "outputId": "1eaa3793-71eb-42ef-a9bd-58839b4769e1"
      },
      "execution_count": 40,
      "outputs": [
        {
          "output_type": "execute_result",
          "data": {
            "text/plain": [
              "0"
            ]
          },
          "metadata": {},
          "execution_count": 40
        }
      ]
    },
    {
      "cell_type": "markdown",
      "source": [
        "###### get tensor back as py int use `item()`"
      ],
      "metadata": {
        "id": "HrmrXid2-D6g"
      }
    },
    {
      "cell_type": "code",
      "source": [
        "scalar.item()"
      ],
      "metadata": {
        "colab": {
          "base_uri": "https://localhost:8080/"
        },
        "id": "mjspcrZf-QDY",
        "outputId": "476a578d-8c88-4060-d463-efa47610d530"
      },
      "execution_count": 41,
      "outputs": [
        {
          "output_type": "execute_result",
          "data": {
            "text/plain": [
              "7"
            ]
          },
          "metadata": {},
          "execution_count": 41
        }
      ]
    },
    {
      "cell_type": "code",
      "source": [
        "scalar.shape"
      ],
      "metadata": {
        "colab": {
          "base_uri": "https://localhost:8080/"
        },
        "id": "ayFybTXywxsi",
        "outputId": "44b155ab-861a-4354-cabd-706eda5063b2"
      },
      "execution_count": 42,
      "outputs": [
        {
          "output_type": "execute_result",
          "data": {
            "text/plain": [
              "torch.Size([])"
            ]
          },
          "metadata": {},
          "execution_count": 42
        }
      ]
    },
    {
      "cell_type": "markdown",
      "source": [
        "##### vector has 2 values...Dimension and Shape"
      ],
      "metadata": {
        "id": "6QE1oZE2_f3m"
      }
    },
    {
      "cell_type": "code",
      "source": [
        "#vector\n",
        "vector = torch.tensor([7, 4])\n",
        "vector"
      ],
      "metadata": {
        "colab": {
          "base_uri": "https://localhost:8080/"
        },
        "id": "XahVN1hm-aze",
        "outputId": "43428c52-37af-425d-ebfe-152080b9f00b"
      },
      "execution_count": 43,
      "outputs": [
        {
          "output_type": "execute_result",
          "data": {
            "text/plain": [
              "tensor([7, 4])"
            ]
          },
          "metadata": {},
          "execution_count": 43
        }
      ]
    },
    {
      "cell_type": "code",
      "source": [
        "vector[1]"
      ],
      "metadata": {
        "colab": {
          "base_uri": "https://localhost:8080/"
        },
        "id": "G5rUunhsvwxQ",
        "outputId": "76883b9c-3302-4f45-b3fe-27a05c13ca9d"
      },
      "execution_count": 44,
      "outputs": [
        {
          "output_type": "execute_result",
          "data": {
            "text/plain": [
              "tensor(4)"
            ]
          },
          "metadata": {},
          "execution_count": 44
        }
      ]
    },
    {
      "cell_type": "markdown",
      "source": [
        "##### many dimensions of scalar are there...to find out what dimension in vector tensor: run `vector.ndim`"
      ],
      "metadata": {
        "id": "LWgwcC40-_bb"
      }
    },
    {
      "cell_type": "code",
      "source": [
        "vector.ndim"
      ],
      "metadata": {
        "colab": {
          "base_uri": "https://localhost:8080/"
        },
        "id": "UdGHFrBf_ROH",
        "outputId": "06807be6-cd0c-4e4f-de40-66c5b46f9691"
      },
      "execution_count": 45,
      "outputs": [
        {
          "output_type": "execute_result",
          "data": {
            "text/plain": [
              "1"
            ]
          },
          "metadata": {},
          "execution_count": 45
        }
      ]
    },
    {
      "cell_type": "code",
      "source": [
        "vector.shape"
      ],
      "metadata": {
        "colab": {
          "base_uri": "https://localhost:8080/"
        },
        "id": "NTtYbLw7_tJX",
        "outputId": "7c57fa3b-94de-4d7e-df7f-6e6f4be1f71a"
      },
      "execution_count": 46,
      "outputs": [
        {
          "output_type": "execute_result",
          "data": {
            "text/plain": [
              "torch.Size([2])"
            ]
          },
          "metadata": {},
          "execution_count": 46
        }
      ]
    },
    {
      "cell_type": "code",
      "source": [
        "#Matrix\n",
        "MATRIX = torch.tensor([[7,8],\n",
        "                      [9,10]])\n",
        "MATRIX"
      ],
      "metadata": {
        "colab": {
          "base_uri": "https://localhost:8080/"
        },
        "id": "8Sq5V3r_t9jY",
        "outputId": "4eb428e7-27e0-44a1-e0c1-f4777392fb62"
      },
      "execution_count": 47,
      "outputs": [
        {
          "output_type": "execute_result",
          "data": {
            "text/plain": [
              "tensor([[ 7,  8],\n",
              "        [ 9, 10]])"
            ]
          },
          "metadata": {},
          "execution_count": 47
        }
      ]
    },
    {
      "cell_type": "code",
      "source": [
        "MATRIX[0]"
      ],
      "metadata": {
        "colab": {
          "base_uri": "https://localhost:8080/"
        },
        "id": "Bh9rVu-jv9db",
        "outputId": "bb74aa1d-557e-4037-ebcb-a6c1e5ebd0ac"
      },
      "execution_count": 48,
      "outputs": [
        {
          "output_type": "execute_result",
          "data": {
            "text/plain": [
              "tensor([7, 8])"
            ]
          },
          "metadata": {},
          "execution_count": 48
        }
      ]
    },
    {
      "cell_type": "code",
      "source": [
        "MATRIX.ndim"
      ],
      "metadata": {
        "colab": {
          "base_uri": "https://localhost:8080/"
        },
        "id": "k8eQiw12vXj-",
        "outputId": "72d6ec97-ffe2-4ccd-e6f2-21e0976f3545"
      },
      "execution_count": 49,
      "outputs": [
        {
          "output_type": "execute_result",
          "data": {
            "text/plain": [
              "2"
            ]
          },
          "metadata": {},
          "execution_count": 49
        }
      ]
    },
    {
      "cell_type": "code",
      "source": [
        "MATRIX.shape"
      ],
      "metadata": {
        "colab": {
          "base_uri": "https://localhost:8080/"
        },
        "id": "vWF3KIOqvnDt",
        "outputId": "84301be7-8966-41ff-a3a9-188e7ba5884f"
      },
      "execution_count": 50,
      "outputs": [
        {
          "output_type": "execute_result",
          "data": {
            "text/plain": [
              "torch.Size([2, 2])"
            ]
          },
          "metadata": {},
          "execution_count": 50
        }
      ]
    },
    {
      "cell_type": "code",
      "source": [
        "#TENSOR\n",
        "TENSOR = torch.tensor([[[1,2,3],\n",
        "                       [3,6,9],\n",
        "                       [2,4,5]]])\n",
        "TENSOR"
      ],
      "metadata": {
        "colab": {
          "base_uri": "https://localhost:8080/"
        },
        "id": "kC_V7pewwQrM",
        "outputId": "56c01f98-1173-41ea-bca0-22534f3e3e49"
      },
      "execution_count": 51,
      "outputs": [
        {
          "output_type": "execute_result",
          "data": {
            "text/plain": [
              "tensor([[[1, 2, 3],\n",
              "         [3, 6, 9],\n",
              "         [2, 4, 5]]])"
            ]
          },
          "metadata": {},
          "execution_count": 51
        }
      ]
    },
    {
      "cell_type": "code",
      "source": [
        "TENSOR.ndim"
      ],
      "metadata": {
        "colab": {
          "base_uri": "https://localhost:8080/"
        },
        "id": "uAEGxlc_0Lik",
        "outputId": "6cb874f1-d183-4d52-b2ba-b0eef9420dc1"
      },
      "execution_count": 52,
      "outputs": [
        {
          "output_type": "execute_result",
          "data": {
            "text/plain": [
              "3"
            ]
          },
          "metadata": {},
          "execution_count": 52
        }
      ]
    },
    {
      "cell_type": "code",
      "source": [
        "TENSOR.shape"
      ],
      "metadata": {
        "colab": {
          "base_uri": "https://localhost:8080/"
        },
        "id": "7lE3s16O0kcr",
        "outputId": "10c4be87-0438-4402-902a-1f5321279e12"
      },
      "execution_count": 53,
      "outputs": [
        {
          "output_type": "execute_result",
          "data": {
            "text/plain": [
              "torch.Size([1, 3, 3])"
            ]
          },
          "metadata": {},
          "execution_count": 53
        }
      ]
    },
    {
      "cell_type": "code",
      "source": [
        "TENSOR[0]"
      ],
      "metadata": {
        "colab": {
          "base_uri": "https://localhost:8080/"
        },
        "id": "k5Q9F5e-0sP_",
        "outputId": "6fc53157-09ef-412a-d6bc-f290c5a6c603"
      },
      "execution_count": 54,
      "outputs": [
        {
          "output_type": "execute_result",
          "data": {
            "text/plain": [
              "tensor([[1, 2, 3],\n",
              "        [3, 6, 9],\n",
              "        [2, 4, 5]])"
            ]
          },
          "metadata": {},
          "execution_count": 54
        }
      ]
    },
    {
      "cell_type": "code",
      "source": [
        "#PRACTICE TENSORS 1\n",
        "tensor1 = torch.tensor([1])\n",
        "print(tensor1.ndim)\n",
        "print(tensor1.shape)\n",
        "print(tensor1[0])\n",
        "tensor1\n"
      ],
      "metadata": {
        "colab": {
          "base_uri": "https://localhost:8080/"
        },
        "id": "3ceN5YO--33m",
        "outputId": "a60100fd-a930-4a7f-af1b-2881d0f5447e"
      },
      "execution_count": 55,
      "outputs": [
        {
          "output_type": "stream",
          "name": "stdout",
          "text": [
            "1\n",
            "torch.Size([1])\n",
            "tensor(1)\n"
          ]
        },
        {
          "output_type": "execute_result",
          "data": {
            "text/plain": [
              "tensor([1])"
            ]
          },
          "metadata": {},
          "execution_count": 55
        }
      ]
    },
    {
      "cell_type": "code",
      "source": [
        "#PRACTICE TENSORS 2\n",
        "#tensor2 = torch.tensor([1],[2],[3])\n",
        "#TypeError: tensor() takes 1 positional argument but 3 were given\n",
        "#WE HAVE TO MAKE IT LIKE A 2D TENSOR OR WE CAN ADD INSIDE THE SINGLES WHICH WILL REMAIN A 1D TENSOR\n",
        "tensor2 = torch.tensor([1,2,3,4,55,52,54,5,353])\n",
        "print(tensor2.ndim)\n",
        "print(tensor2.shape)\n",
        "print(tensor2[4])\n",
        "tensor2\n"
      ],
      "metadata": {
        "colab": {
          "base_uri": "https://localhost:8080/"
        },
        "id": "rPS45TyP_onW",
        "outputId": "b938a283-6a1f-4e3d-ea26-aef2acee4385"
      },
      "execution_count": 56,
      "outputs": [
        {
          "output_type": "stream",
          "name": "stdout",
          "text": [
            "1\n",
            "torch.Size([9])\n",
            "tensor(55)\n"
          ]
        },
        {
          "output_type": "execute_result",
          "data": {
            "text/plain": [
              "tensor([  1,   2,   3,   4,  55,  52,  54,   5, 353])"
            ]
          },
          "metadata": {},
          "execution_count": 56
        }
      ]
    },
    {
      "cell_type": "code",
      "source": [
        "#PRACTICE TENSORS 3\n",
        "#The below code doesnt work cuz:\n",
        "#ValueError: expected sequence of length 2 at dim 1 (got 3)\n",
        "#tensor3 = torch.tensor([[1,2],\n",
        "#                        [1,2,3],\n",
        "#                        [4]])\n",
        "tensor3 = torch.tensor([[1,2,3],\n",
        "                        [11,12,13],\n",
        "                        [4,5,6]])\n",
        "print(tensor3.ndim)\n",
        "print(tensor3.shape)\n",
        "print(tensor3[2])\n",
        "print(tensor3[1,2])\n",
        "tensor3\n"
      ],
      "metadata": {
        "colab": {
          "base_uri": "https://localhost:8080/"
        },
        "id": "AsKQnUzLBxXr",
        "outputId": "8f5aeae1-e1fd-4daa-8865-f60ffc6aa1e5"
      },
      "execution_count": 57,
      "outputs": [
        {
          "output_type": "stream",
          "name": "stdout",
          "text": [
            "2\n",
            "torch.Size([3, 3])\n",
            "tensor([4, 5, 6])\n",
            "tensor(13)\n"
          ]
        },
        {
          "output_type": "execute_result",
          "data": {
            "text/plain": [
              "tensor([[ 1,  2,  3],\n",
              "        [11, 12, 13],\n",
              "        [ 4,  5,  6]])"
            ]
          },
          "metadata": {},
          "execution_count": 57
        }
      ]
    },
    {
      "cell_type": "code",
      "source": [
        "#PRACTICE TENSORS 4\n",
        "\n",
        "tensor4 = torch.tensor([[1,2,3,4,65],\n",
        "                        [11,12,13,89,56],\n",
        "                        [44,5,6,10,5],\n",
        "                        [1,2,3,46,6]])\n",
        "print(tensor4.ndim)\n",
        "print(tensor4.shape)\n",
        "print(tensor4[2])\n",
        "print(tensor4[1,2])\n",
        "tensor4\n"
      ],
      "metadata": {
        "id": "KH4eAV2QF2l_",
        "colab": {
          "base_uri": "https://localhost:8080/"
        },
        "outputId": "bced8068-6546-4092-c75e-02a70b4531cd"
      },
      "execution_count": 58,
      "outputs": [
        {
          "output_type": "stream",
          "name": "stdout",
          "text": [
            "2\n",
            "torch.Size([4, 5])\n",
            "tensor([44,  5,  6, 10,  5])\n",
            "tensor(13)\n"
          ]
        },
        {
          "output_type": "execute_result",
          "data": {
            "text/plain": [
              "tensor([[ 1,  2,  3,  4, 65],\n",
              "        [11, 12, 13, 89, 56],\n",
              "        [44,  5,  6, 10,  5],\n",
              "        [ 1,  2,  3, 46,  6]])"
            ]
          },
          "metadata": {},
          "execution_count": 58
        }
      ]
    },
    {
      "cell_type": "code",
      "source": [
        "#PRACTICE TENSORS 5\n",
        "\n",
        "tensor5 = torch.tensor([[[1,2,3,4,65],\n",
        "                        [11,12,13,89,56],\n",
        "                        [44,5,6,10,5],\n",
        "                        [1,2,3,46,6]]])\n",
        "print(tensor5.ndim)\n",
        "print(tensor5.shape)\n",
        "\n",
        "#print(tensor5[2]) not possible cuz:\n",
        "#IndexError: index 2 is out of bounds for dimension 0 with size SOOO....:\n",
        "print(tensor5[0,1])\n",
        "\n",
        "#print(tensor5[1,2]) not possible cuz:\n",
        "#index 1 is out of bounds for dimension 0 with size 1 SOOOO....:\n",
        "print(tensor5[0,2,3])\n",
        "\n",
        "tensor5\n"
      ],
      "metadata": {
        "colab": {
          "base_uri": "https://localhost:8080/"
        },
        "id": "ycVqI-XPIm11",
        "outputId": "5509ff28-c11f-4a4a-9e66-9c865b57672a"
      },
      "execution_count": 59,
      "outputs": [
        {
          "output_type": "stream",
          "name": "stdout",
          "text": [
            "3\n",
            "torch.Size([1, 4, 5])\n",
            "tensor([11, 12, 13, 89, 56])\n",
            "tensor(10)\n"
          ]
        },
        {
          "output_type": "execute_result",
          "data": {
            "text/plain": [
              "tensor([[[ 1,  2,  3,  4, 65],\n",
              "         [11, 12, 13, 89, 56],\n",
              "         [44,  5,  6, 10,  5],\n",
              "         [ 1,  2,  3, 46,  6]]])"
            ]
          },
          "metadata": {},
          "execution_count": 59
        }
      ]
    },
    {
      "cell_type": "code",
      "source": [
        "#PRACTICE TENSORS 6\n",
        "\n",
        "#tensor6 = torch.tensor([[[1,2,3,4,65],[32,43,54,65]\n",
        "#                        [11,12,13,89,56],[12,22,32,42]\n",
        "#                        [44,5,6,10,5],[22,33,44,55,66]\n",
        "#                        [1,2,3,46,6],[23,33,43,53]]])\n",
        "#CUZ:   TypeError must be lists, not tuples, were missing commas and first are 5 while seconds were 4 ,have to be equal....SOOO..:\n",
        "\n",
        "#tensor6 = torch.tensor([[[1,2,3,4,65],[32,43,54,65,11],\n",
        "#                        [11,12,13,89,56],[12,22,32,42,22],\n",
        "#                        [44,5,6,10,5],[22,33,44,55,200],\n",
        "#                        [1,2,3,46,6],[23,33,43,53,100]]])\n",
        "#works....but same as before with size[1,8,5]....\n",
        "\n",
        "tensor6 = torch.tensor([\n",
        "                        [[1,2,3,4,65],\n",
        "                        [11,12,13,89,56],\n",
        "                        [44,5,6,10,5],\n",
        "                        [1,2,3,46,6]],\n",
        "\n",
        "                          [[32,43,54,65,11],\n",
        "                          [12,22,32,42,22],\n",
        "                          [22,33,44,55,200],\n",
        "                          [23,33,43,53,100]]\n",
        "                        ])\n",
        "\n",
        "print(tensor6.ndim)\n",
        "print(tensor6.shape)\n",
        "\n",
        "print(tensor6[0,1])\n",
        "\n",
        "print(tensor6[1,2,3])\n",
        "\n",
        "tensor6\n"
      ],
      "metadata": {
        "colab": {
          "base_uri": "https://localhost:8080/"
        },
        "id": "ckI9bspVJEDK",
        "outputId": "d619bb2d-5ac0-446d-9449-64f0f3bde206"
      },
      "execution_count": 60,
      "outputs": [
        {
          "output_type": "stream",
          "name": "stdout",
          "text": [
            "3\n",
            "torch.Size([2, 4, 5])\n",
            "tensor([11, 12, 13, 89, 56])\n",
            "tensor(55)\n"
          ]
        },
        {
          "output_type": "execute_result",
          "data": {
            "text/plain": [
              "tensor([[[  1,   2,   3,   4,  65],\n",
              "         [ 11,  12,  13,  89,  56],\n",
              "         [ 44,   5,   6,  10,   5],\n",
              "         [  1,   2,   3,  46,   6]],\n",
              "\n",
              "        [[ 32,  43,  54,  65,  11],\n",
              "         [ 12,  22,  32,  42,  22],\n",
              "         [ 22,  33,  44,  55, 200],\n",
              "         [ 23,  33,  43,  53, 100]]])"
            ]
          },
          "metadata": {},
          "execution_count": 60
        }
      ]
    },
    {
      "cell_type": "markdown",
      "source": [
        "**END OF PRACTICE**"
      ],
      "metadata": {
        "id": "awfD9cYaSYmF"
      }
    },
    {
      "cell_type": "markdown",
      "source": [
        "##**RANDOM tensors**\n",
        "Why random tensors?\n",
        "\n",
        "it starts with tensors full of random numbers and then adjust those random numbers to better represent the data.\n",
        "\n",
        "`Start with RND nums -> look at data ->update RND nums -> look at data -> update RND nums\n",
        "\n",
        "More at: https://pytorch.org/docs/stable/generated/torch.rand.html"
      ],
      "metadata": {
        "id": "46u-UUXfS1MU"
      }
    },
    {
      "cell_type": "code",
      "source": [
        "#Create a random tensor of size (3,4)\n",
        "rand_tensor = torch.rand(3,4)\n",
        "rand_tensor"
      ],
      "metadata": {
        "colab": {
          "base_uri": "https://localhost:8080/"
        },
        "id": "jaFOWlnXK1rn",
        "outputId": "66b615eb-774d-4e65-b3a3-648c158e77f7"
      },
      "execution_count": 61,
      "outputs": [
        {
          "output_type": "execute_result",
          "data": {
            "text/plain": [
              "tensor([[0.3993, 0.3759, 0.1561, 0.2324],\n",
              "        [0.2690, 0.1359, 0.9811, 0.8101],\n",
              "        [0.0823, 0.8078, 0.7789, 0.1115]])"
            ]
          },
          "metadata": {},
          "execution_count": 61
        }
      ]
    },
    {
      "cell_type": "code",
      "source": [
        "rand_tensor.ndim"
      ],
      "metadata": {
        "colab": {
          "base_uri": "https://localhost:8080/"
        },
        "id": "uuliaE0DUW6q",
        "outputId": "10fab1a4-3554-41e1-d09e-561253853bfc"
      },
      "execution_count": 62,
      "outputs": [
        {
          "output_type": "execute_result",
          "data": {
            "text/plain": [
              "2"
            ]
          },
          "metadata": {},
          "execution_count": 62
        }
      ]
    },
    {
      "cell_type": "code",
      "source": [
        "#Create a random tensor of size (2,4,5)\n",
        "rand_tensor2 = torch.rand(2,4,5)\n",
        "rand_tensor2"
      ],
      "metadata": {
        "colab": {
          "base_uri": "https://localhost:8080/"
        },
        "id": "fkCeJXEqUran",
        "outputId": "65e17f3b-e31c-4116-8f76-977bf2c2c783"
      },
      "execution_count": 63,
      "outputs": [
        {
          "output_type": "execute_result",
          "data": {
            "text/plain": [
              "tensor([[[0.4132, 0.9291, 0.1086, 0.8106, 0.3129],\n",
              "         [0.0170, 0.7003, 0.9457, 0.7237, 0.0294],\n",
              "         [0.7369, 0.0980, 0.3657, 0.8207, 0.9226],\n",
              "         [0.5537, 0.7462, 0.7474, 0.3566, 0.8407]],\n",
              "\n",
              "        [[0.1818, 0.5714, 0.0707, 0.1533, 0.1947],\n",
              "         [0.9814, 0.3022, 0.4797, 0.1147, 0.8079],\n",
              "         [0.6433, 0.8503, 0.1117, 0.3944, 0.2954],\n",
              "         [0.7757, 0.1552, 0.4347, 0.3472, 0.9482]]])"
            ]
          },
          "metadata": {},
          "execution_count": 63
        }
      ]
    },
    {
      "cell_type": "code",
      "source": [
        "rand_tensor2.ndim"
      ],
      "metadata": {
        "colab": {
          "base_uri": "https://localhost:8080/"
        },
        "id": "KANkigTgU13z",
        "outputId": "13d026f4-3bfa-4b26-b20b-884b2e18a75b"
      },
      "execution_count": 64,
      "outputs": [
        {
          "output_type": "execute_result",
          "data": {
            "text/plain": [
              "3"
            ]
          },
          "metadata": {},
          "execution_count": 64
        }
      ]
    },
    {
      "cell_type": "code",
      "source": [
        "rand_tensor2 = torch.rand(2,3,4,5)\n",
        "print(rand_tensor2.shape)\n",
        "print(rand_tensor2.ndim)\n",
        "rand_tensor2"
      ],
      "metadata": {
        "colab": {
          "base_uri": "https://localhost:8080/"
        },
        "id": "poanp2X3U5DB",
        "outputId": "f606bbed-4c0b-4c44-a694-9f0f2cf921f2"
      },
      "execution_count": 65,
      "outputs": [
        {
          "output_type": "stream",
          "name": "stdout",
          "text": [
            "torch.Size([2, 3, 4, 5])\n",
            "4\n"
          ]
        },
        {
          "output_type": "execute_result",
          "data": {
            "text/plain": [
              "tensor([[[[0.7889, 0.2565, 0.1404, 0.1093, 0.2244],\n",
              "          [0.8088, 0.7555, 0.5051, 0.6495, 0.8700],\n",
              "          [0.3406, 0.6264, 0.4986, 0.8417, 0.8429],\n",
              "          [0.9468, 0.3278, 0.4504, 0.4751, 0.0563]],\n",
              "\n",
              "         [[0.5674, 0.0800, 0.0495, 0.6411, 0.3863],\n",
              "          [0.6184, 0.7697, 0.0071, 0.4809, 0.5063],\n",
              "          [0.2325, 0.5051, 0.2626, 0.8593, 0.7141],\n",
              "          [0.9521, 0.7498, 0.9949, 0.8692, 0.4393]],\n",
              "\n",
              "         [[0.6110, 0.5414, 0.3684, 0.8132, 0.1907],\n",
              "          [0.9343, 0.3133, 0.9663, 0.3135, 0.7724],\n",
              "          [0.0764, 0.3618, 0.2640, 0.5443, 0.9046],\n",
              "          [0.2465, 0.6279, 0.2370, 0.9568, 0.6906]]],\n",
              "\n",
              "\n",
              "        [[[0.1011, 0.6887, 0.5221, 0.4450, 0.1650],\n",
              "          [0.9607, 0.5193, 0.8203, 0.6708, 0.6058],\n",
              "          [0.0889, 0.8422, 0.0341, 0.8791, 0.8384],\n",
              "          [0.7098, 0.1137, 0.1481, 0.4233, 0.9976]],\n",
              "\n",
              "         [[0.6423, 0.0825, 0.8278, 0.6609, 0.4353],\n",
              "          [0.8121, 0.0926, 0.6458, 0.5093, 0.4363],\n",
              "          [0.6164, 0.4374, 0.5143, 0.8086, 0.8794],\n",
              "          [0.0994, 0.8026, 0.6985, 0.6408, 0.8817]],\n",
              "\n",
              "         [[0.4155, 0.0857, 0.3994, 0.5830, 0.8382],\n",
              "          [0.8253, 0.3382, 0.2134, 0.9511, 0.1425],\n",
              "          [0.9692, 0.3130, 0.2042, 0.1724, 0.3079],\n",
              "          [0.0731, 0.3599, 0.1493, 0.0478, 0.3412]]]])"
            ]
          },
          "metadata": {},
          "execution_count": 65
        }
      ]
    },
    {
      "cell_type": "code",
      "source": [
        "#Create a random tensor with similar shape to an image tensor\n",
        "random_img_size_tensor = torch.rand(size=(3,224,224)) #height,width,color channels(rgb)\n",
        "random_img_size_tensor.shape,random_img_size_tensor.ndim"
      ],
      "metadata": {
        "colab": {
          "base_uri": "https://localhost:8080/"
        },
        "id": "uKFWWDHoVuh_",
        "outputId": "12e5e626-d235-4a90-c50d-facbe57ace23"
      },
      "execution_count": 66,
      "outputs": [
        {
          "output_type": "execute_result",
          "data": {
            "text/plain": [
              "(torch.Size([3, 224, 224]), 3)"
            ]
          },
          "metadata": {},
          "execution_count": 66
        }
      ]
    },
    {
      "cell_type": "code",
      "source": [
        "#PRACTiCE:\n",
        "rand_tensorrr = torch.rand(1,1,1,1,1,1,1)\n",
        "print(rand_tensorrr.shape)\n",
        "print(rand_tensorrr.ndim)\n",
        "print(rand_tensorrr)\n",
        "\n",
        "rand_tensorr = torch.rand(1,2,3,4)\n",
        "print(rand_tensorr.shape)\n",
        "print(rand_tensorr.ndim)\n",
        "print(rand_tensorr)\n",
        "\n",
        "rand_tensor3 = torch.rand(2,3,4,5)\n",
        "print(rand_tensor3.shape)\n",
        "print(rand_tensor3.ndim)\n",
        "print(rand_tensor3)\n",
        "\n",
        "rand_tensor5 = torch.rand(3,2,3,2,6)\n",
        "print(rand_tensor5.shape)\n",
        "print(rand_tensor5.ndim)\n",
        "rand_tensor5"
      ],
      "metadata": {
        "colab": {
          "base_uri": "https://localhost:8080/"
        },
        "id": "ryU-rGEnWqg6",
        "outputId": "735d69ce-ca13-48f8-f96f-39d821d26c22"
      },
      "execution_count": 67,
      "outputs": [
        {
          "output_type": "stream",
          "name": "stdout",
          "text": [
            "torch.Size([1, 1, 1, 1, 1, 1, 1])\n",
            "7\n",
            "tensor([[[[[[[0.4128]]]]]]])\n",
            "torch.Size([1, 2, 3, 4])\n",
            "4\n",
            "tensor([[[[0.1330, 0.5487, 0.9920, 0.8781],\n",
            "          [0.5431, 0.2255, 0.8167, 0.5996],\n",
            "          [0.4683, 0.4503, 0.7683, 0.4300]],\n",
            "\n",
            "         [[0.2720, 0.3892, 0.2923, 0.6396],\n",
            "          [0.5844, 0.9625, 0.8689, 0.3031],\n",
            "          [0.6979, 0.3992, 0.0066, 0.2111]]]])\n",
            "torch.Size([2, 3, 4, 5])\n",
            "4\n",
            "tensor([[[[9.9269e-01, 2.5266e-01, 9.8726e-01, 9.8659e-01, 9.8592e-01],\n",
            "          [3.2680e-01, 8.9106e-01, 3.4887e-01, 5.4131e-01, 7.0176e-01],\n",
            "          [1.7414e-01, 1.4640e-01, 9.3426e-01, 3.3881e-01, 4.6461e-01],\n",
            "          [5.6925e-01, 1.4234e-01, 4.3848e-01, 8.9970e-01, 9.2423e-01]],\n",
            "\n",
            "         [[2.0206e-01, 8.0971e-01, 4.3622e-01, 6.4440e-01, 5.6815e-01],\n",
            "          [6.2784e-01, 6.0456e-01, 7.8417e-01, 6.6236e-01, 8.6132e-01],\n",
            "          [1.7848e-01, 9.7923e-02, 5.1928e-01, 5.8581e-01, 5.1958e-01],\n",
            "          [8.5582e-01, 3.5898e-01, 8.2396e-01, 8.0861e-01, 3.0344e-01]],\n",
            "\n",
            "         [[7.5470e-01, 5.9045e-01, 3.7762e-01, 2.2306e-01, 1.7492e-01],\n",
            "          [8.5793e-01, 3.1150e-01, 7.4122e-01, 1.2428e-01, 2.3208e-01],\n",
            "          [7.6702e-01, 2.9350e-01, 1.1616e-01, 1.0337e-01, 9.4900e-01],\n",
            "          [3.1422e-01, 9.6455e-01, 5.9723e-01, 1.9895e-01, 8.8224e-01]]],\n",
            "\n",
            "\n",
            "        [[[2.2250e-01, 5.5939e-04, 3.9311e-01, 5.4760e-01, 9.8200e-01],\n",
            "          [1.9157e-01, 9.0971e-02, 6.4992e-01, 4.1531e-01, 7.5726e-01],\n",
            "          [7.8900e-01, 2.0366e-01, 7.6788e-01, 7.2636e-01, 7.3817e-01],\n",
            "          [6.6235e-01, 4.0904e-01, 1.4806e-01, 6.5841e-01, 5.3491e-01]],\n",
            "\n",
            "         [[3.6569e-01, 9.8966e-01, 2.4071e-01, 7.7943e-01, 2.4864e-01],\n",
            "          [9.0728e-01, 9.8026e-01, 5.6782e-02, 9.6954e-01, 7.5162e-01],\n",
            "          [2.7521e-01, 2.0426e-01, 2.7518e-01, 4.1391e-01, 8.9105e-01],\n",
            "          [9.8288e-01, 7.0355e-01, 9.2292e-01, 5.8282e-02, 9.9345e-01]],\n",
            "\n",
            "         [[6.1331e-03, 7.9046e-01, 7.0652e-01, 8.0426e-01, 6.7865e-01],\n",
            "          [1.0224e-02, 6.7600e-01, 7.6323e-01, 4.0697e-01, 9.9727e-01],\n",
            "          [4.7588e-01, 5.4320e-01, 7.7757e-02, 8.2382e-01, 1.9166e-01],\n",
            "          [3.6383e-01, 5.0296e-01, 1.2643e-01, 3.8093e-01, 5.9935e-01]]]])\n",
            "torch.Size([3, 2, 3, 2, 6])\n",
            "5\n"
          ]
        },
        {
          "output_type": "execute_result",
          "data": {
            "text/plain": [
              "tensor([[[[[0.1555, 0.9027, 0.5612, 0.3048, 0.1623, 0.8863],\n",
              "           [0.4617, 0.4285, 0.4911, 0.4032, 0.8531, 0.3537]],\n",
              "\n",
              "          [[0.6444, 0.5470, 0.1738, 0.4399, 0.6700, 0.4175],\n",
              "           [0.6959, 0.7389, 0.1427, 0.9652, 0.4425, 0.1759]],\n",
              "\n",
              "          [[0.9074, 0.7071, 0.9263, 0.9082, 0.5174, 0.4380],\n",
              "           [0.8172, 0.9389, 0.5165, 0.0475, 0.9590, 0.3663]]],\n",
              "\n",
              "\n",
              "         [[[0.4433, 0.8723, 0.4233, 0.6723, 0.3841, 0.2268],\n",
              "           [0.7239, 0.8180, 0.1994, 0.4079, 0.3710, 0.8769]],\n",
              "\n",
              "          [[0.7231, 0.6783, 0.2915, 0.3996, 0.2473, 0.7170],\n",
              "           [0.5106, 0.3493, 0.9200, 0.8386, 0.3135, 0.8846]],\n",
              "\n",
              "          [[0.6075, 0.4251, 0.3385, 0.1995, 0.7320, 0.1931],\n",
              "           [0.1292, 0.9324, 0.1510, 0.1217, 0.2788, 0.6474]]]],\n",
              "\n",
              "\n",
              "\n",
              "        [[[[0.2056, 0.2199, 0.4733, 0.2265, 0.8451, 0.5039],\n",
              "           [0.6340, 0.3268, 0.8226, 0.3721, 0.0839, 0.4658]],\n",
              "\n",
              "          [[0.4761, 0.1233, 0.1965, 0.2355, 0.6957, 0.7872],\n",
              "           [0.3851, 0.8364, 0.3502, 0.0910, 0.0909, 0.1206]],\n",
              "\n",
              "          [[0.8049, 0.0932, 0.0880, 0.4014, 0.0091, 0.1817],\n",
              "           [0.7871, 0.3546, 0.9747, 0.0398, 0.0880, 0.2746]]],\n",
              "\n",
              "\n",
              "         [[[0.5742, 0.5470, 0.8906, 0.8203, 0.8834, 0.4894],\n",
              "           [0.4966, 0.7696, 0.4482, 0.8049, 0.1903, 0.8040]],\n",
              "\n",
              "          [[0.2201, 0.5875, 0.5591, 0.5522, 0.8765, 0.2836],\n",
              "           [0.3362, 0.9623, 0.3158, 0.3569, 0.1345, 0.5676]],\n",
              "\n",
              "          [[0.1878, 0.0176, 0.5942, 0.4339, 0.6736, 0.2467],\n",
              "           [0.8523, 0.0513, 0.3904, 0.0727, 0.9282, 0.5657]]]],\n",
              "\n",
              "\n",
              "\n",
              "        [[[[0.6594, 0.4121, 0.4579, 0.3752, 0.3119, 0.1407],\n",
              "           [0.6177, 0.0609, 0.1699, 0.7032, 0.8604, 0.4795]],\n",
              "\n",
              "          [[0.0406, 0.9004, 0.1612, 0.6984, 0.1903, 0.4273],\n",
              "           [0.7434, 0.0859, 0.7242, 0.8607, 0.9230, 0.3621]],\n",
              "\n",
              "          [[0.7938, 0.0244, 0.2172, 0.1477, 0.8706, 0.1532],\n",
              "           [0.5965, 0.6892, 0.2978, 0.9843, 0.5798, 0.1829]]],\n",
              "\n",
              "\n",
              "         [[[0.2084, 0.9059, 0.3097, 0.9056, 0.8271, 0.6735],\n",
              "           [0.9904, 0.1583, 0.7120, 0.7058, 0.7930, 0.2321]],\n",
              "\n",
              "          [[0.7133, 0.3426, 0.3493, 0.9028, 0.7608, 0.2559],\n",
              "           [0.5971, 0.4295, 0.6705, 0.1563, 0.1939, 0.1827]],\n",
              "\n",
              "          [[0.5492, 0.9982, 0.0886, 0.6354, 0.1728, 0.2296],\n",
              "           [0.4186, 0.1257, 0.3680, 0.2716, 0.8400, 0.7482]]]]])"
            ]
          },
          "metadata": {},
          "execution_count": 67
        }
      ]
    },
    {
      "cell_type": "markdown",
      "source": [
        "###Zeros and ones"
      ],
      "metadata": {
        "id": "fl8RY-9kWu6-"
      }
    },
    {
      "cell_type": "code",
      "source": [
        "# Create a tensor of all zeros\n",
        "zeros = torch.zeros(size=(3,4))\n",
        "zeros"
      ],
      "metadata": {
        "colab": {
          "base_uri": "https://localhost:8080/"
        },
        "id": "6NwiqEGfjnB4",
        "outputId": "fba2bf02-5dd1-43ac-cf14-6495e38a9908"
      },
      "execution_count": 68,
      "outputs": [
        {
          "output_type": "execute_result",
          "data": {
            "text/plain": [
              "tensor([[0., 0., 0., 0.],\n",
              "        [0., 0., 0., 0.],\n",
              "        [0., 0., 0., 0.]])"
            ]
          },
          "metadata": {},
          "execution_count": 68
        }
      ]
    },
    {
      "cell_type": "code",
      "source": [
        "zeros*rand_tensor"
      ],
      "metadata": {
        "colab": {
          "base_uri": "https://localhost:8080/"
        },
        "id": "kUUU4cKdkDcq",
        "outputId": "e645a3ff-b53d-4f8c-ef3a-57198598560e"
      },
      "execution_count": 69,
      "outputs": [
        {
          "output_type": "execute_result",
          "data": {
            "text/plain": [
              "tensor([[0., 0., 0., 0.],\n",
              "        [0., 0., 0., 0.],\n",
              "        [0., 0., 0., 0.]])"
            ]
          },
          "metadata": {},
          "execution_count": 69
        }
      ]
    },
    {
      "cell_type": "code",
      "source": [
        "#Create a tensor of all ones\n",
        "ones = torch.ones(size=(3,4))\n",
        "ones"
      ],
      "metadata": {
        "colab": {
          "base_uri": "https://localhost:8080/"
        },
        "id": "ZJ3-qJ7EkHJv",
        "outputId": "247eac45-1705-4d73-f0e0-970f0ae08ffd"
      },
      "execution_count": 71,
      "outputs": [
        {
          "output_type": "execute_result",
          "data": {
            "text/plain": [
              "tensor([[1., 1., 1., 1.],\n",
              "        [1., 1., 1., 1.],\n",
              "        [1., 1., 1., 1.]])"
            ]
          },
          "metadata": {},
          "execution_count": 71
        }
      ]
    },
    {
      "cell_type": "code",
      "source": [
        "ones.dtype"
      ],
      "metadata": {
        "colab": {
          "base_uri": "https://localhost:8080/"
        },
        "id": "NSM4TrKrkhBS",
        "outputId": "8d26f914-58c9-43c9-be8f-16cabfe61e9d"
      },
      "execution_count": 72,
      "outputs": [
        {
          "output_type": "execute_result",
          "data": {
            "text/plain": [
              "torch.float32"
            ]
          },
          "metadata": {},
          "execution_count": 72
        }
      ]
    },
    {
      "cell_type": "code",
      "source": [
        "ones*zeros"
      ],
      "metadata": {
        "colab": {
          "base_uri": "https://localhost:8080/"
        },
        "id": "0AoqM5Zukqtq",
        "outputId": "6669b3d2-7395-4d72-aa61-bfd212034ab8"
      },
      "execution_count": 73,
      "outputs": [
        {
          "output_type": "execute_result",
          "data": {
            "text/plain": [
              "tensor([[0., 0., 0., 0.],\n",
              "        [0., 0., 0., 0.],\n",
              "        [0., 0., 0., 0.]])"
            ]
          },
          "metadata": {},
          "execution_count": 73
        }
      ]
    },
    {
      "cell_type": "markdown",
      "source": [
        "### Creating a range of tensors and tensors-like"
      ],
      "metadata": {
        "id": "Z6lvDgSwk49w"
      }
    },
    {
      "cell_type": "code",
      "source": [
        "# Use torch.range()\n",
        "one_to_ten = torch.arange(0,1000,78)\n",
        "one_to_ten"
      ],
      "metadata": {
        "colab": {
          "base_uri": "https://localhost:8080/"
        },
        "id": "7xR8uAlVlGWh",
        "outputId": "74558582-95d9-4fc0-882c-cff7e15c3e9f"
      },
      "execution_count": 76,
      "outputs": [
        {
          "output_type": "execute_result",
          "data": {
            "text/plain": [
              "tensor([  0,  78, 156, 234, 312, 390, 468, 546, 624, 702, 780, 858, 936])"
            ]
          },
          "metadata": {},
          "execution_count": 76
        }
      ]
    },
    {
      "cell_type": "code",
      "source": [
        "# Tensor like\n",
        "one_to_ten_like = torch.zeros_like(input=one_to_ten)\n",
        "one_to_ten_like"
      ],
      "metadata": {
        "colab": {
          "base_uri": "https://localhost:8080/"
        },
        "id": "duU9NesdlgIW",
        "outputId": "36299a28-92b7-4e81-8697-09e8ccc37cf2"
      },
      "execution_count": 78,
      "outputs": [
        {
          "output_type": "execute_result",
          "data": {
            "text/plain": [
              "tensor([0, 0, 0, 0, 0, 0, 0, 0, 0, 0, 0, 0, 0])"
            ]
          },
          "metadata": {},
          "execution_count": 78
        }
      ]
    },
    {
      "cell_type": "code",
      "source": [
        "two_to_ten_like = torch.ones_like(input=one_to_ten)\n",
        "two_to_ten_like"
      ],
      "metadata": {
        "colab": {
          "base_uri": "https://localhost:8080/"
        },
        "id": "lrEJhSQhl00f",
        "outputId": "6e647918-8bb3-47cc-fb29-f9b1f6791a1c"
      },
      "execution_count": 82,
      "outputs": [
        {
          "output_type": "execute_result",
          "data": {
            "text/plain": [
              "tensor([1, 1, 1, 1, 1, 1, 1, 1, 1, 1, 1, 1, 1])"
            ]
          },
          "metadata": {},
          "execution_count": 82
        }
      ]
    },
    {
      "cell_type": "code",
      "source": [],
      "metadata": {
        "id": "dGpn8QXCmcLx"
      },
      "execution_count": null,
      "outputs": []
    }
  ]
}